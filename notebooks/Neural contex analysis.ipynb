{
 "cells": [
  {
   "cell_type": "code",
   "execution_count": 1,
   "metadata": {},
   "outputs": [
    {
     "name": "stderr",
     "output_type": "stream",
     "text": [
      "/home/jgosmann/.virtualenvs/cue/lib/python3.6/site-packages/pandas/compat/__init__.py:84: UserWarning: Could not import the lzma module. Your installed Python is incomplete. Attempting to use lzma compression will result in a RuntimeError.\n",
      "  warnings.warn(msg)\n"
     ]
    }
   ],
   "source": [
    "from collections import defaultdict\n",
    "\n",
    "import numpy as np\n",
    "import matplotlib.pyplot as plt\n",
    "from matplotlib.ticker import MaxNLocator\n",
    "import pandas as pd\n",
    "from scipy.stats import ttest_ind\n",
    "import seaborn as sns\n",
    "\n",
    "from cue.analysis.analysis import bootstrap_ci"
   ]
  },
  {
   "cell_type": "code",
   "execution_count": 2,
   "metadata": {},
   "outputs": [],
   "source": [
    "from cue.utils.plotting import *"
   ]
  },
  {
   "cell_type": "code",
   "execution_count": 3,
   "metadata": {},
   "outputs": [],
   "source": [
    "style()"
   ]
  },
  {
   "cell_type": "code",
   "execution_count": 4,
   "metadata": {},
   "outputs": [],
   "source": [
    "data = np.load('result.npz')"
   ]
  },
  {
   "cell_type": "code",
   "execution_count": 5,
   "metadata": {},
   "outputs": [
    {
     "data": {
      "text/plain": [
       "['trial',\n",
       " 'ordinal_prob',\n",
       " 'vocab_vectors',\n",
       " 'p_ctx_spikes',\n",
       " 'noise',\n",
       " 'positions',\n",
       " 't',\n",
       " 'p_recalls',\n",
       " 'distractor_rate',\n",
       " 'seed',\n",
       " 'timings',\n",
       " 'vocab_keys',\n",
       " 'pos_vectors',\n",
       " 'p_pos',\n",
       " 'min_evidence',\n",
       " 'pos_keys',\n",
       " 'responses']"
      ]
     },
     "execution_count": 5,
     "metadata": {},
     "output_type": "execute_result"
    }
   ],
   "source": [
    "list(data.keys())"
   ]
  },
  {
   "cell_type": "code",
   "execution_count": 6,
   "metadata": {},
   "outputs": [],
   "source": [
    "raw_spikes = data['p_ctx_spikes']"
   ]
  },
  {
   "cell_type": "code",
   "execution_count": 7,
   "metadata": {},
   "outputs": [],
   "source": [
    "t = data['t'][0]"
   ]
  },
  {
   "cell_type": "code",
   "execution_count": 8,
   "metadata": {},
   "outputs": [],
   "source": [
    "timings = np.sort(data['timings'], axis=1) + 1.2 * 12 # + 16\n",
    "responses = data['responses']"
   ]
  },
  {
   "cell_type": "code",
   "execution_count": 9,
   "metadata": {},
   "outputs": [],
   "source": [
    "pi_epochs = [list(range(1200 * i, 1200 * (i+1))) for i in range(12)]"
   ]
  },
  {
   "cell_type": "markdown",
   "metadata": {},
   "source": [
    "# Context similarity"
   ]
  },
  {
   "cell_type": "code",
   "execution_count": 10,
   "metadata": {},
   "outputs": [
    {
     "name": "stderr",
     "output_type": "stream",
     "text": [
      "/home/jgosmann/.virtualenvs/cue/lib/python3.6/site-packages/ipykernel_launcher.py:8: RuntimeWarning: invalid value encountered in true_divide\n",
      "  \n"
     ]
    }
   ],
   "source": [
    "dfs_recall = defaultdict(list)\n",
    "dfs_pres = defaultdict(list)\n",
    "for i, trial_data in enumerate(raw_spikes):\n",
    "    events = list(np.take(trial_data, pi_epochs, axis=0))\n",
    "    r_pos = []\n",
    "    \n",
    "    firing = [np.sum(e, axis=0) / 1200. for e in events]\n",
    "    z_scores = (firing - np.mean(firing, axis=0, keepdims=1)) / np.std(firing, axis=0, keepdims=1)\n",
    "    \n",
    "    for k in range(len(events)):\n",
    "        df = pd.DataFrame({\n",
    "            'trial': [i] * 800,\n",
    "            'unit': range(800),\n",
    "            'z-score': z_scores[k]\n",
    "        }).dropna().set_index(['trial', 'unit'])\n",
    "        if k < 12:\n",
    "            dfs_pres[k].append(df)\n",
    "        else:\n",
    "            dfs_recall[r_pos[k - 12]].append(df)\n",
    "            \n",
    "dfs_pres = {k: pd.concat(v) for k, v in dfs_pres.items()}\n",
    "dfs_recall = {k: pd.concat(v) for k, v in dfs_recall.items()}"
   ]
  },
  {
   "cell_type": "code",
   "execution_count": 11,
   "metadata": {},
   "outputs": [],
   "source": [
    "def calc_recency_sim(pos):\n",
    "    similarity = (\n",
    "        (dfs_pres[11] * dfs_pres[pos]).dropna().groupby('trial').sum() / 800.)['z-score']\n",
    "    μ = similarity.mean()\n",
    "    ci_low, ci_up = bootstrap_ci(similarity, np.mean)\n",
    "    return μ, (μ - ci_low, ci_up - μ)"
   ]
  },
  {
   "cell_type": "code",
   "execution_count": 12,
   "metadata": {},
   "outputs": [],
   "source": [
    "x = np.arange(12)\n",
    "recency = x - 11\n",
    "similarity_mean, similarity_ci = zip(*(calc_recency_sim(a) for a in x))"
   ]
  },
  {
   "cell_type": "markdown",
   "metadata": {},
   "source": [
    "# Context reinstantion"
   ]
  },
  {
   "cell_type": "code",
   "execution_count": 13,
   "metadata": {},
   "outputs": [
    {
     "name": "stderr",
     "output_type": "stream",
     "text": [
      "/home/jgosmann/.virtualenvs/cue/lib/python3.6/site-packages/ipykernel_launcher.py:23: RuntimeWarning: invalid value encountered in true_divide\n"
     ]
    }
   ],
   "source": [
    "dfs_pres = defaultdict(list)\n",
    "dfs_pre = defaultdict(list)\n",
    "dfs_post = defaultdict(list)\n",
    "for i, trial_data in enumerate(raw_spikes):\n",
    "    events = list(np.take(trial_data, pi_epochs, axis=0))\n",
    "    events_post = []\n",
    "    events_pre = []\n",
    "    r_pos = []\n",
    "    for j in range(12):\n",
    "        if not np.isnan(responses[i, j]):\n",
    "            first_index = int(timings[i, j] * 1000)\n",
    "            end_index = timings[i, j+1]\n",
    "            if np.isnan(end_index):\n",
    "                end_index = len(trial_data)\n",
    "            else:\n",
    "                end_index = int(1000 * end_index)\n",
    "            events_post.append(trial_data[first_index:end_index, :])\n",
    "            events_pre.append(trial_data[first_index - 1200:first_index, :])\n",
    "            r_pos.append(responses[i, j])\n",
    "    \n",
    "    xevents = events + events_pre + events_post\n",
    "    firing = [np.mean(e, axis=0) for e in xevents]\n",
    "    z_scores = (firing - np.mean(firing, axis=0, keepdims=1)) / np.std(firing, axis=0, keepdims=1)\n",
    "    \n",
    "    for k in range(len(events)):\n",
    "        df = pd.DataFrame({\n",
    "            'trial': [i] * 800,\n",
    "            'unit': range(800),\n",
    "            'z-score': z_scores[k]\n",
    "        }).dropna().set_index(['trial', 'unit'])\n",
    "        dfs_pres[k].append(df)\n",
    "    for k in range(len(events_pre)):\n",
    "        df = pd.DataFrame({\n",
    "            'trial': [i] * 800,\n",
    "            'unit': range(800),\n",
    "            'z-score': z_scores[k + len(events)]\n",
    "        }).dropna().set_index(['trial', 'unit'])\n",
    "        dfs_pre[r_pos[k]].append(df)\n",
    "        df = pd.DataFrame({\n",
    "            'trial': [i] * 800,\n",
    "            'unit': range(800),\n",
    "            'z-score': z_scores[k + len(events) + len(events_pre)]\n",
    "        }).dropna().set_index(['trial', 'unit'])\n",
    "        dfs_post[r_pos[k]].append(df)\n",
    "\n",
    "dfs_pres = {k: pd.concat(v) for k, v in dfs_pres.items()}          \n",
    "dfs_pre = {k: pd.concat(v) for k, v in dfs_pre.items()}\n",
    "dfs_post = {k: pd.concat(v) for k, v in dfs_post.items()}"
   ]
  },
  {
   "cell_type": "code",
   "execution_count": 14,
   "metadata": {},
   "outputs": [],
   "source": [
    "def restore_ind(pos, cmp_data, label):\n",
    "    y = (dfs_pres[pos] * cmp_data[pos]).dropna().groupby('trial').sum()['z-score'] / 800.\n",
    "    return pd.DataFrame({\n",
    "        label: y,\n",
    "        'pos': [pos] * len(y)\n",
    "    }).reset_index().set_index(['pos', 'trial'])"
   ]
  },
  {
   "cell_type": "code",
   "execution_count": 15,
   "metadata": {},
   "outputs": [],
   "source": [
    "pre = pd.concat([restore_ind(a, dfs_pre, 'pre') for a in range(12)])\n",
    "post = pd.concat([restore_ind(a, dfs_post, 'post') for a in range(12)])"
   ]
  },
  {
   "cell_type": "code",
   "execution_count": 16,
   "metadata": {},
   "outputs": [],
   "source": [
    "df = pre.merge(post, left_index=True, right_index=True).reset_index()\n",
    "df['diff'] = df['post'] - df['pre']"
   ]
  },
  {
   "cell_type": "code",
   "execution_count": 17,
   "metadata": {},
   "outputs": [],
   "source": [
    "reinst_mean = np.mean(df['diff'])\n",
    "reinst_ci = bootstrap_ci(df['diff'], np.mean)"
   ]
  },
  {
   "cell_type": "code",
   "execution_count": 18,
   "metadata": {},
   "outputs": [
    {
     "name": "stdout",
     "output_type": "stream",
     "text": [
      "0.12845138\n",
      "(0.11092464, 0.14505358)\n"
     ]
    }
   ],
   "source": [
    "print(reinst_mean)\n",
    "print(reinst_ci)"
   ]
  },
  {
   "cell_type": "code",
   "execution_count": 19,
   "metadata": {},
   "outputs": [
    {
     "data": {
      "text/plain": [
       "Ttest_indResult(statistic=-9.525514655620722, pvalue=1.3186972347329564e-20)"
      ]
     },
     "execution_count": 19,
     "metadata": {},
     "output_type": "execute_result"
    }
   ],
   "source": [
    "ttest_ind(df['pre'], df['post'])"
   ]
  },
  {
   "cell_type": "markdown",
   "metadata": {},
   "source": [
    "# Plot"
   ]
  },
  {
   "cell_type": "code",
   "execution_count": 20,
   "metadata": {},
   "outputs": [],
   "source": [
    "reinst_dl = (reinst_mean - reinst_ci[0]) / np.sqrt(2.)\n",
    "reinst_du = (reinst_mean + reinst_ci[1]) / np.sqrt(2.)\n",
    "\n",
    "pre_mean = np.mean(df['pre'])\n",
    "post_mean = np.mean(df['post'])"
   ]
  },
  {
   "cell_type": "code",
   "execution_count": 21,
   "metadata": {},
   "outputs": [
    {
     "data": {
      "image/png": "[encoded data removed]",
      "text/plain": [
       "<Figure size 389.102x162.126 with 2 Axes>"
      ]
     },
     "metadata": {},
     "output_type": "display_data"
    }
   ],
   "source": [
    "fig = plt.figure(figsize=(textwidth, row_height))\n",
    "\n",
    "ax = fig.add_subplot(1, 2, 1)\n",
    "ax.errorbar(recency, similarity_mean, np.asarray(similarity_ci).T, marker='o', markersize=3)\n",
    "ax.xaxis.set_major_locator(MaxNLocator(integer=True))\n",
    "ax.set_xlabel(\"Recency\")\n",
    "ax.set_ylabel(\"Similarity\")\n",
    "ax.set_title(\"(a) Neural similarity of context\")\n",
    "\n",
    "ax = fig.add_subplot(1, 2, 2)\n",
    "sns.scatterplot(x='pre', y='post', data=df, marker='+', ax=ax, linewidth=0.2)\n",
    "ax.set_aspect(1.)\n",
    "extends = np.array([-1., 1.])\n",
    "ax.plot(extends, extends, c='orange', linewidth=0.5)\n",
    "ax.fill_between(\n",
    "    extends,\n",
    "    extends + reinst_ci[0],\n",
    "    extends + reinst_ci[1],\n",
    "    color='tab:red', alpha=0.75, lw=0)\n",
    "ax.set_xlim(-1., 1)\n",
    "ax.set_ylim(-1., 1)\n",
    "ax.set_xlabel(\"Similarity pre-recall\")\n",
    "ax.set_ylabel(\"Similarity post-recall\")\n",
    "ax.set_title(\"(b) Reinstantiation of context\")\n",
    "\n",
    "sns.despine(fig, top=False, right=False)\n",
    "fig.tight_layout()"
   ]
  },
  {
   "cell_type": "code",
   "execution_count": 22,
   "metadata": {},
   "outputs": [],
   "source": [
    "save_tight_fig(fig, './neural-context.pdf')"
   ]
  },
  {
   "cell_type": "code",
   "execution_count": null,
   "metadata": {},
   "outputs": [],
   "source": []
  }
 ],
 "metadata": {
  "kernelspec": {
   "display_name": "Python 3",
   "language": "python",
   "name": "python3"
  },
  "language_info": {
   "codemirror_mode": {
    "name": "ipython",
    "version": 3
   },
   "file_extension": ".py",
   "mimetype": "text/x-python",
   "name": "python",
   "nbconvert_exporter": "python",
   "pygments_lexer": "ipython3",
   "version": "3.6.8"
  }
 },
 "nbformat": 4,
 "nbformat_minor": 2
}
