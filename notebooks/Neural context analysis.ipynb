{
 "cells": [
  {
   "cell_type": "code",
   "execution_count": 1,
   "metadata": {},
   "outputs": [
    {
     "name": "stderr",
     "output_type": "stream",
     "text": [
      "/home/jgosmann/.virtualenvs/cue/lib/python3.8/site-packages/pandas/compat/__init__.py:117: UserWarning: Could not import the lzma module. Your installed Python is incomplete. Attempting to use lzma compression will result in a RuntimeError.\n",
      "  warnings.warn(msg)\n"
     ]
    }
   ],
   "source": [
    "from collections import defaultdict\n",
    "\n",
    "import numpy as np\n",
    "import matplotlib.pyplot as plt\n",
    "from matplotlib.ticker import MaxNLocator\n",
    "import pandas as pd\n",
    "from scipy.stats import ttest_ind\n",
    "import seaborn as sns\n",
    "\n",
    "from cue.analysis.analysis import bootstrap_ci"
   ]
  },
  {
   "cell_type": "code",
   "execution_count": 2,
   "metadata": {},
   "outputs": [],
   "source": [
    "from cue.utils.plotting import *"
   ]
  },
  {
   "cell_type": "code",
   "execution_count": 3,
   "metadata": {},
   "outputs": [],
   "source": [
    "style()"
   ]
  },
  {
   "cell_type": "code",
   "execution_count": 4,
   "metadata": {},
   "outputs": [],
   "source": [
    "data = np.load('../psy-work/recognition/result.npz')"
   ]
  },
  {
   "cell_type": "code",
   "execution_count": 5,
   "metadata": {},
   "outputs": [],
   "source": [
    "data_wo_pos = np.load('../psy-work/recognition-without-pos/result.npz')"
   ]
  },
  {
   "cell_type": "code",
   "execution_count": 6,
   "metadata": {},
   "outputs": [
    {
     "name": "stdout",
     "output_type": "stream",
     "text": [
      "68\n",
      "75\n"
     ]
    }
   ],
   "source": [
    "print(len(data['trial']))\n",
    "print(len(data_wo_pos['trial']))"
   ]
  },
  {
   "cell_type": "code",
   "execution_count": 7,
   "metadata": {},
   "outputs": [
    {
     "data": {
      "text/plain": [
       "['noise',\n",
       " 'seed',\n",
       " 'pos_vectors',\n",
       " 'p_tf_out',\n",
       " 'p_vhat',\n",
       " 't',\n",
       " 'p_phat',\n",
       " 'positions',\n",
       " 'p_pos',\n",
       " 'pos_keys',\n",
       " 'ordinal_prob',\n",
       " 'min_evidence',\n",
       " 'p_p',\n",
       " 'trial',\n",
       " 'distractor_rate',\n",
       " 'p_ose',\n",
       " 'vocab_keys',\n",
       " 'recognition_order',\n",
       " 'p_ctx_spikes',\n",
       " 'vocab_vectors']"
      ]
     },
     "execution_count": 7,
     "metadata": {},
     "output_type": "execute_result"
    }
   ],
   "source": [
    "list(data.keys())"
   ]
  },
  {
   "cell_type": "code",
   "execution_count": 8,
   "metadata": {},
   "outputs": [],
   "source": [
    "raw_spikes = data['p_ctx_spikes']"
   ]
  },
  {
   "cell_type": "code",
   "execution_count": 9,
   "metadata": {},
   "outputs": [],
   "source": [
    "t = data['t'][0]"
   ]
  },
  {
   "cell_type": "markdown",
   "metadata": {},
   "source": [
    "# Context similarity"
   ]
  },
  {
   "cell_type": "code",
   "execution_count": 10,
   "metadata": {},
   "outputs": [],
   "source": [
    "pi_epochs = [list(range(1000 * i, 1000 * (i+1))) for i in range(10)]"
   ]
  },
  {
   "cell_type": "code",
   "execution_count": 11,
   "metadata": {},
   "outputs": [
    {
     "name": "stderr",
     "output_type": "stream",
     "text": [
      "<ipython-input-11-e51a23c051a5>:8: RuntimeWarning: invalid value encountered in true_divide\n",
      "  z_scores = (firing - np.mean(firing, axis=0, keepdims=1)) / np.std(firing, axis=0, keepdims=1)\n"
     ]
    }
   ],
   "source": [
    "dfs_recall = defaultdict(list)\n",
    "dfs_pres = defaultdict(list)\n",
    "for i, trial_data in enumerate(raw_spikes):\n",
    "    events = list(np.take(trial_data, pi_epochs, axis=0))\n",
    "    r_pos = []\n",
    "    \n",
    "    firing = [np.sum(e, axis=0) / 1000. for e in events]\n",
    "    z_scores = (firing - np.mean(firing, axis=0, keepdims=1)) / np.std(firing, axis=0, keepdims=1)\n",
    "    \n",
    "    for k in range(len(events)):\n",
    "        df = pd.DataFrame({\n",
    "            'trial': [i] * 800,\n",
    "            'unit': range(800),\n",
    "            'z-score': z_scores[k]\n",
    "        }).dropna().set_index(['trial', 'unit'])\n",
    "        if k < 10:\n",
    "            dfs_pres[k].append(df)\n",
    "        else:\n",
    "            dfs_recall[r_pos[k - 10]].append(df)\n",
    "            \n",
    "dfs_pres = {k: pd.concat(v) for k, v in dfs_pres.items()}\n",
    "dfs_recall = {k: pd.concat(v) for k, v in dfs_recall.items()}"
   ]
  },
  {
   "cell_type": "code",
   "execution_count": 12,
   "metadata": {},
   "outputs": [],
   "source": [
    "def calc_recency_sim(pos):\n",
    "    similarity = (\n",
    "        (dfs_pres[9] * dfs_pres[pos]).dropna().groupby('trial').sum() / 800.)['z-score']\n",
    "    μ = similarity.mean()\n",
    "    ci_low, ci_up = bootstrap_ci(similarity, np.mean)\n",
    "    return μ, (μ - ci_low, ci_up - μ)"
   ]
  },
  {
   "cell_type": "code",
   "execution_count": 13,
   "metadata": {},
   "outputs": [],
   "source": [
    "x = np.arange(10)\n",
    "recency = x - 9\n",
    "similarity_mean, similarity_ci = zip(*(calc_recency_sim(a) for a in x))"
   ]
  },
  {
   "cell_type": "code",
   "execution_count": 14,
   "metadata": {},
   "outputs": [
    {
     "data": {
      "image/png": "[encoded data removed]",
      "text/plain": [
       "<Figure size 389.102x162.126 with 1 Axes>"
      ]
     },
     "metadata": {},
     "output_type": "display_data"
    }
   ],
   "source": [
    "fig = plt.figure(figsize=(textwidth, row_height))\n",
    "\n",
    "ax = fig.add_subplot(1, 1, 1)\n",
    "ax.errorbar(recency, similarity_mean, np.asarray(similarity_ci).T, marker='o', markersize=3)\n",
    "ax.xaxis.set_major_locator(MaxNLocator(integer=True))\n",
    "ax.set_xlabel(\"Recency\")\n",
    "ax.set_ylabel(\"Similarity\")\n",
    "ax.set_title(\"(a) Neural similarity of context\")\n",
    "\n",
    "sns.despine(fig)\n",
    "fig.tight_layout()"
   ]
  },
  {
   "cell_type": "markdown",
   "metadata": {},
   "source": [
    "# Contiguity"
   ]
  },
  {
   "cell_type": "code",
   "execution_count": 15,
   "metadata": {},
   "outputs": [],
   "source": [
    "def analyze_contiguity(raw_spikes, recognition_order):\n",
    "    pi_epochs = [list(range(1000 * i, 1000 * (i+1))) for i in range(10)]\n",
    "    recognition_epochs = [list(range(10000 + 20000 + 1000 * i, 10000 + 20000 + 1000 * (i+1))) for i in range(10)]\n",
    "    \n",
    "    def z_score(trial_data, epochs):\n",
    "        durations = np.diff(np.asarray(epochs)[:, [0, -1]]) + 1.\n",
    "        events = np.asarray(np.take(trial_data, epochs, axis=0))\n",
    "        firing = np.sum(events, axis=1) / durations\n",
    "        z_scores = (firing - np.mean(firing, axis=0, keepdims=1)) / np.std(firing, axis=0, keepdims=1)\n",
    "        return z_scores\n",
    "\n",
    "    dfs = []\n",
    "    event_duration = 1000.\n",
    "    for i, trial_data in enumerate(raw_spikes):\n",
    "        a = z_score(trial_data, pi_epochs + recognition_epochs)\n",
    "        presentation_z_scores = a[:10]\n",
    "        recognition_z_scores = a[10:]\n",
    "        #presentation_z_scores = z_score(trial_data, pi_epochs)\n",
    "        presentation_z_scores = np.nan_to_num(presentation_z_scores, copy=False)\n",
    "        #recognition_z_scores = z_score(trial_data, recognition_epochs)\n",
    "        recognition_z_scores = recognition_z_scores[np.argsort(recognition_order[i]), :]\n",
    "        recognition_z_scores = np.nan_to_num(recognition_z_scores, copy=False)\n",
    "        similarity = np.dot(presentation_z_scores, recognition_z_scores.T) / presentation_z_scores.shape[1]\n",
    "\n",
    "        for pres_idx, recog_idx in np.ndindex(*similarity.shape):\n",
    "            dfs.append(pd.DataFrame({\n",
    "                'trial': i,\n",
    "                'lag': pres_idx - recog_idx,\n",
    "                'similarity': similarity[pres_idx, recog_idx]\n",
    "            }, index=[0]))\n",
    "    return pd.concat(dfs).reset_index(drop=True)"
   ]
  },
  {
   "cell_type": "code",
   "execution_count": 16,
   "metadata": {},
   "outputs": [],
   "source": [
    "def plot_contiguity(ax, df):\n",
    "    g = df.groupby('lag')\n",
    "    μ = g.mean()\n",
    "\n",
    "    ci = np.asarray([bootstrap_ci(x['similarity'], np.mean) for _, x in g])\n",
    "    ci *= np.array([-1, 1])\n",
    "    ci += np.array([μ['similarity'], -μ['similarity']]).T\n",
    "    \n",
    "    ax.errorbar(μ.index, μ['similarity'], ci.T, fmt='o', markersize=3)"
   ]
  },
  {
   "cell_type": "code",
   "execution_count": 17,
   "metadata": {},
   "outputs": [
    {
     "name": "stderr",
     "output_type": "stream",
     "text": [
      "<ipython-input-15-ec438dc2f3f0>:9: RuntimeWarning: invalid value encountered in true_divide\n",
      "  z_scores = (firing - np.mean(firing, axis=0, keepdims=1)) / np.std(firing, axis=0, keepdims=1)\n"
     ]
    }
   ],
   "source": [
    "df_cont_ctx = analyze_contiguity(data['p_ctx_spikes'], data['recognition_order'])"
   ]
  },
  {
   "cell_type": "code",
   "execution_count": 18,
   "metadata": {},
   "outputs": [
    {
     "name": "stderr",
     "output_type": "stream",
     "text": [
      "<ipython-input-15-ec438dc2f3f0>:9: RuntimeWarning: invalid value encountered in true_divide\n",
      "  z_scores = (firing - np.mean(firing, axis=0, keepdims=1)) / np.std(firing, axis=0, keepdims=1)\n"
     ]
    }
   ],
   "source": [
    "df_cont_ose = analyze_contiguity(data['p_ose'], data['recognition_order'])"
   ]
  },
  {
   "cell_type": "code",
   "execution_count": 19,
   "metadata": {},
   "outputs": [
    {
     "data": {
      "image/png": "[encoded data removed]",
      "text/plain": [
       "<Figure size 432x288 with 1 Axes>"
      ]
     },
     "metadata": {},
     "output_type": "display_data"
    }
   ],
   "source": [
    "plot_contiguity(plt.gca(), df_cont_ctx)"
   ]
  },
  {
   "cell_type": "code",
   "execution_count": 20,
   "metadata": {},
   "outputs": [
    {
     "data": {
      "image/png": "[encoded data removed]",
      "text/plain": [
       "<Figure size 432x288 with 1 Axes>"
      ]
     },
     "metadata": {},
     "output_type": "display_data"
    }
   ],
   "source": [
    "plot_contiguity(plt.gca(), df_cont_ose)"
   ]
  },
  {
   "cell_type": "code",
   "execution_count": 21,
   "metadata": {},
   "outputs": [
    {
     "name": "stderr",
     "output_type": "stream",
     "text": [
      "<ipython-input-15-ec438dc2f3f0>:9: RuntimeWarning: invalid value encountered in true_divide\n",
      "  z_scores = (firing - np.mean(firing, axis=0, keepdims=1)) / np.std(firing, axis=0, keepdims=1)\n"
     ]
    },
    {
     "data": {
      "image/png": "[encoded data removed]",
      "text/plain": [
       "<Figure size 432x288 with 1 Axes>"
      ]
     },
     "metadata": {},
     "output_type": "display_data"
    }
   ],
   "source": [
    "plot_contiguity(plt.gca(), analyze_contiguity(data['p_tf_out'], data['recognition_order']))"
   ]
  },
  {
   "cell_type": "code",
   "execution_count": 22,
   "metadata": {},
   "outputs": [
    {
     "data": {
      "image/png": "[encoded data removed]",
      "text/plain": [
       "<Figure size 432x288 with 1 Axes>"
      ]
     },
     "metadata": {},
     "output_type": "display_data"
    }
   ],
   "source": [
    "plot_contiguity(plt.gca(), analyze_contiguity(data['p_pos'], data['recognition_order']))"
   ]
  },
  {
   "cell_type": "code",
   "execution_count": 23,
   "metadata": {},
   "outputs": [
    {
     "name": "stderr",
     "output_type": "stream",
     "text": [
      "<ipython-input-15-ec438dc2f3f0>:9: RuntimeWarning: invalid value encountered in true_divide\n",
      "  z_scores = (firing - np.mean(firing, axis=0, keepdims=1)) / np.std(firing, axis=0, keepdims=1)\n"
     ]
    },
    {
     "data": {
      "image/png": "[encoded data removed]",
      "text/plain": [
       "<Figure size 432x288 with 1 Axes>"
      ]
     },
     "metadata": {},
     "output_type": "display_data"
    }
   ],
   "source": [
    "plot_contiguity(plt.gca(), analyze_contiguity(data['p_vhat'], data['recognition_order']))"
   ]
  },
  {
   "cell_type": "code",
   "execution_count": 24,
   "metadata": {},
   "outputs": [
    {
     "name": "stderr",
     "output_type": "stream",
     "text": [
      "<ipython-input-15-ec438dc2f3f0>:9: RuntimeWarning: invalid value encountered in true_divide\n",
      "  z_scores = (firing - np.mean(firing, axis=0, keepdims=1)) / np.std(firing, axis=0, keepdims=1)\n"
     ]
    },
    {
     "data": {
      "image/png": "[encoded data removed]",
      "text/plain": [
       "<Figure size 432x288 with 1 Axes>"
      ]
     },
     "metadata": {},
     "output_type": "display_data"
    }
   ],
   "source": [
    "plot_contiguity(plt.gca(), analyze_contiguity(data['p_phat'], data['recognition_order']))"
   ]
  },
  {
   "cell_type": "code",
   "execution_count": 25,
   "metadata": {},
   "outputs": [
    {
     "name": "stderr",
     "output_type": "stream",
     "text": [
      "<ipython-input-15-ec438dc2f3f0>:9: RuntimeWarning: invalid value encountered in true_divide\n",
      "  z_scores = (firing - np.mean(firing, axis=0, keepdims=1)) / np.std(firing, axis=0, keepdims=1)\n"
     ]
    },
    {
     "data": {
      "image/png": "[encoded data removed]",
      "text/plain": [
       "<Figure size 432x288 with 1 Axes>"
      ]
     },
     "metadata": {},
     "output_type": "display_data"
    }
   ],
   "source": [
    "plot_contiguity(plt.gca(), analyze_contiguity(data['p_p'], data['recognition_order']))"
   ]
  },
  {
   "cell_type": "markdown",
   "metadata": {},
   "source": [
    "# Plot"
   ]
  },
  {
   "cell_type": "code",
   "execution_count": 26,
   "metadata": {},
   "outputs": [
    {
     "name": "stderr",
     "output_type": "stream",
     "text": [
      "<ipython-input-15-ec438dc2f3f0>:9: RuntimeWarning: invalid value encountered in true_divide\n",
      "  z_scores = (firing - np.mean(firing, axis=0, keepdims=1)) / np.std(firing, axis=0, keepdims=1)\n"
     ]
    }
   ],
   "source": [
    "df_cont_ctx_wo_pos = analyze_contiguity(data_wo_pos['p_ctx_spikes'], data_wo_pos['recognition_order'])"
   ]
  },
  {
   "cell_type": "code",
   "execution_count": 27,
   "metadata": {},
   "outputs": [
    {
     "data": {
      "image/png": "[encoded data removed]",
      "text/plain": [
       "<Figure size 389.102x324.252 with 4 Axes>"
      ]
     },
     "metadata": {},
     "output_type": "display_data"
    }
   ],
   "source": [
    "fig = plt.figure(figsize=(textwidth, row_height * 2))\n",
    "\n",
    "ax = fig.add_subplot(2, 2, 1)\n",
    "ax.errorbar(recency, similarity_mean, np.asarray(similarity_ci).T, marker='o', markersize=3)\n",
    "ax.xaxis.set_major_locator(MaxNLocator(integer=True))\n",
    "ax.set_xlabel(\"Recency\")\n",
    "ax.set_ylabel(\"Similarity\")\n",
    "ax.set_title(\"(a) Neural similarity of context\")\n",
    "\n",
    "ax = fig.add_subplot(2, 2, 2)\n",
    "plot_contiguity(ax, df_cont_ctx)\n",
    "ax.set_xlim(-5.5, 5.5)\n",
    "ax.xaxis.set_major_locator(MaxNLocator(integer=True))\n",
    "ax.set_xlabel(\"Lag\")\n",
    "ax.set_ylabel(\"Similarity\")\n",
    "ax.set_title(\"(b) Neural contiguity of context\")\n",
    "\n",
    "ax = fig.add_subplot(2, 2, 3)\n",
    "plot_contiguity(ax, df_cont_ose)\n",
    "ax.set_xlim(-5.5, 5.5)\n",
    "ax.set_ylim(top=-0.125)\n",
    "ax.xaxis.set_major_locator(MaxNLocator(integer=True))\n",
    "ax.set_xlabel(\"Lag\")\n",
    "ax.set_ylabel(\"Similarity\")\n",
    "ax.set_title(\"(c) Neural contiguity of OSE\")\n",
    "\n",
    "ax = fig.add_subplot(2, 2, 4)\n",
    "plot_contiguity(ax, df_cont_ctx_wo_pos)\n",
    "ax.set_xlim(-5.5, 5.5)\n",
    "ax.xaxis.set_major_locator(MaxNLocator(integer=True))\n",
    "ax.set_xlabel(\"Lag\")\n",
    "ax.set_ylabel(\"Similarity\")\n",
    "ax.set_title(\"(d) Neural contiguity of context\\n(deactivated position input)\")\n",
    "\n",
    "sns.despine(fig, top=False, right=False)\n",
    "fig.tight_layout()"
   ]
  },
  {
   "cell_type": "code",
   "execution_count": 28,
   "metadata": {},
   "outputs": [],
   "source": [
    "save_tight_fig(fig, './contiguity.pdf')"
   ]
  },
  {
   "cell_type": "code",
   "execution_count": null,
   "metadata": {},
   "outputs": [],
   "source": []
  }
 ],
 "metadata": {
  "kernelspec": {
   "display_name": "Python 3",
   "language": "python",
   "name": "python3"
  },
  "language_info": {
   "codemirror_mode": {
    "name": "ipython",
    "version": 3
   },
   "file_extension": ".py",
   "mimetype": "text/x-python",
   "name": "python",
   "nbconvert_exporter": "python",
   "pygments_lexer": "ipython3",
   "version": "3.8.2"
  }
 },
 "nbformat": 4,
 "nbformat_minor": 2
}
