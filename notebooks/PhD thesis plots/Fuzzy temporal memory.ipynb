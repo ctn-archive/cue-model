{
 "cells": [
  {
   "cell_type": "code",
   "execution_count": 1,
   "metadata": {},
   "outputs": [],
   "source": [
    "%matplotlib inline"
   ]
  },
  {
   "cell_type": "code",
   "execution_count": 2,
   "metadata": {},
   "outputs": [],
   "source": [
    "from matplotlib import ticker\n",
    "import matplotlib.pyplot as plt\n",
    "import nengo\n",
    "from nengolib.synapses import ss2sim\n",
    "import numpy as np\n",
    "import seaborn as sns"
   ]
  },
  {
   "cell_type": "code",
   "execution_count": 3,
   "metadata": {},
   "outputs": [],
   "source": [
    "factorial = np.vectorize(np.math.factorial)"
   ]
  },
  {
   "cell_type": "code",
   "execution_count": 4,
   "metadata": {},
   "outputs": [],
   "source": [
    "from cue.utils.plotting import *"
   ]
  },
  {
   "cell_type": "code",
   "execution_count": 5,
   "metadata": {},
   "outputs": [],
   "source": [
    "style()"
   ]
  },
  {
   "cell_type": "markdown",
   "metadata": {},
   "source": [
    "## Noise reconstruction example"
   ]
  },
  {
   "cell_type": "code",
   "execution_count": 6,
   "metadata": {},
   "outputs": [],
   "source": [
    "n_max = 140\n",
    "c = 0.05\n",
    "tau_star_min = -0.02\n",
    "tau_stars = tau_star_min * (1 + c)**np.arange(n_max)"
   ]
  },
  {
   "cell_type": "code",
   "execution_count": 7,
   "metadata": {},
   "outputs": [],
   "source": [
    "k = 8\n",
    "ss = -k / tau_star_min / (1 + c)**(np.arange(n_max + 2 * k) - k)\n",
    "ss_ = ss[k:-k]\n",
    "ss_diff = np.diff(ss)\n",
    "ss_diff2 = ss_diff[:-1] + ss_diff[1:]\n",
    "f1 = ss_diff[:-1] / ss_diff[1:] / ss_diff2\n",
    "f2 = ss_diff[1:] / ss_diff[:-1] / ss_diff2\n",
    "a_ = np.diag(-np.concatenate((f2, (0,))), k=-1)\n",
    "b_ = np.diag(np.concatenate(((0,), f2 - f1, (0,))))\n",
    "c_ = np.diag(np.concatenate(((0,), f1)), k=1)\n",
    "D1 = (a_ + b_ + c_)[1:-1]\n",
    "Dk = np.eye(D1.shape[1])\n",
    "for i in range(k):\n",
    "    if i > 0:\n",
    "        Dk = D1[i:-i, i:-i] @ Dk\n",
    "    else:\n",
    "        Dk = D1 @ Dk\n",
    "\n",
    "Lk = (-1)**k / factorial(k) * (ss_[:, None])**(k+1) * Dk"
   ]
  },
  {
   "cell_type": "code",
   "execution_count": 8,
   "metadata": {},
   "outputs": [],
   "source": [
    "dt = 0.001\n",
    "\n",
    "A = np.diag(-ss)\n",
    "B = np.ones((len(ss), 1))\n",
    "C = np.eye(len(ss))\n",
    "D = np.zeros((len(ss), 1))"
   ]
  },
  {
   "cell_type": "code",
   "execution_count": 9,
   "metadata": {},
   "outputs": [],
   "source": [
    "synapse = nengo.Lowpass(0.1)\n",
    "sys = ss2sim((A, B, C, D), synapse, dt)"
   ]
  },
  {
   "cell_type": "code",
   "execution_count": 10,
   "metadata": {},
   "outputs": [],
   "source": [
    "with nengo.Network() as model:\n",
    "    inp = nengo.Node(1.)\n",
    "    state = nengo.networks.EnsembleArray(1, len(ss), neuron_type=nengo.Direct())\n",
    "\n",
    "    nengo.Connection(inp, state.input, transform=sys.B, synapse=synapse)\n",
    "    nengo.Connection(state.output, state.input, transform=sys.A, synapse=synapse)\n",
    "\n",
    "    p = nengo.Probe(state.output)"
   ]
  },
  {
   "cell_type": "code",
   "execution_count": 11,
   "metadata": {},
   "outputs": [
    {
     "name": "stdout",
     "output_type": "stream",
     "text": [
      "Building finished in 0:00:01.                                                                                           \n",
      "Simulating finished in 0:00:58.                                                                                         \n"
     ]
    }
   ],
   "source": [
    "with nengo.Simulator(model) as sim:\n",
    "    sim.run(200.)"
   ]
  },
  {
   "cell_type": "code",
   "execution_count": 12,
   "metadata": {},
   "outputs": [
    {
     "data": {
      "image/png": "[encoded data removed]",
      "text/plain": [
       "<matplotlib.figure.Figure at 0x7f8ba95ab6a0>"
      ]
     },
     "metadata": {},
     "output_type": "display_data"
    }
   ],
   "source": [
    "t = -1\n",
    "\n",
    "fig = plt.figure(figsize=(textwidth, row_height))\n",
    "\n",
    "ax1 = fig.add_subplot(1, 2, 1)\n",
    "ax1.plot(tau_stars, Lk @ (sim.data[p][t] + 5e-9 * np.random.randn(sim.data[p].shape[1])), color='C1', label='added noise')\n",
    "ax1.plot(tau_stars, Lk @ sim.data[p][t], color='C0', label='noise-free')\n",
    "ax1.legend(loc='lower left')\n",
    "ax1.set_title(\"(a) Added Gaussian noise\")\n",
    "\n",
    "ax2 = fig.add_subplot(1, 2, 2, sharex=ax1, sharey=ax1)\n",
    "ax2.plot(tau_stars, Lk @ (sim.data[p][t] + 1. / ss * 5e-8 * np.random.randn(sim.data[p].shape[1])), color='C1')\n",
    "ax2.plot(tau_stars, Lk @ sim.data[p][t], color='C0')\n",
    "ax2.set_title(r\"(b) Added Gaussian noise scaled by $s_i$\")\n",
    "\n",
    "ax2.set_xlim(-10., 0.)\n",
    "ax2.set_ylim(0.5, 1.5)\n",
    "\n",
    "ax1.set_xlabel(r\"Internal time $t^*$\")\n",
    "ax2.set_xlabel(r\"Internal time $t^*$\")\n",
    "ax2.yaxis.set_label_position(\"right\")\n",
    "ax2.set_ylabel(r\"$\\hat f$\")\n",
    "\n",
    "sns.despine(fig, left=True, right=False)\n",
    "fig.tight_layout()"
   ]
  },
  {
   "cell_type": "code",
   "execution_count": null,
   "metadata": {},
   "outputs": [],
   "source": [
    "save_tight_fig(fig, '../../../phd-thesis/figures/fuzzy-mem-noise-example.pdf')"
   ]
  },
  {
   "cell_type": "markdown",
   "metadata": {},
   "source": [
    "## Noise amplification and timescale"
   ]
  },
  {
   "cell_type": "code",
   "execution_count": 13,
   "metadata": {},
   "outputs": [],
   "source": [
    "def noise_amplification(c, k):\n",
    "    return np.sqrt(2.)**k / factorial(k) / c**k "
   ]
  },
  {
   "cell_type": "code",
   "execution_count": 14,
   "metadata": {},
   "outputs": [],
   "source": [
    "def timescale(c, k, tau_star=-1.):\n",
    "    return -(1 + c)**k * tau_star"
   ]
  },
  {
   "cell_type": "code",
   "execution_count": 15,
   "metadata": {},
   "outputs": [],
   "source": [
    "cs = np.linspace(0.0, 2., 100, endpoint=False)\n",
    "cs += cs[1]\n",
    "ks = np.arange(1, 20)\n",
    "C, K = np.meshgrid(cs, ks)"
   ]
  },
  {
   "cell_type": "code",
   "execution_count": 16,
   "metadata": {},
   "outputs": [],
   "source": [
    "ampl = 10 * np.log10(noise_amplification(C, K))\n",
    "tscale = timescale(C, K)"
   ]
  },
  {
   "cell_type": "code",
   "execution_count": 21,
   "metadata": {},
   "outputs": [],
   "source": [
    "from matplotlib.colors import LogNorm"
   ]
  },
  {
   "cell_type": "code",
   "execution_count": 24,
   "metadata": {},
   "outputs": [
    {
     "data": {
      "image/png": "[encoded data removed]",
      "text/plain": [
       "<matplotlib.figure.Figure at 0x7f8ba7bf4d30>"
      ]
     },
     "metadata": {},
     "output_type": "display_data"
    }
   ],
   "source": [
    "fig = plt.figure(figsize=(textwidth, 1.5 * row_height))\n",
    "\n",
    "ax1 = fig.add_subplot(1, 2, 1)\n",
    "v = np.max(np.abs(ampl))\n",
    "c1 = ax1.contourf(C, K, ampl, cmap='coolwarm', vmin=-v, vmax=v)\n",
    "cb1 = fig.colorbar(c1, ax=ax1, orientation='horizontal', pad=0.2)\n",
    "\n",
    "ax1.set_title(r\"(a) Noise amplification $g_{\\eta,\\mathrm{NEF}}$\")\n",
    "ax1.set_xlabel(r\"$\\nu$\")\n",
    "ax1.set_ylabel(r\"$k$\")\n",
    "cb1.set_label(\"dB\")\n",
    "\n",
    "ax2 = fig.add_subplot(1, 2, 2, sharex=ax1, sharey=ax1)\n",
    "c2 = ax2.contourf(C, K, tscale, locator=ticker.LogLocator(), cmap='viridis')\n",
    "cb2 = fig.colorbar(c2, ax=ax2, orientation='horizontal', pad=0.2)\n",
    "\n",
    "ax2.set_title(r\"(b) Timescale $-\\tau_i / t^*_i$\")\n",
    "ax2.set_xlabel(r\"$\\nu$\")\n",
    "for label in ax2.yaxis.get_ticklabels():\n",
    "    label.set_visible(False)\n",
    "\n",
    "fig.tight_layout()"
   ]
  },
  {
   "cell_type": "code",
   "execution_count": 111,
   "metadata": {},
   "outputs": [],
   "source": [
    "save_tight_fig(fig, '../../../phd-thesis/figures/fuzzy-mem-noise-ts.pdf')"
   ]
  },
  {
   "cell_type": "markdown",
   "metadata": {},
   "source": [
    "## Number of neurons"
   ]
  },
  {
   "cell_type": "code",
   "execution_count": 25,
   "metadata": {},
   "outputs": [],
   "source": [
    "ts = 1.\n",
    "duration = -10.\n",
    "N = 50\n",
    "d = 64"
   ]
  },
  {
   "cell_type": "code",
   "execution_count": 26,
   "metadata": {},
   "outputs": [],
   "source": [
    "tau_stars = -np.linspace(1e-2, 1., endpoint=False, num=200)\n",
    "ks = np.arange(1, 20)\n",
    "T, K = np.meshgrid(tau_stars, ks)"
   ]
  },
  {
   "cell_type": "code",
   "execution_count": 44,
   "metadata": {},
   "outputs": [],
   "source": [
    "nu = (-ts / T)**(1./K) - 1.\n",
    "M = np.log(duration / T) / np.log(1 + nu)\n",
    "z = noise_amplification(nu, K)**2 * (M + 2 * K)"
   ]
  },
  {
   "cell_type": "code",
   "execution_count": 45,
   "metadata": {},
   "outputs": [],
   "source": [
    "class EngNumFormatter(ticker.EngFormatter):\n",
    "    ENG_PREFIXES = {p: r\"$\\cdot 10^{{{}}}$\".format(p) if p != 0 else \"\" for p in ticker.EngFormatter.ENG_PREFIXES.keys()}"
   ]
  },
  {
   "cell_type": "code",
   "execution_count": 46,
   "metadata": {},
   "outputs": [
    {
     "name": "stderr",
     "output_type": "stream",
     "text": [
      "/home/jgosmann/.pyenv/versions/3.6.1/lib/python3.6/site-packages/matplotlib/mathtext.py:839: MathTextWarning: Substituting with a symbol from Computer Modern.\n",
      "  MathTextWarning)\n"
     ]
    },
    {
     "data": {
      "image/png": "[encoded data removed]",
      "text/plain": [
       "<matplotlib.figure.Figure at 0x7f8ba83abd68>"
      ]
     },
     "metadata": {},
     "output_type": "display_data"
    }
   ],
   "source": [
    "fig = plt.figure(figsize=(single_fig_size[0] * 1.2, 1.3 * single_fig_size[1]))\n",
    "\n",
    "ax = fig.add_subplot(1, 1, 1)\n",
    "#cf = ax.contourf(T, K, N * d * z, locator=ticker.LogLocator(), cmap='viridis', vmin=N * d)\n",
    "cf = ax.pcolormesh(T, K, N * d * z, norm=LogNorm(vmax=1e36), cmap='viridis', shading='gouraud')\n",
    "cl = ax.contour(T, K, N * d * z, locator=ticker.LogLocator(), vmax=1e18, levels=[13e6, 86e9], colors='white')\n",
    "ax.clabel(cl, fmt=EngNumFormatter(), inline_spacing=10)\n",
    "\n",
    "ax.set_xlabel(r\"$t_1^*$\")\n",
    "ax.set_ylabel(r\"$k$\")\n",
    "\n",
    "cb = fig.colorbar(cf, ax=ax)\n",
    "cb.set_label(\"Number of required neurons\")\n",
    "\n",
    "fig.tight_layout()"
   ]
  },
  {
   "cell_type": "code",
   "execution_count": 47,
   "metadata": {},
   "outputs": [
    {
     "name": "stderr",
     "output_type": "stream",
     "text": [
      "/home/jgosmann/.pyenv/versions/3.6.1/lib/python3.6/site-packages/matplotlib/mathtext.py:839: MathTextWarning: Substituting with a symbol from Computer Modern.\n",
      "  MathTextWarning)\n"
     ]
    }
   ],
   "source": [
    "save_tight_fig(fig, '../../../phd-thesis/figures/fuzzy-mem-n-neurons.pdf')"
   ]
  },
  {
   "cell_type": "code",
   "execution_count": null,
   "metadata": {},
   "outputs": [],
   "source": []
  }
 ],
 "metadata": {
  "kernelspec": {
   "display_name": "Python 3",
   "language": "python",
   "name": "python3"
  },
  "language_info": {
   "codemirror_mode": {
    "name": "ipython",
    "version": 3
   },
   "file_extension": ".py",
   "mimetype": "text/x-python",
   "name": "python",
   "nbconvert_exporter": "python",
   "pygments_lexer": "ipython3",
   "version": "3.6.1"
  }
 },
 "nbformat": 4,
 "nbformat_minor": 2
}
