{
 "cells": [
  {
   "cell_type": "code",
   "execution_count": 1,
   "metadata": {},
   "outputs": [],
   "source": [
    "%matplotlib inline"
   ]
  },
  {
   "cell_type": "code",
   "execution_count": 2,
   "metadata": {},
   "outputs": [],
   "source": [
    "from matplotlib.ticker import ScalarFormatter\n",
    "import numpy as np"
   ]
  },
  {
   "cell_type": "code",
   "execution_count": 3,
   "metadata": {},
   "outputs": [],
   "source": [
    "from nengo_extras.plot_spikes import plot_spikes, preprocess_spikes"
   ]
  },
  {
   "cell_type": "code",
   "execution_count": 4,
   "metadata": {},
   "outputs": [],
   "source": [
    "from cue.utils.plotting import *"
   ]
  },
  {
   "cell_type": "code",
   "execution_count": 5,
   "metadata": {},
   "outputs": [],
   "source": [
    "style()"
   ]
  },
  {
   "cell_type": "code",
   "execution_count": 6,
   "metadata": {},
   "outputs": [],
   "source": [
    "data = np.load('../../data/final/spikes.npz')"
   ]
  },
  {
   "cell_type": "code",
   "execution_count": 7,
   "metadata": {},
   "outputs": [],
   "source": [
    "enc = data['m_tf_post_enc']"
   ]
  },
  {
   "cell_type": "code",
   "execution_count": 8,
   "metadata": {},
   "outputs": [],
   "source": [
    "weights = np.einsum('kj,ijl', enc[::100], data['m_tf_weights'][:, -16:, ::400])"
   ]
  },
  {
   "cell_type": "code",
   "execution_count": 9,
   "metadata": {},
   "outputs": [],
   "source": [
    "weights_flattened = weights.reshape((weights.shape[0], -1))"
   ]
  },
  {
   "cell_type": "code",
   "execution_count": 10,
   "metadata": {},
   "outputs": [],
   "source": [
    "weights_flattened = np.sort(weights_flattened, axis=1)"
   ]
  },
  {
   "cell_type": "code",
   "execution_count": 11,
   "metadata": {},
   "outputs": [],
   "source": [
    "stm_spikes = preprocess_spikes(\n",
    "    data['t'], data['stm_spikes'],\n",
    "    num=40, sample_size=200, sample_filter_width=.2, cluster_filter_width=0.1)"
   ]
  },
  {
   "cell_type": "code",
   "execution_count": 12,
   "metadata": {},
   "outputs": [],
   "source": [
    "ctx_spikes = preprocess_spikes(\n",
    "    data['t'], data['ctx_spikes'],\n",
    "    num=40, sample_size=200, sample_filter_width=.2, cluster_filter_width=0.1)"
   ]
  },
  {
   "cell_type": "code",
   "execution_count": 13,
   "metadata": {},
   "outputs": [],
   "source": [
    "vocab = spa.Vocabulary(data['vocab_vectors'].shape[1])\n",
    "for k, v in zip(data['vocab_keys'], data['vocab_vectors']):\n",
    "    vocab.add(k, v)"
   ]
  },
  {
   "cell_type": "code",
   "execution_count": 14,
   "metadata": {},
   "outputs": [
    {
     "data": {
      "image/png": "[encoded data removed]",
      "text/plain": [
       "<Figure size 259.402x259.402 with 3 Axes>"
      ]
     },
     "metadata": {},
     "output_type": "display_data"
    }
   ],
   "source": [
    "fig = plt.figure(figsize=(single_fig_size[0], 1.6 * row_height))\n",
    "\n",
    "def_colors = sns.color_palette()\n",
    "with sns.color_palette('husl', n_colors=int(1.5 * np.prod(weights_flattened.shape[1])), desat=0.8):\n",
    "    ax2 = fig.add_subplot(3, 1, 1)\n",
    "    ax2.plot(data['t'], weights_flattened, lw=0.3);\n",
    "    ticker = ScalarFormatter()\n",
    "    ticker.set_powerlimits((0, 0))\n",
    "    ax2.yaxis.set_major_formatter(ticker)\n",
    "    ax2.set_ylabel(\"Weight\")\n",
    "    \n",
    "    ylim = ax2.get_ylim()\n",
    "    for i, c in zip(range(4), def_colors):\n",
    "        ax2.plot((i, i + 1),  2 * [ylim], c=c)\n",
    "    ax2.set_ylim(ylim)\n",
    "\n",
    "spike_extent = (data['t'][0], data['t'][-1], 0, 200)\n",
    "\n",
    "ax3 = fig.add_subplot(3, 1, 2, sharex=ax2)\n",
    "plot_spikes(*stm_spikes, contrast_scale=0.5, ax=ax3, extent=spike_extent)\n",
    "ax3.set_ylabel(\"STM neuron\")\n",
    "\n",
    "ax4 = fig.add_subplot(3, 1, 3, sharex=ax3)\n",
    "plot_spikes(*ctx_spikes, contrast_scale=0.5, ax=ax4, extent=spike_extent)\n",
    "ax4.set_xlabel(\"Time (s)\")\n",
    "ax4.set_ylabel(\"Context neuron\")\n",
    "\n",
    "for ax in fig.axes:\n",
    "    ax.label_outer()\n",
    "\n",
    "sns.despine(fig)\n",
    "fig.tight_layout()"
   ]
  },
  {
   "cell_type": "code",
   "execution_count": 15,
   "metadata": {},
   "outputs": [],
   "source": [
    "save_tight_fig(fig, '../../../phd-thesis/figures/spikes.pdf', dpi=600)"
   ]
  },
  {
   "cell_type": "code",
   "execution_count": null,
   "metadata": {},
   "outputs": [],
   "source": []
  }
 ],
 "metadata": {
  "kernelspec": {
   "display_name": "Python 3",
   "language": "python",
   "name": "python3"
  },
  "language_info": {
   "codemirror_mode": {
    "name": "ipython",
    "version": 3
   },
   "file_extension": ".py",
   "mimetype": "text/x-python",
   "name": "python",
   "nbconvert_exporter": "python",
   "pygments_lexer": "ipython3",
   "version": "3.6.1"
  }
 },
 "nbformat": 4,
 "nbformat_minor": 2
}
