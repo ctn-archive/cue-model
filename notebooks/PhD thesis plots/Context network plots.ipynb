{
 "cells": [
  {
   "cell_type": "code",
   "execution_count": 1,
   "metadata": {},
   "outputs": [],
   "source": [
    "%matplotlib inline\n",
    "%load_ext autoreload\n",
    "%autoreload 1"
   ]
  },
  {
   "cell_type": "code",
   "execution_count": 2,
   "metadata": {},
   "outputs": [],
   "source": [
    "from functools import partial"
   ]
  },
  {
   "cell_type": "code",
   "execution_count": 3,
   "metadata": {},
   "outputs": [],
   "source": [
    "import matplotlib.pyplot as plt\n",
    "import nengo\n",
    "import numpy as np\n",
    "import nengo_spa as spa\n",
    "import seaborn as sns"
   ]
  },
  {
   "cell_type": "code",
   "execution_count": 4,
   "metadata": {},
   "outputs": [],
   "source": [
    "%aimport cue\n",
    "from cue.analysis.analysis import bootstrap_ci\n",
    "from cue.analysis.context import ContextTestEnv, plot_ctx_net_analysis\n",
    "from cue.model.legacy.context import AlternatingMemoryBuffers, BoundedIntegrator, Context5\n",
    "\n",
    "from cue.utils.plotting import *"
   ]
  },
  {
   "cell_type": "code",
   "execution_count": 5,
   "metadata": {},
   "outputs": [],
   "source": [
    "style()"
   ]
  },
  {
   "cell_type": "code",
   "execution_count": 6,
   "metadata": {},
   "outputs": [],
   "source": [
    "def eval_net(model, env):\n",
    "    with nengo.Simulator(model) as sim:\n",
    "        sim.run(env.n)\n",
    "        \n",
    "    return sim.trange(), sim.data[model.p_recalled_ctx], sim.data[model.p_ctx]\n",
    "\n",
    "def figpath(name):\n",
    "    return '../../../phd-thesis/figures/context-analysis/' + name"
   ]
  },
  {
   "cell_type": "code",
   "execution_count": 7,
   "metadata": {},
   "outputs": [],
   "source": [
    "def ci_l(x, func):\n",
    "    return bootstrap_ci(x, func)[0]\n",
    "\n",
    "def ci_u(x, func):\n",
    "    return bootstrap_ci(x, func)[1]\n",
    "\n",
    "statistic = lambda func: (func, partial(ci_l, func=func), partial(ci_u, func=func))"
   ]
  },
  {
   "cell_type": "markdown",
   "metadata": {},
   "source": [
    "# Bounded integrator"
   ]
  },
  {
   "cell_type": "code",
   "execution_count": 8,
   "metadata": {},
   "outputs": [],
   "source": [
    "def BoundedIntegratorTest(env):\n",
    "    with spa.Network(seed=2) as model:\n",
    "        model.config[spa.State].represent_identity = False\n",
    "        recalled_ctx = nengo.Node(env.recalled_ctx_fn)\n",
    "        context_net = BoundedIntegrator(env.d, env.beta)\n",
    "        nengo.Connection(recalled_ctx, context_net.input)\n",
    "\n",
    "        initialization_node = nengo.Node(env.context_init_fn, size_in=env.d)\n",
    "        nengo.Connection(initialization_node, context_net.current.input)\n",
    "        nengo.Connection(context_net.current.output, initialization_node)\n",
    "\n",
    "        model.p_recalled_ctx = nengo.Probe(recalled_ctx, synapse=0.01)\n",
    "        model.p_ctx = nengo.Probe(context_net.output, synapse=0.01)\n",
    "    return model"
   ]
  },
  {
   "cell_type": "code",
   "execution_count": 9,
   "metadata": {},
   "outputs": [
    {
     "name": "stderr",
     "output_type": "stream",
     "text": [
      "/home/jgosmann/.pyenv/versions/3.6.1/lib/python3.6/site-packages/nengo/cache.py:501: UserWarning: Decoder cache could not acquire lock and was set to readonly mode.\n",
      "  warnings.warn(\"Decoder cache could not acquire lock and was \"\n"
     ]
    },
    {
     "name": "stdout",
     "output_type": "stream",
     "text": [
      "Building finished in 0:00:06.                                                                                           \n",
      "Simulating finished in 0:01:05.                                                                                         \n"
     ]
    }
   ],
   "source": [
    "env1 = ContextTestEnv(1)\n",
    "t1, _, ctx1 = eval_net(BoundedIntegratorTest(env1), env1)"
   ]
  },
  {
   "cell_type": "code",
   "execution_count": 10,
   "metadata": {
    "scrolled": true
   },
   "outputs": [
    {
     "name": "stderr",
     "output_type": "stream",
     "text": [
      "/home/jgosmann/.pyenv/versions/3.6.1/lib/python3.6/site-packages/nengo/cache.py:501: UserWarning: Decoder cache could not acquire lock and was set to readonly mode.\n",
      "  warnings.warn(\"Decoder cache could not acquire lock and was \"\n"
     ]
    },
    {
     "name": "stdout",
     "output_type": "stream",
     "text": [
      "Building finished in 0:00:06.                                                                                           \n",
      "Simulating finished in 0:01:02.                                                                                         \n"
     ]
    }
   ],
   "source": [
    "env2 = ContextTestEnv(1, beta_stim=0.6)\n",
    "t2, _, ctx2 = eval_net(BoundedIntegratorTest(env2), env2)"
   ]
  },
  {
   "cell_type": "code",
   "execution_count": 11,
   "metadata": {},
   "outputs": [],
   "source": [
    "def mean_ctx_sim(t, ctx, env):\n",
    "    dfs = []\n",
    "    out_normed = ctx / np.linalg.norm(ctx, axis=1, keepdims=True)\n",
    "    for i in range(1, env.n):\n",
    "        start = int((i + .7) / env.dt)\n",
    "        end = int((i + 1.) / env.dt)\n",
    "        target = np.mean(out_normed[start:end], axis=0)\n",
    "        dfs.append(pd.DataFrame({'t': t - i, 'y': np.dot(out_normed, target)}))\n",
    "    return pd.concat(dfs).groupby('t').agg(statistic(np.mean))"
   ]
  },
  {
   "cell_type": "code",
   "execution_count": 12,
   "metadata": {
    "scrolled": true
   },
   "outputs": [
    {
     "name": "stderr",
     "output_type": "stream",
     "text": [
      "/home/jgosmann/.pyenv/versions/3.6.1/lib/python3.6/site-packages/ipykernel_launcher.py:3: RuntimeWarning: invalid value encountered in true_divide\n",
      "  This is separate from the ipykernel package so we can avoid doing imports until\n"
     ]
    }
   ],
   "source": [
    "df1 = mean_ctx_sim(t1, ctx1, env1)\n",
    "df2 = mean_ctx_sim(t2, ctx2, env2)"
   ]
  },
  {
   "cell_type": "code",
   "execution_count": 13,
   "metadata": {},
   "outputs": [
    {
     "data": {
      "image/png": "[encoded data removed]",
      "text/plain": [
       "<Figure size 259.402x162.126 with 1 Axes>"
      ]
     },
     "metadata": {},
     "output_type": "display_data"
    }
   ],
   "source": [
    "fig = plt.figure(figsize=single_fig_size)\n",
    "\n",
    "ax = fig.add_subplot(1, 1, 1)\n",
    "\n",
    "ax.plot(df1.index, df1['y', 'mean'], label=\"Orthogonal\")\n",
    "ax.fill_between(df1.index, df1['y', 'ci_l'], df1['y', 'ci_u'], alpha=.3)\n",
    "ax.plot(df2.index, df2['y', 'mean'], label=\"Non-orthogonal\")\n",
    "ax.fill_between(df2.index, df2['y', 'ci_l'], df2['y', 'ci_u'], alpha=.3)\n",
    "\n",
    "target = lambda t, x: np.sqrt(1. - x**2)**np.floor(t)\n",
    "ax.plot(df1.index, target(df1.index, env1.beta), color='gray', label=\"Target\")\n",
    "\n",
    "ax.set_xlim(0., 6)\n",
    "ax.set_ylim(0., 1.)\n",
    "ax.legend(loc='lower left')\n",
    "ax.set_xlabel(\"Time lag (s)\")\n",
    "ax.set_ylabel(\"Context similarity\")\n",
    "\n",
    "sns.despine(fig)\n",
    "fig.tight_layout()"
   ]
  },
  {
   "cell_type": "code",
   "execution_count": 14,
   "metadata": {},
   "outputs": [],
   "source": [
    "save_tight_fig(fig, figpath('bounded-integrator.pdf'))"
   ]
  },
  {
   "cell_type": "markdown",
   "metadata": {},
   "source": [
    "# Alternating update of two memory buffers"
   ]
  },
  {
   "cell_type": "code",
   "execution_count": 15,
   "metadata": {},
   "outputs": [],
   "source": [
    "def AlternatingMemoryBuffersTest(env):\n",
    "    with spa.Network(seed=2) as model:\n",
    "        model.config[spa.State].represent_identity = False\n",
    "        recalled_ctx = nengo.Node(env.recalled_ctx_fn)\n",
    "        context_net = AlternatingMemoryBuffers(env.d, env.beta)\n",
    "        nengo.Connection(recalled_ctx, context_net.input)\n",
    "\n",
    "        init_phase = nengo.Node(lambda t: t < env.init_phase)\n",
    "        initialization_node = nengo.Node(env.context_init_fn, size_in=env.d)\n",
    "        nengo.Connection(initialization_node, context_net.current.input)\n",
    "        nengo.Connection(init_phase, context_net.update_done.neurons,\n",
    "                         transform=-2. * np.ones((context_net.update_done.n_neurons, 1)))\n",
    "        nengo.Connection(init_phase, context_net.invert.neurons,\n",
    "                         transform=-2. * np.ones((context_net.invert.n_neurons, 1)))\n",
    "\n",
    "        model.p_recalled_ctx = nengo.Probe(recalled_ctx, synapse=0.01)\n",
    "        model.p_ctx = nengo.Probe(context_net.output, synapse=0.01)\n",
    "        \n",
    "    return model"
   ]
  },
  {
   "cell_type": "code",
   "execution_count": 16,
   "metadata": {},
   "outputs": [
    {
     "name": "stderr",
     "output_type": "stream",
     "text": [
      "/home/jgosmann/.pyenv/versions/3.6.1/lib/python3.6/site-packages/nengo/cache.py:501: UserWarning: Decoder cache could not acquire lock and was set to readonly mode.\n",
      "  warnings.warn(\"Decoder cache could not acquire lock and was \"\n"
     ]
    },
    {
     "name": "stdout",
     "output_type": "stream",
     "text": [
      "Building finished in 0:00:02.                                                                                           \n",
      "Simulating finished in 0:00:37.                                                                                         \n"
     ]
    }
   ],
   "source": [
    "env1 = ContextTestEnv(1)\n",
    "t1, _, ctx1 = eval_net(AlternatingMemoryBuffersTest(env1), env1)"
   ]
  },
  {
   "cell_type": "code",
   "execution_count": 17,
   "metadata": {
    "scrolled": false
   },
   "outputs": [
    {
     "name": "stderr",
     "output_type": "stream",
     "text": [
      "/home/jgosmann/.pyenv/versions/3.6.1/lib/python3.6/site-packages/nengo/cache.py:501: UserWarning: Decoder cache could not acquire lock and was set to readonly mode.\n",
      "  warnings.warn(\"Decoder cache could not acquire lock and was \"\n"
     ]
    },
    {
     "name": "stdout",
     "output_type": "stream",
     "text": [
      "Building finished in 0:00:02.                                                                                           \n",
      "Simulating finished in 0:00:34.                                                                                         \n"
     ]
    }
   ],
   "source": [
    "env2 = ContextTestEnv(1, beta_stim=0.6)\n",
    "t2, _, ctx2 = eval_net(AlternatingMemoryBuffersTest(env2), env2)"
   ]
  },
  {
   "cell_type": "code",
   "execution_count": 18,
   "metadata": {},
   "outputs": [
    {
     "name": "stderr",
     "output_type": "stream",
     "text": [
      "/home/jgosmann/.pyenv/versions/3.6.1/lib/python3.6/site-packages/ipykernel_launcher.py:3: RuntimeWarning: invalid value encountered in true_divide\n",
      "  This is separate from the ipykernel package so we can avoid doing imports until\n"
     ]
    }
   ],
   "source": [
    "df1 = mean_ctx_sim(t1, ctx1, env1)\n",
    "df2 = mean_ctx_sim(t2, ctx2, env2)"
   ]
  },
  {
   "cell_type": "code",
   "execution_count": 19,
   "metadata": {},
   "outputs": [
    {
     "data": {
      "image/png": "[encoded data removed]",
      "text/plain": [
       "<Figure size 259.402x162.126 with 1 Axes>"
      ]
     },
     "metadata": {},
     "output_type": "display_data"
    }
   ],
   "source": [
    "fig = plt.figure(figsize=single_fig_size)\n",
    "\n",
    "ax = fig.add_subplot(1, 1, 1)\n",
    "\n",
    "ax.plot(df1.index, df1['y', 'mean'], label=\"Orthogonal\")\n",
    "ax.fill_between(df1.index, df1['y', 'ci_l'], df1['y', 'ci_u'], alpha=.3)\n",
    "ax.plot(df2.index, df2['y', 'mean'], label=\"Non-orthogonal\")\n",
    "ax.fill_between(df2.index, df2['y', 'ci_l'], df2['y', 'ci_u'], alpha=.3)\n",
    "\n",
    "target = lambda t, x: np.sqrt(1. - x**2)**np.floor(t)\n",
    "ax.plot(df1.index, target(df1.index, env1.beta), color='gray', label=\"Target\")\n",
    "\n",
    "ax.set_xlim(0., 6)\n",
    "ax.set_ylim(0., 1.)\n",
    "ax.legend(loc='lower left')\n",
    "ax.set_xlabel(\"Time lag (s)\")\n",
    "ax.set_ylabel(\"Context similarity\")\n",
    "\n",
    "sns.despine(fig)\n",
    "fig.tight_layout()"
   ]
  },
  {
   "cell_type": "code",
   "execution_count": 20,
   "metadata": {},
   "outputs": [],
   "source": [
    "save_tight_fig(fig, figpath('amb.pdf'))"
   ]
  },
  {
   "cell_type": "markdown",
   "metadata": {
    "collapsed": true
   },
   "source": [
    "# Externally controlled alternating memory buffers"
   ]
  },
  {
   "cell_type": "code",
   "execution_count": 21,
   "metadata": {},
   "outputs": [],
   "source": [
    "class UpdateContext(object):\n",
    "    def __init__(self, env):\n",
    "        self.env = env\n",
    "        \n",
    "    def __call__(self, t):\n",
    "        if t < self.env.init_phase or (t > 1. and .0 < (t % 1.) < .7):\n",
    "            return 1.\n",
    "        else:\n",
    "            return 0.\n",
    "\n",
    "def ExtControlTest(env):\n",
    "    with nengo.Network(seed=2) as model:\n",
    "        recalled_ctx = nengo.Node(env.recalled_ctx_fn)\n",
    "        context_net = Context5(env.d, env.beta)\n",
    "        nengo.Connection(recalled_ctx, context_net.input)\n",
    "\n",
    "        nengo.Connection(nengo.Node(UpdateContext(env)), context_net.input_update_context)\n",
    "\n",
    "        initialization_node = nengo.Node(env.context_init_fn, size_in=env.d)\n",
    "        nengo.Connection(initialization_node, context_net.current.input)\n",
    "        nengo.Connection(initialization_node, context_net.old.input)\n",
    "\n",
    "        model.p_recalled_ctx = nengo.Probe(recalled_ctx, synapse=0.01)\n",
    "        model.p_ctx = nengo.Probe(context_net.output, synapse=0.01)\n",
    "    return model"
   ]
  },
  {
   "cell_type": "code",
   "execution_count": 22,
   "metadata": {},
   "outputs": [
    {
     "name": "stderr",
     "output_type": "stream",
     "text": [
      "/home/jgosmann/.pyenv/versions/3.6.1/lib/python3.6/site-packages/nengo/cache.py:501: UserWarning: Decoder cache could not acquire lock and was set to readonly mode.\n",
      "  warnings.warn(\"Decoder cache could not acquire lock and was \"\n"
     ]
    },
    {
     "name": "stdout",
     "output_type": "stream",
     "text": [
      "Building finished in 0:00:01.                                                                                           \n",
      "Simulating finished in 0:00:40.                                                                                         \n"
     ]
    }
   ],
   "source": [
    "env1 = ContextTestEnv(1)\n",
    "t1, _, ctx1 = eval_net(ExtControlTest(env1), env1)"
   ]
  },
  {
   "cell_type": "code",
   "execution_count": 23,
   "metadata": {
    "scrolled": false
   },
   "outputs": [
    {
     "name": "stderr",
     "output_type": "stream",
     "text": [
      "/home/jgosmann/.pyenv/versions/3.6.1/lib/python3.6/site-packages/nengo/cache.py:501: UserWarning: Decoder cache could not acquire lock and was set to readonly mode.\n",
      "  warnings.warn(\"Decoder cache could not acquire lock and was \"\n"
     ]
    },
    {
     "name": "stdout",
     "output_type": "stream",
     "text": [
      "Building finished in 0:00:01.                                                                                           \n",
      "Simulating finished in 0:00:44.                                                                                         \n"
     ]
    }
   ],
   "source": [
    "env2 = ContextTestEnv(1, beta_stim=0.6)\n",
    "t2, _, ctx2 = eval_net(ExtControlTest(env2), env2)"
   ]
  },
  {
   "cell_type": "code",
   "execution_count": 24,
   "metadata": {},
   "outputs": [
    {
     "name": "stderr",
     "output_type": "stream",
     "text": [
      "/home/jgosmann/.pyenv/versions/3.6.1/lib/python3.6/site-packages/ipykernel_launcher.py:3: RuntimeWarning: invalid value encountered in true_divide\n",
      "  This is separate from the ipykernel package so we can avoid doing imports until\n"
     ]
    }
   ],
   "source": [
    "df1 = mean_ctx_sim(t1, ctx1, env1)\n",
    "df2 = mean_ctx_sim(t2, ctx2, env2)"
   ]
  },
  {
   "cell_type": "code",
   "execution_count": 25,
   "metadata": {},
   "outputs": [
    {
     "data": {
      "image/png": "[encoded data removed]",
      "text/plain": [
       "<Figure size 259.402x162.126 with 1 Axes>"
      ]
     },
     "metadata": {},
     "output_type": "display_data"
    }
   ],
   "source": [
    "fig = plt.figure(figsize=single_fig_size)\n",
    "\n",
    "ax = fig.add_subplot(1, 1, 1)\n",
    "\n",
    "ax.plot(df1.index, df1['y', 'mean'], label=\"Orthogonal\")\n",
    "ax.fill_between(df1.index, df1['y', 'ci_l'], df1['y', 'ci_u'], alpha=.3)\n",
    "ax.plot(df2.index, df2['y', 'mean'], label=\"Non-orthogonal\")\n",
    "ax.fill_between(df2.index, df2['y', 'ci_l'], df2['y', 'ci_u'], alpha=.3)\n",
    "\n",
    "target = lambda t, x: np.sqrt(1. - x**2)**np.floor(t)\n",
    "ax.plot(df1.index, target(df1.index, env1.beta), color='gray', label=\"Target\")\n",
    "\n",
    "ax.set_xlim(0., 6)\n",
    "ax.set_ylim(0., 1.)\n",
    "ax.legend(loc='lower left')\n",
    "ax.set_xlabel(\"Time lag (s)\")\n",
    "ax.set_ylabel(\"Context similarity\")\n",
    "\n",
    "sns.despine(fig)\n",
    "fig.tight_layout()"
   ]
  },
  {
   "cell_type": "code",
   "execution_count": 26,
   "metadata": {},
   "outputs": [],
   "source": [
    "save_tight_fig(fig, figpath('ext-amb.pdf'))"
   ]
  },
  {
   "cell_type": "code",
   "execution_count": null,
   "metadata": {},
   "outputs": [],
   "source": []
  }
 ],
 "metadata": {
  "kernelspec": {
   "display_name": "Python 3",
   "language": "python",
   "name": "python3"
  },
  "language_info": {
   "codemirror_mode": {
    "name": "ipython",
    "version": 3
   },
   "file_extension": ".py",
   "mimetype": "text/x-python",
   "name": "python",
   "nbconvert_exporter": "python",
   "pygments_lexer": "ipython3",
   "version": "3.6.1"
  },
  "widgets": {
   "state": {
    "2a6e221e6b844ea2ba1073c8daf830e7": {
     "views": [
      {
       "cell_index": 17
      }
     ]
    },
    "422a5339345b4ea58a0dec622283a233": {
     "views": [
      {
       "cell_index": 19
      }
     ]
    },
    "58729685358f4aa4a95a17c0242b5775": {
     "views": [
      {
       "cell_index": 19
      }
     ]
    },
    "6a6adc24b5fd4fb0abbd842c9bc46cde": {
     "views": [
      {
       "cell_index": 7
      }
     ]
    },
    "7e1365768fae431189315961f92a3487": {
     "views": [
      {
       "cell_index": 9
      }
     ]
    },
    "94e0230ea3fe45be894fb0c6d3a460db": {
     "views": [
      {
       "cell_index": 7
      }
     ]
    },
    "950da0b691714161bf8eb798ee36e96d": {
     "views": [
      {
       "cell_index": 9
      }
     ]
    },
    "a352b5debc7d40079935102e703d1d5d": {
     "views": [
      {
       "cell_index": 7
      }
     ]
    },
    "ad5ed4b88b0c4167ae166f142e63cb3a": {
     "views": [
      {
       "cell_index": 7
      }
     ]
    },
    "b4aa4bd846b44d35a7f395211d20e43b": {
     "views": [
      {
       "cell_index": 7
      }
     ]
    },
    "b6a0e136193a48d8b4d7902b96d7f4cf": {
     "views": [
      {
       "cell_index": 13
      }
     ]
    },
    "bcea5a88f06d470e8b7412387a8e7432": {
     "views": [
      {
       "cell_index": 18
      }
     ]
    },
    "cb4ff6d52d644c6fbd6fbfe9a1e9490b": {
     "views": [
      {
       "cell_index": 9
      }
     ]
    },
    "db49d90a00f4424ea92a0fd800372b68": {
     "views": [
      {
       "cell_index": 17
      }
     ]
    },
    "dc8720698b594f0fa7273d345df24b6d": {
     "views": [
      {
       "cell_index": 13
      }
     ]
    },
    "dfc4713467944310ae74741bdd30ab21": {
     "views": [
      {
       "cell_index": 13
      }
     ]
    },
    "e81ae2947a064e7980a75f253677288c": {
     "views": [
      {
       "cell_index": 17
      }
     ]
    },
    "f42352b4165648e092763d7f965e5caa": {
     "views": [
      {
       "cell_index": 9
      }
     ]
    },
    "f448d30cdd89410a8b0fed599bafede4": {
     "views": [
      {
       "cell_index": 17
      }
     ]
    },
    "ff95feba76404e5fb666f5302e925a51": {
     "views": [
      {
       "cell_index": 19
      }
     ]
    }
   },
   "version": "1.2.0"
  }
 },
 "nbformat": 4,
 "nbformat_minor": 2
}
