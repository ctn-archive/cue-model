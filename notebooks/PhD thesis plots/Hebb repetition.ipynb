{
 "cells": [
  {
   "cell_type": "code",
   "execution_count": 1,
   "metadata": {},
   "outputs": [],
   "source": [
    "%matplotlib inline"
   ]
  },
  {
   "cell_type": "code",
   "execution_count": 4,
   "metadata": {},
   "outputs": [],
   "source": [
    "import matplotlib.pyplot as plt\n",
    "import numpy as np\n",
    "import pandas as pd\n",
    "import seaborn as sns"
   ]
  },
  {
   "cell_type": "code",
   "execution_count": 29,
   "metadata": {},
   "outputs": [],
   "source": [
    "from cue.analysis.analysis import bootstrap_ci\n",
    "from cue.utils.plotting import *"
   ]
  },
  {
   "cell_type": "code",
   "execution_count": 24,
   "metadata": {},
   "outputs": [],
   "source": [
    "style()"
   ]
  },
  {
   "cell_type": "code",
   "execution_count": 11,
   "metadata": {},
   "outputs": [],
   "source": [
    "exp_data = pd.read_csv('../../data/hebb.csv')"
   ]
  },
  {
   "cell_type": "code",
   "execution_count": 15,
   "metadata": {},
   "outputs": [],
   "source": [
    "exp_data['x'] = np.round(exp_data['x']).astype(int)"
   ]
  },
  {
   "cell_type": "code",
   "execution_count": 23,
   "metadata": {},
   "outputs": [],
   "source": [
    "exp_data = exp_data.melt(id_vars='x', var_name='list', value_name='#recalls').dropna()"
   ]
  },
  {
   "cell_type": "code",
   "execution_count": 41,
   "metadata": {},
   "outputs": [],
   "source": [
    "data1 = np.load('../../data/final/hebb-direct-assoc.npz')\n",
    "data2 = np.load('../../data/final/hebb-forward-assoc.npz')"
   ]
  },
  {
   "cell_type": "code",
   "execution_count": 42,
   "metadata": {},
   "outputs": [],
   "source": [
    "def plot_model_data(data, ax=None):\n",
    "    if ax is None:\n",
    "        ax = plt.gca()\n",
    "        \n",
    "    correct = np.sum(data['responses'] == data['lists'], axis=-1)\n",
    "    m_correct = np.mean(correct, axis=0)\n",
    "    \n",
    "    ci_correct = np.array([bootstrap_ci(data, np.mean) for data in np.asarray(correct).T])\n",
    "    ci_correct[:, 0] = m_correct - ci_correct[:, 0]\n",
    "    ci_correct[:, 1] = ci_correct[:, 1] - m_correct\n",
    "    \n",
    "    x = np.arange(1, len(m_correct) + 1)\n",
    "    a = x % 3 == 0\n",
    "    b = x % 3 != 0\n",
    "    \n",
    "    ax.errorbar(x[b], m_correct[b], yerr=ci_correct[b, :].T, marker='o')\n",
    "    ax.errorbar(x[a], m_correct[a], yerr=ci_correct[a, :].T, marker='o')"
   ]
  },
  {
   "cell_type": "code",
   "execution_count": 56,
   "metadata": {},
   "outputs": [
    {
     "data": {
      "image/png": "[encoded data removed]",
      "text/plain": [
       "<Figure size 389.102x162.126 with 3 Axes>"
      ]
     },
     "metadata": {},
     "output_type": "display_data"
    }
   ],
   "source": [
    "fig = plt.figure(figsize=(textwidth, row_height))\n",
    "\n",
    "ax1 = fig.add_subplot(1, 3, 1)\n",
    "for n, g in exp_data.groupby('list'):\n",
    "    ax1.plot(g['x'], g['#recalls'], 'o-', label=n)\n",
    "\n",
    "ax2 = fig.add_subplot(1, 3, 2, sharex=ax1, sharey=ax1)\n",
    "plot_model_data(data1, ax2)\n",
    "\n",
    "ax3 = fig.add_subplot(1, 3, 3, sharex=ax1, sharey=ax1)\n",
    "plot_model_data(data2, ax3)\n",
    "\n",
    "ax1.set_ylabel(\"Mean correct recalls\")\n",
    "ax1.set_title(\"Experimental\")\n",
    "ax2.set_title(\"Position-item associations\")\n",
    "ax3.set_title(\"Forward associations\")\n",
    "\n",
    "\n",
    "fig.legend(\n",
    "    *ax1.get_legend_handles_labels(), ncol=2,\n",
    "    loc='upper center', bbox_to_anchor=(0.5, 0.25),\n",
    "    bbox_transform=fig.transFigure,)\n",
    "\n",
    "for ax in fig.axes:\n",
    "    ax.label_outer()\n",
    "    ax.set_xlabel(\"Trial\")\n",
    "\n",
    "sns.despine(fig)\n",
    "fig.tight_layout(rect=(0., 0.2, 1., 1.))"
   ]
  },
  {
   "cell_type": "code",
   "execution_count": 57,
   "metadata": {},
   "outputs": [],
   "source": [
    "save_tight_fig(fig, '../../../phd-thesis/figures/hebb.pdf')"
   ]
  },
  {
   "cell_type": "code",
   "execution_count": null,
   "metadata": {},
   "outputs": [],
   "source": []
  }
 ],
 "metadata": {
  "kernelspec": {
   "display_name": "Python 3",
   "language": "python",
   "name": "python3"
  },
  "language_info": {
   "codemirror_mode": {
    "name": "ipython",
    "version": 3
   },
   "file_extension": ".py",
   "mimetype": "text/x-python",
   "name": "python",
   "nbconvert_exporter": "python",
   "pygments_lexer": "ipython3",
   "version": "3.6.1"
  }
 },
 "nbformat": 4,
 "nbformat_minor": 2
}
