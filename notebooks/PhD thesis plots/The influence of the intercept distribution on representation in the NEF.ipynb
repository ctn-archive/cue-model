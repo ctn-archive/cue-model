{
 "cells": [
  {
   "cell_type": "markdown",
   "metadata": {},
   "source": [
    "# The influence of the intercept distribution on representation in the NEF\n",
    "\n",
    "*Jan Gosmann*\n",
    "\n",
    "## Abstract\n",
    "\n",
    "This report empirically investigates the effect of a number of intercept distributions on the noise and distortion error of neural representations in the Neural Engineering Framework (NEF). A number of distributions can increase the representational accuracy compared to a uniform intercept distribution. While the optimal intercept distribution depends on a number of factors, a `CosineSimilarity(d+2)` distribution is shown to be a good default. In particular, it improves the scaling of the noise error for spiking neurons to $O(d^{3/4}/\\sqrt{n})$ from $O(d/\\sqrt{n})$ where $d$ is the number of dimensions and $n$ is the number of neurons. Furthermore, it is shows that by using `CosineSimilarity(d+2)` for intercepts and evaluation points, the accuracy of previous methods to optimize Semantic Pointer representations can be matched or exceeded without an expensive optimization step."
   ]
  },
  {
   "cell_type": "code",
   "execution_count": 1,
   "metadata": {},
   "outputs": [],
   "source": [
    "%matplotlib inline"
   ]
  },
  {
   "cell_type": "code",
   "execution_count": 2,
   "metadata": {},
   "outputs": [],
   "source": [
    "from collections import defaultdict\n",
    "from functools import partial\n",
    "import itertools\n",
    "import re\n",
    "import string"
   ]
  },
  {
   "cell_type": "code",
   "execution_count": 3,
   "metadata": {},
   "outputs": [],
   "source": [
    "from joblib import Memory\n",
    "import matplotlib.pyplot as plt\n",
    "import nengo\n",
    "import numpy as np\n",
    "from psyrun import map_pspace, map_pspace_parallel, Param\n",
    "import scipy.spatial\n",
    "from scipy.special import gamma\n",
    "from scipy.stats import linregress\n",
    "import seaborn as sns"
   ]
  },
  {
   "cell_type": "code",
   "execution_count": 4,
   "metadata": {},
   "outputs": [],
   "source": [
    "from cue.analysis.analysis import bootstrap_ci, bootstrap_diff_p\n",
    "from cue.utils.plotting import row_height, save_tight_fig, single_fig_size, style, textwidth"
   ]
  },
  {
   "cell_type": "code",
   "execution_count": 5,
   "metadata": {},
   "outputs": [],
   "source": [
    "memory = Memory(cachedir='.cache', verbose=0)"
   ]
  },
  {
   "cell_type": "code",
   "execution_count": 6,
   "metadata": {},
   "outputs": [],
   "source": [
    "style()"
   ]
  },
  {
   "cell_type": "code",
   "execution_count": 7,
   "metadata": {},
   "outputs": [],
   "source": [
    "def ci_l(x, func):\n",
    "    return bootstrap_ci(x, func)[0]\n",
    "\n",
    "def ci_u(x, func):\n",
    "    return bootstrap_ci(x, func)[1]\n",
    "\n",
    "statistic = lambda func: (func, partial(ci_l, func=func), partial(ci_u, func=func))"
   ]
  },
  {
   "cell_type": "markdown",
   "metadata": {},
   "source": [
    "## Measuring noise and distortion\n",
    "\n",
    "To analyze the effect of different intercept distributions, it is necessary to measure the noise and distortion error in the representation for different values in the representational space. It is not easy, to exhaustively quantify this in an arbitrary high-dimensional space. But we can make use of the fact that our representational space is usually isotropic. That is, our encoders and evaluation points have the same distribution along every possible direction. This allows us to cut through the hyper-ball with a one-dimensional line (intersecting the center) at which we take measurements of the error and this tells us the error along any choice of direction. Without loss of generality we can chose that line to align with the first dimension.\n",
    "\n",
    "Each point on that line will be presented as stimulus to an ensemble for a duration of *adjust_duration* to reach the steady state and then measure the response for *sample_duration*. Summing those values gives the *measurement_duration*.\n",
    "\n",
    "We define the total error as $E_{\\mathrm{tot}} = \\langle |\\vec x - \\hat{\\vec x}| \\rangle = \\sqrt{E_{\\mathrm{n}}^2 + E_{\\mathrm{d}}^2}$ where $\\vec x$ is the true value, $\\hat{\\vec x}$ the decoded value, $|\\cdot|$ the L2 norm, and $\\langle \\cdot \\rangle$ the average over time. The noise error is given by $E_{\\mathrm{n}} = \\langle |\\hat{\\vec{x}} - \\langle \\hat{\\vec x} \\rangle|\\rangle$. The distortion error is given by $E_{\\mathrm{d}} = |\\vec x - \\langle \\hat{\\vec x} \\rangle|$."
   ]
  },
  {
   "cell_type": "code",
   "execution_count": 8,
   "metadata": {},
   "outputs": [],
   "source": [
    "class StimulusFunction(object):\n",
    "    \"\"\"Provides a stimulus on a line.\n",
    "    \n",
    "    Parameters\n",
    "    ----------\n",
    "    x : (n,) ndarray\n",
    "        Coordinates on the line to define stimuli.\n",
    "    d : int\n",
    "        Dimensionality of the stimulus.\n",
    "    measurement_duration : float\n",
    "        Duration to present each stimulus for.\n",
    "    \"\"\"\n",
    "    def __init__(self, x, d, measurement_duration):\n",
    "        self.x = x\n",
    "        self.measurement_duration = measurement_duration\n",
    "        self._stimulus = np.zeros(d)\n",
    "        \n",
    "    def __call__(self, t):\n",
    "        i = int(t // self.measurement_duration)\n",
    "        if i < len(self.x):\n",
    "            self._stimulus[0] = self.x[i]\n",
    "        else:\n",
    "            self._stimulus[0] = 0.\n",
    "        return self._stimulus\n",
    "\n",
    "\n",
    "@memory.cache\n",
    "def measure_error(\n",
    "        x, d, n, synapse=0.005, adjust_duration=None, sample_duration=None,\n",
    "        solver=None, function=None, seed=None, **ens_kwargs):\n",
    "    \"\"\"Determine error measures for *d* dimensional representation with given parameters.\n",
    "    \n",
    "    Parameters\n",
    "    ----------\n",
    "    x : (n,) ndarray\n",
    "        Coordinates of a 1d line cutting through the hyper-ball to sample error at.\n",
    "    d : int\n",
    "        Dimensionality of the representation.\n",
    "    n : int\n",
    "        Number of neurons in the ensemble.\n",
    "    synapse : float or nengo.Synapse\n",
    "        Synapse on the outgoing connection from the high-dimensional ensemble.\n",
    "    adjust_duration : float, optional\n",
    "        Duration to wait for steady state response. If `None`, 100 times *synapse* will be used.\n",
    "    sample_duration : float, optional\n",
    "        Duration to sample for.\n",
    "    solver : nengo.Solver, optional\n",
    "        Solver to determine decoders for the representation.\n",
    "    seed : int, optional\n",
    "        Network seed.\n",
    "    ens_kwargs : dict\n",
    "        Passed to the ensemble.\n",
    "        \n",
    "    Returns\n",
    "    -------\n",
    "    dict\n",
    "        Dict where `'total'` is the total error,\n",
    "        `'noise'` the noise error and `'distortion'` the distortion\n",
    "        (all averages over *sample_duration*).\n",
    "    \"\"\"\n",
    "    if adjust_duration is None:\n",
    "        adjust_duration = 100. * synapse\n",
    "    if sample_duration is None:\n",
    "        sample_duration = 100. * synapse\n",
    "    if function is None:\n",
    "        function = lambda x: x\n",
    "    if solver is None:\n",
    "        solver = nengo.solvers.LstsqL2()\n",
    "        \n",
    "    measurement_duration = adjust_duration + sample_duration\n",
    "    total_duration = len(x) * measurement_duration\n",
    "           \n",
    "    with nengo.Network(seed=seed) as model:\n",
    "        ens = inp = nengo.Ensemble(n, d, **ens_kwargs)\n",
    "        out = nengo.Node(size_in=len(function(np.zeros(d))))\n",
    "        nengo.Connection(ens, out, solver=solver, function=function, synapse=None)\n",
    "        stim_node = nengo.Node(StimulusFunction(x, d, measurement_duration))\n",
    "        nengo.Connection(stim_node, inp, synapse=None)\n",
    "        p = nengo.Probe(out, synapse=synapse)\n",
    "\n",
    "    with nengo.Simulator(model, progress_bar=False) as sim:\n",
    "        sim.run(total_duration)\n",
    "\n",
    "    t = sim.trange()\n",
    "    distortion = np.empty_like(x)\n",
    "    noise = np.empty_like(x)\n",
    "    total = np.empty_like(x)\n",
    "    for i in range(len(x)):\n",
    "        s = np.logical_and(i * measurement_duration + adjust_duration < t, t <= (i + 1) * measurement_duration)\n",
    "        y = np.mean(sim.data[p][s], axis=0)\n",
    "        x_prime = np.zeros(d)\n",
    "        x_prime[0] = x[i]\n",
    "        distortion[i] = np.sqrt(np.sum(np.square(function(x_prime) - y)))\n",
    "        noise[i] = np.mean(np.linalg.norm(sim.data[p][s] - y[None, :], axis=1))\n",
    "\n",
    "        total[i] = np.mean(np.linalg.norm(sim.data[p][s] - function(x_prime)[None, :], axis=1))\n",
    "        \n",
    "    return {\n",
    "        'total': total,\n",
    "        'noise': noise,\n",
    "        'distortion': distortion,\n",
    "    }"
   ]
  },
  {
   "cell_type": "markdown",
   "metadata": {},
   "source": [
    "We can estimate the mean error from the error on the line."
   ]
  },
  {
   "cell_type": "code",
   "execution_count": 9,
   "metadata": {},
   "outputs": [],
   "source": [
    "def integrate_ball_from_line(x, y, d):\n",
    "    # When using np.linspace we have the left and right side end point,\n",
    "    # thus interpolating points inbetween to avoid over estimation by\n",
    "    # the additional point.\n",
    "    dx = np.diff(x)\n",
    "    dy = np.diff(y)\n",
    "    dangle = 2. * np.pi**(d / 2.) / gamma(d / 2.)\n",
    "    y_interp = y[:-1] + dy / 2.\n",
    "    # To can a somewhat decent approximation of the integral in high dimensions we have\n",
    "    # to take the mean of the radius term at multiple location because otherwise we will\n",
    "    # easily under- or overestimate the value.\n",
    "    radius_factor = np.mean(np.abs(x[:-1, None] + np.linspace(\n",
    "        0., dx[0], endpoint=False)[None, :])**(d-1), axis=1)\n",
    "    # Dividing by 2 because we are integrating from -1 to +1, not 0 to 1, thus doubling\n",
    "    # the error.\n",
    "    return np.sum(y_interp * dx * radius_factor) * dangle / 2.\n",
    "\n",
    "def ball_volume(d, radius=1.):\n",
    "    # https://en.wikipedia.org/wiki/Volume_of_an_n-ball\n",
    "    return np.pi**(d / 2.) / gamma(d / 2. + 1.) * radius**d\n",
    "\n",
    "def mean_error(x, y, d):\n",
    "    return integrate_ball_from_line(x, y, d) / ball_volume(d)"
   ]
  },
  {
   "cell_type": "code",
   "execution_count": 10,
   "metadata": {},
   "outputs": [],
   "source": [
    "def extend_df_with_error_means(x, df):\n",
    "    for tp in ['total', 'noise', 'distortion']:\n",
    "        df['mean_' + tp] = df.apply(lambda row: mean_error(x, row[tp], row['d']), axis=1)\n",
    "    return x, df"
   ]
  },
  {
   "cell_type": "code",
   "execution_count": 11,
   "metadata": {},
   "outputs": [],
   "source": [
    "def process_pspace(pspace, x=None):\n",
    "    if x is None:\n",
    "        x = np.linspace(-1., 1.)\n",
    "    return x, pd.DataFrame(map_pspace(\n",
    "        lambda **kwargs: measure_error(x, **{k: v for k, v in kwargs.items() if k != 'tag'}), pspace))"
   ]
  },
  {
   "cell_type": "markdown",
   "metadata": {},
   "source": [
    "## Noise with neuron number and number of dimensions\n",
    "\n",
    "To verify above code let us reproduce the result the noise goes down by $O(\\sqrt{n})$ with n being the number of neurons.  For the number of dimensions we get an increase of the noise by a factor of $O(d)$ (see S4 of [1]).\n",
    "\n",
    "[1]: Gosmann, Jan, and Chris Eliasmith. “Optimizing Semantic Pointer Representations for Symbol-Like Processing in Spiking Neural Networks.” PLoS ONE 11, no. 2 (February 22, 2016): e0149928. [doi:10.1371/journal.pone.0149928](http://dx.doi.org/10.1371/journal.pone.0149928)."
   ]
  },
  {
   "cell_type": "code",
   "execution_count": 12,
   "metadata": {},
   "outputs": [],
   "source": [
    "pspace = Param(n=[50, 100, 200, 500, 1000, 2000]) * Param(d=[1, 16, 32, 64]) * Param(seed=np.arange(15))\n",
    "x, df = extend_df_with_error_means(*process_pspace(pspace))"
   ]
  },
  {
   "cell_type": "code",
   "execution_count": 13,
   "metadata": {},
   "outputs": [],
   "source": [
    "pspace = Param(n=2000, d=[1, 2, 4, 8, 16, 24, 32, 40, 48, 56, 64]) * Param(seed=np.arange(15))\n",
    "x2, df2 = extend_df_with_error_means(*process_pspace(pspace))"
   ]
  },
  {
   "cell_type": "code",
   "execution_count": 14,
   "metadata": {},
   "outputs": [],
   "source": [
    "df_stat = df.groupby(['d', 'n']).agg({'mean_' + k: statistic(np.mean) for k in ['total', 'noise', 'distortion']})\n",
    "df2_stat = df2.groupby(['d', 'n']).agg({'mean_' + k: statistic(np.mean) for k in ['total', 'noise', 'distortion']})"
   ]
  },
  {
   "cell_type": "code",
   "execution_count": 15,
   "metadata": {},
   "outputs": [
    {
     "data": {
      "image/png": "[encoded data removed]",
      "text/plain": [
       "<Figure size 389.102x162.126 with 2 Axes>"
      ]
     },
     "metadata": {},
     "output_type": "display_data"
    }
   ],
   "source": [
    "fig = plt.figure(figsize=(textwidth, row_height))\n",
    "\n",
    "ax1 = fig.add_subplot(1, 2, 1)\n",
    "\n",
    "for d, g in df_stat.groupby('d'):\n",
    "    n = g.index.get_level_values('n')\n",
    "    m = g['mean_noise', 'mean']\n",
    "    l = m - g['mean_noise', 'ci_l']\n",
    "    u = g['mean_noise', 'ci_u'] - m\n",
    "    ax1.errorbar(n, m, yerr=(l, u), fmt='o', label=None)\n",
    "    \n",
    "ax1.set_prop_cycle(None)\n",
    "for d, g in df_stat.groupby('d'):\n",
    "    ax1.plot(n, g.loc[d, 1000]['mean_noise', 'mean'] * np.sqrt(1000. / n), label='$d = {}$'.format(d))\n",
    "    \n",
    "ax1.set_ylim(bottom=0., top=1.6 * df_stat['mean_noise', 'mean'].max())\n",
    "ax1.legend()\n",
    "ax1.set_title(\"(a) Noise error in dependence of neurons\")\n",
    "ax1.set_xlabel(\"Number of neurons\")\n",
    "ax1.set_ylabel(\"Mean noise error $E_{\\mathrm{n}}$\")\n",
    "\n",
    "ax2 = fig.add_subplot(1, 2, 2)\n",
    "d = df2_stat.index.get_level_values('d')\n",
    "m = df2_stat['mean_noise', 'mean']\n",
    "l = m - df2_stat['mean_noise', 'ci_l']\n",
    "u = df2_stat['mean_noise', 'ci_u'] - m\n",
    "ax2.errorbar(d, m, yerr=(l, u), fmt='o')\n",
    "slope, intercept, _, _, _ = linregress(d, m)\n",
    "ax2.plot(d, d * slope + intercept, c='gray')\n",
    "\n",
    "ax2.set_ylim(bottom=0.)\n",
    "ax2.set_title(\"(b) Noise error in dependence of dimensions\")\n",
    "ax2.set_xlabel(\"Dimensions $d$\")\n",
    "ax2.set_ylabel(\"Mean noise error $E_{\\mathrm{n}}$\")\n",
    "    \n",
    "sns.despine(fig)\n",
    "fig.tight_layout()"
   ]
  },
  {
   "cell_type": "code",
   "execution_count": 16,
   "metadata": {},
   "outputs": [],
   "source": [
    "save_tight_fig(fig, '../../../phd-thesis/figures/noise-error.pdf')"
   ]
  },
  {
   "cell_type": "markdown",
   "metadata": {},
   "source": [
    "## Noise and distortion depending on represented value\n",
    "\n",
    "Now let us look more closely how different parts of the representational space are affected by noise and distortion. We will scale the neuron number by the number of dimensions which is the standard scaling in the Nengo SPA implementation. This offsets some of the increase of noise caused by the increase of dimensionality, but not all of it. Another reason for not using the quadratic scaling is that the ensemble size for higher dimensionalities grows too quickly to be reasonable to simulate."
   ]
  },
  {
   "cell_type": "code",
   "execution_count": 17,
   "metadata": {},
   "outputs": [],
   "source": [
    "ds = np.array([1, 4, 16, 64])\n",
    "pspace = Param(d=ds, n=50 * ds) * Param(seed=np.arange(15))\n",
    "x, df = process_pspace(pspace)"
   ]
  },
  {
   "cell_type": "code",
   "execution_count": 18,
   "metadata": {},
   "outputs": [],
   "source": [
    "def plot_ball_cut(data, y, hue, ax=None, **kwargs):\n",
    "    if ax is None:\n",
    "        ax = plt.gca()\n",
    "    col_cycle = iter(sns.color_palette('husl', n_colors=len(data[hue].unique())))\n",
    "    for (d, g), color in zip(data.groupby(hue, sort=False), col_cycle):\n",
    "        hue_data = np.array([g2[y].values[0] for seed, g2 in g.groupby('seed')])\n",
    "        ci = np.apply_along_axis(partial(bootstrap_ci, func=np.mean), 0, hue_data)\n",
    "        ax.fill_between(x, ci[0], ci[1], color=color, alpha=0.5)\n",
    "        ax.plot(x, np.mean(hue_data, axis=0), color=color, label=\"${} = {}$\".format(hue, d), **kwargs)\n",
    "        \n",
    "def make_error_plot(data, hue, legend_labels=None, fig=None):\n",
    "    if fig is None:\n",
    "        fig = plt.figure(figsize=(textwidth, row_height),)\n",
    "    \n",
    "    ax = None\n",
    "    for i, tp in enumerate(['noise', 'distortion', 'total']):\n",
    "        with sns.axes_style('whitegrid', rc={'axes.linewidth': 0.5, 'lines.linewidth': 0.25}):\n",
    "            ax = fig.add_subplot(1, 3, i + 1, sharey=ax, sharex=ax)\n",
    "        plot_ball_cut(data, tp, hue, ax=ax)\n",
    "        if i > 0:\n",
    "            plt.setp(ax.get_yticklabels(), visible=False)\n",
    "        else:\n",
    "            ax.set_ylabel(r\"Mean error $\\langle E \\rangle$\")\n",
    "\n",
    "        ax.set_xlim(-1., 1.)\n",
    "        ax.set_ylim(bottom=0.)\n",
    "        ax.set_title(\"({}) {} error\".format(string.ascii_lowercase[i], tp.capitalize()))\n",
    "        ax.set_xlabel(\"$x$\")\n",
    "        \n",
    "    handles, labels = ax.get_legend_handles_labels()\n",
    "    if legend_labels is not None:\n",
    "        labels = legend_labels\n",
    "    fig.legend(handles, labels,\n",
    "               loc='upper center', bbox_to_anchor=(0.5, 0.25),\n",
    "               bbox_transform=fig.transFigure, ncol=7)\n",
    "    sns.despine(fig, right=False)\n",
    "    fig.tight_layout(rect=(0., 0.2, 1., 1.))\n",
    "    return fig"
   ]
  },
  {
   "cell_type": "code",
   "execution_count": 19,
   "metadata": {},
   "outputs": [],
   "source": [
    "def error_statistics(x, df, hue):\n",
    "    x, df = extend_df_with_error_means(x, df)\n",
    "    comparisons = list(itertools.combinations(df[hue].unique(), 2))\n",
    "    stats = defaultdict(list)\n",
    "    for a, b in comparisons:\n",
    "        d1 = df[df[hue] == a]\n",
    "        d2 = df[df[hue] == b]\n",
    "        for k in ['total', 'distortion', 'noise']:\n",
    "            stats[(k, 'diff')].append(d2['mean_' + k].mean() - d1['mean_' + k].mean())\n",
    "            stats[(k, 'p')].append(bootstrap_diff_p(d1['mean_' + k], d2['mean_' + k]))\n",
    "    return pd.DataFrame(stats, index=comparisons)"
   ]
  },
  {
   "cell_type": "code",
   "execution_count": 20,
   "metadata": {},
   "outputs": [
    {
     "name": "stderr",
     "output_type": "stream",
     "text": [
      "/home/jgosmann/.pyenv/versions/3.6.1/lib/python3.6/site-packages/matplotlib/mathtext.py:834: MathTextWarning: Substituting with a symbol from Computer Modern.\n",
      "  MathTextWarning)\n"
     ]
    },
    {
     "data": {
      "image/png": "[encoded data removed]",
      "text/plain": [
       "<Figure size 389.102x162.126 with 3 Axes>"
      ]
     },
     "metadata": {},
     "output_type": "display_data"
    }
   ],
   "source": [
    "fig = make_error_plot(df, 'd');"
   ]
  },
  {
   "cell_type": "code",
   "execution_count": 21,
   "metadata": {},
   "outputs": [
    {
     "name": "stderr",
     "output_type": "stream",
     "text": [
      "/home/jgosmann/.pyenv/versions/3.6.1/lib/python3.6/site-packages/matplotlib/mathtext.py:834: MathTextWarning: Substituting with a symbol from Computer Modern.\n",
      "  MathTextWarning)\n"
     ]
    }
   ],
   "source": [
    "save_tight_fig(fig, '../../../phd-thesis/figures/error-linecut.pdf')"
   ]
  },
  {
   "cell_type": "markdown",
   "metadata": {},
   "source": [
    "This plot shows the mean error for each dimensionality averaged over five trials with the shaded regions indicating the minimum and maximum values.\n",
    "\n",
    "We observe that the noise is pretty constant, though for higher dimensionalities it might decrease toward the surface of the n-ball (left and right edge of the plot). The distortion is interesting, it increases towards the hyperball surface and more so the higher the dimensionality.\n",
    "\n",
    "The distortion towards the surface can be explained by the following visualization."
   ]
  },
  {
   "cell_type": "code",
   "execution_count": 22,
   "metadata": {},
   "outputs": [
    {
     "data": {
      "image/png": "[encoded data removed]",
      "text/plain": [
       "<Figure size 162.126x162.126 with 1 Axes>"
      ]
     },
     "metadata": {},
     "output_type": "display_data"
    }
   ],
   "source": [
    "eval_points = nengo.dists.UniformHypersphere().sample(50, 2, np.random.RandomState(42))\n",
    "hull = scipy.spatial.ConvexHull(eval_points)\n",
    "\n",
    "fig = plt.figure(figsize=(row_height, row_height))\n",
    "ax = fig.add_subplot(1, 1, 1, aspect='equal')\n",
    "ax.scatter(eval_points[:, 0], eval_points[:, 1], color=sns.color_palette()[0], zorder=2)\n",
    "ax.add_artist(plt.Polygon(eval_points[hull.vertices], ec='none', fc=sns.color_palette()[1], alpha=0.5, zorder=1))\n",
    "ax.add_artist(plt.Circle((0, 0), radius=1, fc='none', ec='black'))\n",
    "ax.set_xlim(-1.1, 1.1)\n",
    "ax.set_ylim(-1.1, 1.1)\n",
    "ax.xaxis.set_visible(False)\n",
    "ax.yaxis.set_visible(False)\n",
    "\n",
    "sns.despine(fig, bottom=True, left=True)\n",
    "fig.tight_layout()"
   ]
  },
  {
   "cell_type": "code",
   "execution_count": 23,
   "metadata": {},
   "outputs": [],
   "source": [
    "save_tight_fig(fig, '../../../phd-thesis/figures/circle-covering.pdf')"
   ]
  },
  {
   "cell_type": "markdown",
   "metadata": {},
   "source": [
    "\n",
    "\n",
    "Here we sample 50 evaluation points uniformly in the 2d sphere as it is done in Nengo by default. But because all points are sampled from within the sphere, the convex hull of those points does not cover all of the sphere. These regions outside of the convex hull, but inside the hypersphere will not be considered in the decoder optimization. This is not extremely bad because the smoothness of the neuron tuning curves allows for extrapolation outside of the convex hull, but it explains the increased distortion towards the hypersphere surface. Note that this problem will get more pronounced with more dimensions, because the volume of an n-dimensional ball approaches 0 for $n \\rightarrow \\infty$.\n",
    "\n",
    "To show that the distortion is indeed caused by the incomplete covering with evaluation points, we slightly increase the radius from which the evaluation points will be picked."
   ]
  },
  {
   "cell_type": "code",
   "execution_count": 24,
   "metadata": {},
   "outputs": [],
   "source": [
    "class Scale(nengo.dists.Distribution):\n",
    "    def __init__(self, factor, dist):\n",
    "        super(Scale, self).__init__()\n",
    "        self.factor = factor\n",
    "        self.dist = dist\n",
    "        \n",
    "    def sample(self, n, d=None, rng=None):\n",
    "        return self.factor * self.dist.sample(n, d, rng=rng)\n",
    "    \n",
    "    def __repr__(self):\n",
    "        return 'Scale({!r}, {!r})'.format(self.factor, self.dist)\n",
    "    \n",
    "    def __hash__(self):\n",
    "        return hash((self.factor, self.dist))\n",
    "    \n",
    "    def __eq__(self, other):\n",
    "        return isinstance(other, Scale) and self.factor == other.factor and self.dist == other.dist"
   ]
  },
  {
   "cell_type": "code",
   "execution_count": 25,
   "metadata": {},
   "outputs": [
    {
     "name": "stderr",
     "output_type": "stream",
     "text": [
      "/home/jgosmann/.pyenv/versions/3.6.1/lib/python3.6/site-packages/matplotlib/mathtext.py:834: MathTextWarning: Substituting with a symbol from Computer Modern.\n",
      "  MathTextWarning)\n"
     ]
    },
    {
     "data": {
      "image/png": "[encoded data removed]",
      "text/plain": [
       "<Figure size 389.102x162.126 with 3 Axes>"
      ]
     },
     "metadata": {},
     "output_type": "display_data"
    }
   ],
   "source": [
    "d = 64\n",
    "pspace = Param(d=d, n=50 * d, eval_points=[\n",
    "    nengo.dists.UniformHypersphere(),\n",
    "    Scale(1.3, nengo.dists.UniformHypersphere()),\n",
    "]) * Param(seed=np.arange(15))\n",
    "x, df = process_pspace(pspace)\n",
    "fig = make_error_plot(df, 'eval_points', [\"$r = 1$\", \"$r = 1.3$\"]);"
   ]
  },
  {
   "cell_type": "code",
   "execution_count": 26,
   "metadata": {},
   "outputs": [
    {
     "name": "stderr",
     "output_type": "stream",
     "text": [
      "/home/jgosmann/.pyenv/versions/3.6.1/lib/python3.6/site-packages/matplotlib/mathtext.py:834: MathTextWarning: Substituting with a symbol from Computer Modern.\n",
      "  MathTextWarning)\n"
     ]
    }
   ],
   "source": [
    "save_tight_fig(fig, '../../../phd-thesis/figures/error-radius-scale.pdf')"
   ]
  },
  {
   "cell_type": "code",
   "execution_count": 27,
   "metadata": {
    "scrolled": true
   },
   "outputs": [
    {
     "data": {
      "text/html": [
       "<div>\n",
       "<style scoped>\n",
       "    .dataframe tbody tr th:only-of-type {\n",
       "        vertical-align: middle;\n",
       "    }\n",
       "\n",
       "    .dataframe tbody tr th {\n",
       "        vertical-align: top;\n",
       "    }\n",
       "\n",
       "    .dataframe thead tr th {\n",
       "        text-align: left;\n",
       "    }\n",
       "</style>\n",
       "<table border=\"1\" class=\"dataframe\">\n",
       "  <thead>\n",
       "    <tr>\n",
       "      <th></th>\n",
       "      <th colspan=\"2\" halign=\"left\">distortion</th>\n",
       "      <th colspan=\"2\" halign=\"left\">noise</th>\n",
       "      <th colspan=\"2\" halign=\"left\">total</th>\n",
       "    </tr>\n",
       "    <tr>\n",
       "      <th></th>\n",
       "      <th>diff</th>\n",
       "      <th>p</th>\n",
       "      <th>diff</th>\n",
       "      <th>p</th>\n",
       "      <th>diff</th>\n",
       "      <th>p</th>\n",
       "    </tr>\n",
       "  </thead>\n",
       "  <tbody>\n",
       "    <tr>\n",
       "      <th>(UniformHypersphere(), Scale(1.3, UniformHypersphere()))</th>\n",
       "      <td>-0.011335</td>\n",
       "      <td>0.0</td>\n",
       "      <td>0.018953</td>\n",
       "      <td>0.0</td>\n",
       "      <td>0.015165</td>\n",
       "      <td>0.0</td>\n",
       "    </tr>\n",
       "  </tbody>\n",
       "</table>\n",
       "</div>"
      ],
      "text/plain": [
       "                                                   distortion          noise  \\\n",
       "                                                         diff    p      diff   \n",
       "(UniformHypersphere(), Scale(1.3, UniformHypers...  -0.011335  0.0  0.018953   \n",
       "\n",
       "                                                            total       \n",
       "                                                      p      diff    p  \n",
       "(UniformHypersphere(), Scale(1.3, UniformHypers...  0.0  0.015165  0.0  "
      ]
     },
     "execution_count": 27,
     "metadata": {},
     "output_type": "execute_result"
    }
   ],
   "source": [
    "error_statistics(x, df, 'eval_points')"
   ]
  },
  {
   "cell_type": "markdown",
   "metadata": {},
   "source": [
    "We see that this makes the distortion flatter, but it also increases the noise and mean distortion because we are effectively scaling the ensemble radius."
   ]
  },
  {
   "cell_type": "markdown",
   "metadata": {},
   "source": [
    "## Activity distribution"
   ]
  },
  {
   "cell_type": "code",
   "execution_count": 28,
   "metadata": {},
   "outputs": [
    {
     "name": "stdout",
     "output_type": "stream",
     "text": [
      "\r",
      "Building finished in 0:00:01.                                                                                                                                                                                                                \n"
     ]
    }
   ],
   "source": [
    "d = 64\n",
    "n = 50 * 64\n",
    "\n",
    "with nengo.Network(seed=42) as model:\n",
    "    ens = nengo.Ensemble(n, d)\n",
    "\n",
    "with nengo.Simulator(model) as sim:\n",
    "    pass\n",
    "\n",
    "act = np.mean(nengo.builder.ensemble.get_activities(sim.data[ens], ens, sim.data[ens].eval_points) > 0., axis=0)"
   ]
  },
  {
   "cell_type": "code",
   "execution_count": 29,
   "metadata": {},
   "outputs": [
    {
     "name": "stderr",
     "output_type": "stream",
     "text": [
      "/home/jgosmann/.pyenv/versions/3.6.1/lib/python3.6/site-packages/matplotlib/axes/_axes.py:6462: UserWarning: The 'normed' kwarg is deprecated, and has been replaced by the 'density' kwarg.\n",
      "  warnings.warn(\"The 'normed' kwarg is deprecated, and has been \"\n"
     ]
    },
    {
     "data": {
      "image/png": "[encoded data removed]",
      "text/plain": [
       "<Figure size 259.402x162.126 with 1 Axes>"
      ]
     },
     "metadata": {},
     "output_type": "display_data"
    }
   ],
   "source": [
    "fig = plt.figure(figsize=single_fig_size)\n",
    "ax = fig.add_subplot(1, 1, 1)\n",
    "sns.distplot(act, norm_hist=True, bins=20, ax=ax, kde_kws={'bw': 0.05})\n",
    "ax.set_xlim(0., 1.)\n",
    "ax.set_xlabel(\"Proportion of neurons active\")\n",
    "ax.set_ylabel(\"Normed frequency\")\n",
    "sns.despine(fig)\n",
    "fig.tight_layout()"
   ]
  },
  {
   "cell_type": "code",
   "execution_count": 30,
   "metadata": {},
   "outputs": [],
   "source": [
    "save_tight_fig(fig, '../../../phd-thesis/figures/act-proportion.pdf')"
   ]
  },
  {
   "cell_type": "code",
   "execution_count": 31,
   "metadata": {},
   "outputs": [],
   "source": [
    "@memory.cache\n",
    "def inactive_fraction(d, seed=42, n_per_d=50, **kwargs):\n",
    "    n = n_per_d * d\n",
    "    \n",
    "    with nengo.Network(seed=seed) as model:\n",
    "        ens = nengo.Ensemble(n, d, n_eval_points=10000, **kwargs)\n",
    "\n",
    "    with nengo.Simulator(model, progress_bar=False) as sim:\n",
    "        pass\n",
    "\n",
    "    return np.sum(np.max(nengo.builder.ensemble.get_activities(\n",
    "        sim.data[ens], ens, sim.data[ens].eval_points), axis=0) <= 0) / float(n)\n",
    "\n",
    "@memory.cache\n",
    "def inactive_fraction_mean(ds, n_trials=30, n_per_d=50, **kwargs):\n",
    "    raw = [[inactive_fraction(d, seed=i, **kwargs) for i in range(n_trials)] for d in ds]\n",
    "    mean = [np.mean(x) for x in raw]\n",
    "    ci = np.array([bootstrap_ci(x, np.mean) for x in raw]).T\n",
    "    return mean, ci"
   ]
  },
  {
   "cell_type": "code",
   "execution_count": 32,
   "metadata": {},
   "outputs": [
    {
     "name": "stdout",
     "output_type": "stream",
     "text": [
      "\r",
      "Building finished in 0:00:01.                                                                                                                                                                                                                \n"
     ]
    }
   ],
   "source": [
    "d = 64\n",
    "n = 50 * 64\n",
    "\n",
    "with nengo.Network(seed=42) as model:\n",
    "    ens = nengo.Ensemble(n, d, intercepts=nengo.dists.CosineSimilarity(d + 2))\n",
    "\n",
    "with nengo.Simulator(model) as sim:\n",
    "    pass\n",
    "\n",
    "act = np.mean(nengo.builder.ensemble.get_activities(sim.data[ens], ens, sim.data[ens].eval_points) > 0., axis=0)"
   ]
  },
  {
   "cell_type": "code",
   "execution_count": 33,
   "metadata": {},
   "outputs": [
    {
     "name": "stderr",
     "output_type": "stream",
     "text": [
      "/home/jgosmann/.pyenv/versions/3.6.1/lib/python3.6/site-packages/matplotlib/axes/_axes.py:6462: UserWarning: The 'normed' kwarg is deprecated, and has been replaced by the 'density' kwarg.\n",
      "  warnings.warn(\"The 'normed' kwarg is deprecated, and has been \"\n"
     ]
    },
    {
     "data": {
      "image/png": "[encoded data removed]",
      "text/plain": [
       "<Figure size 389.102x162.126 with 2 Axes>"
      ]
     },
     "metadata": {},
     "output_type": "display_data"
    }
   ],
   "source": [
    "ds = np.concatenate((np.array(np.arange(1, 33)), [40, 48, 54, 64, 70, 86, 108, 124]))\n",
    "\n",
    "fig = plt.figure(figsize=(textwidth, row_height))\n",
    "ax1 = fig.add_subplot(1, 2, 1)\n",
    "\n",
    "mean, ci = inactive_fraction_mean(ds)\n",
    "ax1.plot(ds, mean, label=\"Uniform\")\n",
    "ax1.fill_between(ds, ci[0], ci[1], alpha=0.5)\n",
    "\n",
    "mean, ci = inactive_fraction_mean(ds, intercepts=nengo.dists.CosineSimilarity(d + 2))\n",
    "ax1.plot(ds, mean, label=r\"$\\mathcal{CS}(d + 2)$\")\n",
    "ax1.fill_between(ds, ci[0], ci[1], alpha=0.5)\n",
    "\n",
    "ax1.legend(title=\"Intercepts\")\n",
    "ax1.set_title(\"(a) Proportion of inactive neurons\")\n",
    "ax1.set_xlabel(\"Dimensions $d$\")\n",
    "ax1.set_ylabel(\"Proportion inactive neurons\")\n",
    "\n",
    "\n",
    "ax2 = fig.add_subplot(1, 2, 2)\n",
    "sns.distplot(act, norm_hist=True, bins=10, ax=ax2, kde_kws={'bw': 0.1})\n",
    "ax2.set_xlim(0., 1.)\n",
    "ax2.set_title(r\"(b) $\\mathcal{CS}(d + 2)$ distributed intercepts\")\n",
    "ax2.set_xlabel(\"Proportion of neurons active\")\n",
    "ax2.set_ylabel(\"Normed frequency\")\n",
    "\n",
    "sns.despine(fig)\n",
    "fig.tight_layout()"
   ]
  },
  {
   "cell_type": "code",
   "execution_count": 34,
   "metadata": {},
   "outputs": [],
   "source": [
    "save_tight_fig(fig, '../../../phd-thesis/figures/act-cs.pdf')"
   ]
  },
  {
   "cell_type": "markdown",
   "metadata": {},
   "source": [
    "## Cosine similarity distribution"
   ]
  },
  {
   "cell_type": "code",
   "execution_count": 35,
   "metadata": {},
   "outputs": [
    {
     "name": "stderr",
     "output_type": "stream",
     "text": [
      "/home/jgosmann/.pyenv/versions/3.6.1/lib/python3.6/site-packages/nengo/dists.py:450: RuntimeWarning: divide by zero encountered in power\n",
      "  (1 - x * x) ** (self.n / 2.0 - 1))\n"
     ]
    },
    {
     "data": {
      "image/png": "[encoded data removed]",
      "text/plain": [
       "<Figure size 259.402x162.126 with 1 Axes>"
      ]
     },
     "metadata": {},
     "output_type": "display_data"
    }
   ],
   "source": [
    "x = np.linspace(-1., 1., 200)\n",
    "\n",
    "fig = plt.figure(figsize=single_fig_size)\n",
    "ax = fig.add_subplot(1, 1, 1)\n",
    "for d in [2, 3, 4, 8, 16]:\n",
    "    ax.plot(x, nengo.dists.CosineSimilarity(d).pdf(x), label=r\"$d_{{\\mathcal{{CS}}}} = {}$\".format(d))\n",
    "\n",
    "ax.set_xlim(-1., 1.)\n",
    "ax.set_ylim(bottom=0.)\n",
    "ax.legend()\n",
    "ax.set_xlabel(\"$x$\")\n",
    "ax.set_ylabel(r\"$p_{\\mathcal{CS}}(x; d_{\\mathcal{CS}})$\")\n",
    "    \n",
    "sns.despine(fig)\n",
    "fig.tight_layout()"
   ]
  },
  {
   "cell_type": "code",
   "execution_count": 36,
   "metadata": {},
   "outputs": [],
   "source": [
    "save_tight_fig(fig, '../../../phd-thesis/figures/cosine-sim.pdf')"
   ]
  },
  {
   "cell_type": "markdown",
   "metadata": {},
   "source": [
    "## Non-uniform intercept distributions\n",
    "\n",
    "Let us now turn to the main focus of this report: the effect of non-uniform intercept distributions. We will first look at ensembles and connections with default parameters to obtain some initial results for a large number of distributions. Later we will focus on a subset of these distributions to investigate their interplay with non-default parameters."
   ]
  },
  {
   "cell_type": "markdown",
   "metadata": {},
   "source": [
    "### Default parameters (synaptic time constant 0.005s, regularization = 0.1)"
   ]
  },
  {
   "cell_type": "code",
   "execution_count": 37,
   "metadata": {},
   "outputs": [],
   "source": [
    "d = 64\n",
    "\n",
    "pspace = Param(\n",
    "    d=d, n=50 * d, synapse=[0.005, 0.1]) * Param(\n",
    "        intercepts=[\n",
    "            nengo.dists.Uniform(-1., 1.),\n",
    "            nengo.dists.CosineSimilarity(d + 2)]\n",
    ") * Param(seed=np.arange(15))\n",
    "\n",
    "x, df = process_pspace(pspace)"
   ]
  },
  {
   "cell_type": "code",
   "execution_count": 38,
   "metadata": {},
   "outputs": [
    {
     "name": "stderr",
     "output_type": "stream",
     "text": [
      "/home/jgosmann/.pyenv/versions/3.6.1/lib/python3.6/site-packages/matplotlib/mathtext.py:834: MathTextWarning: Substituting with a symbol from Computer Modern.\n",
      "  MathTextWarning)\n"
     ]
    },
    {
     "data": {
      "image/png": "[encoded data removed]",
      "text/plain": [
       "<Figure size 389.102x162.126 with 3 Axes>"
      ]
     },
     "metadata": {},
     "output_type": "display_data"
    }
   ],
   "source": [
    "fig = make_error_plot(\n",
    "    df[df['synapse'] == 0.005], 'intercepts');\n",
    "\n",
    "for i, k in enumerate(['noise', 'distortion', 'total']):\n",
    "    plot_ball_cut(df[df['synapse'] == 0.1], k, 'intercepts', ax=fig.axes[i], linestyle=':')\n",
    "    \n",
    "fig.legends[0].remove()\n",
    "handles, labels = fig.axes[0].get_legend_handles_labels()\n",
    "handles = handles[:2] + [\n",
    "    plt.Line2D((0, 1), (0, 0), color='gray'),\n",
    "    plt.Line2D((0, 1), (0, 0), color='gray', linestyle=':')]\n",
    "labels = [\"Uniform intercepts\", r\"$\\mathcal{CS}(d+2)$ intercepts\",\n",
    "          r\"$\\tau_{\\mathrm{syn}} = 0.005\\,\\mathrm{s}$\", r\"$\\tau_{\\mathrm{syn}} = 0.1\\,\\mathrm{s}$\"]\n",
    "fig.legend(\n",
    "    handles, labels,\n",
    "    loc='upper center', bbox_to_anchor=(0.5, 0.25),\n",
    "    bbox_transform=fig.transFigure, ncol=2)\n",
    "\n",
    "fig.tight_layout(rect=(0., 0.2, 1., 1.))"
   ]
  },
  {
   "cell_type": "code",
   "execution_count": 39,
   "metadata": {},
   "outputs": [
    {
     "name": "stderr",
     "output_type": "stream",
     "text": [
      "/home/jgosmann/.pyenv/versions/3.6.1/lib/python3.6/site-packages/matplotlib/mathtext.py:834: MathTextWarning: Substituting with a symbol from Computer Modern.\n",
      "  MathTextWarning)\n"
     ]
    }
   ],
   "source": [
    "save_tight_fig(fig, '../../../phd-thesis/figures/error-cs-intercepts.pdf')"
   ]
  },
  {
   "cell_type": "code",
   "execution_count": 40,
   "metadata": {},
   "outputs": [
    {
     "data": {
      "text/html": [
       "<div>\n",
       "<style scoped>\n",
       "    .dataframe tbody tr th:only-of-type {\n",
       "        vertical-align: middle;\n",
       "    }\n",
       "\n",
       "    .dataframe tbody tr th {\n",
       "        vertical-align: top;\n",
       "    }\n",
       "\n",
       "    .dataframe thead tr th {\n",
       "        text-align: left;\n",
       "    }\n",
       "</style>\n",
       "<table border=\"1\" class=\"dataframe\">\n",
       "  <thead>\n",
       "    <tr>\n",
       "      <th></th>\n",
       "      <th colspan=\"2\" halign=\"left\">distortion</th>\n",
       "      <th colspan=\"2\" halign=\"left\">noise</th>\n",
       "      <th colspan=\"2\" halign=\"left\">total</th>\n",
       "    </tr>\n",
       "    <tr>\n",
       "      <th></th>\n",
       "      <th>diff</th>\n",
       "      <th>p</th>\n",
       "      <th>diff</th>\n",
       "      <th>p</th>\n",
       "      <th>diff</th>\n",
       "      <th>p</th>\n",
       "    </tr>\n",
       "  </thead>\n",
       "  <tbody>\n",
       "    <tr>\n",
       "      <th>(Uniform(low=-1.0, high=1.0), CosineSimilarity(66, subdimensions=1))</th>\n",
       "      <td>-0.019986</td>\n",
       "      <td>0.0</td>\n",
       "      <td>-0.131299</td>\n",
       "      <td>0.0</td>\n",
       "      <td>-0.130364</td>\n",
       "      <td>0.0</td>\n",
       "    </tr>\n",
       "  </tbody>\n",
       "</table>\n",
       "</div>"
      ],
      "text/plain": [
       "                                                   distortion          noise  \\\n",
       "                                                         diff    p      diff   \n",
       "(Uniform(low=-1.0, high=1.0), CosineSimilarity(...  -0.019986  0.0 -0.131299   \n",
       "\n",
       "                                                            total       \n",
       "                                                      p      diff    p  \n",
       "(Uniform(low=-1.0, high=1.0), CosineSimilarity(...  0.0 -0.130364  0.0  "
      ]
     },
     "execution_count": 40,
     "metadata": {},
     "output_type": "execute_result"
    }
   ],
   "source": [
    "error_statistics(x, df[df['synapse'] == 0.005].copy(), 'intercepts')"
   ]
  },
  {
   "cell_type": "code",
   "execution_count": 41,
   "metadata": {},
   "outputs": [
    {
     "data": {
      "text/html": [
       "<div>\n",
       "<style scoped>\n",
       "    .dataframe tbody tr th:only-of-type {\n",
       "        vertical-align: middle;\n",
       "    }\n",
       "\n",
       "    .dataframe tbody tr th {\n",
       "        vertical-align: top;\n",
       "    }\n",
       "\n",
       "    .dataframe thead tr th {\n",
       "        text-align: left;\n",
       "    }\n",
       "</style>\n",
       "<table border=\"1\" class=\"dataframe\">\n",
       "  <thead>\n",
       "    <tr>\n",
       "      <th></th>\n",
       "      <th colspan=\"2\" halign=\"left\">distortion</th>\n",
       "      <th colspan=\"2\" halign=\"left\">noise</th>\n",
       "      <th colspan=\"2\" halign=\"left\">total</th>\n",
       "    </tr>\n",
       "    <tr>\n",
       "      <th></th>\n",
       "      <th>diff</th>\n",
       "      <th>p</th>\n",
       "      <th>diff</th>\n",
       "      <th>p</th>\n",
       "      <th>diff</th>\n",
       "      <th>p</th>\n",
       "    </tr>\n",
       "  </thead>\n",
       "  <tbody>\n",
       "    <tr>\n",
       "      <th>(Uniform(low=-1.0, high=1.0), CosineSimilarity(66, subdimensions=1))</th>\n",
       "      <td>-0.019954</td>\n",
       "      <td>0.0</td>\n",
       "      <td>-0.006623</td>\n",
       "      <td>0.0</td>\n",
       "      <td>-0.020718</td>\n",
       "      <td>0.0</td>\n",
       "    </tr>\n",
       "  </tbody>\n",
       "</table>\n",
       "</div>"
      ],
      "text/plain": [
       "                                                   distortion          noise  \\\n",
       "                                                         diff    p      diff   \n",
       "(Uniform(low=-1.0, high=1.0), CosineSimilarity(...  -0.019954  0.0 -0.006623   \n",
       "\n",
       "                                                            total       \n",
       "                                                      p      diff    p  \n",
       "(Uniform(low=-1.0, high=1.0), CosineSimilarity(...  0.0 -0.020718  0.0  "
      ]
     },
     "execution_count": 41,
     "metadata": {},
     "output_type": "execute_result"
    }
   ],
   "source": [
    "error_statistics(x, df[df['synapse'] == 0.1].copy(), 'intercepts')"
   ]
  },
  {
   "cell_type": "markdown",
   "metadata": {},
   "source": [
    "### Solver regularization"
   ]
  },
  {
   "cell_type": "code",
   "execution_count": 42,
   "metadata": {},
   "outputs": [],
   "source": [
    "d = 64\n",
    "\n",
    "pspace = Param(\n",
    "    d=d, n=50 * d, intercepts=nengo.dists.CosineSimilarity(d + 2),\n",
    "    solver=[\n",
    "        nengo.solvers.LstsqL2(reg=0.2), nengo.solvers.LstsqL2(reg=0.1), nengo.solvers.LstsqL2(reg=0.05)],\n",
    ") * Param(seed=np.arange(15))\n",
    "\n",
    "x, df = process_pspace(pspace)"
   ]
  },
  {
   "cell_type": "code",
   "execution_count": 43,
   "metadata": {},
   "outputs": [
    {
     "name": "stderr",
     "output_type": "stream",
     "text": [
      "/home/jgosmann/.pyenv/versions/3.6.1/lib/python3.6/site-packages/matplotlib/mathtext.py:834: MathTextWarning: Substituting with a symbol from Computer Modern.\n",
      "  MathTextWarning)\n"
     ]
    },
    {
     "data": {
      "image/png": "[encoded data removed]",
      "text/plain": [
       "<Figure size 389.102x162.126 with 3 Axes>"
      ]
     },
     "metadata": {},
     "output_type": "display_data"
    }
   ],
   "source": [
    "fig = make_error_plot(df, 'solver', [r\"$\\gamma = {}$\".format(reg) for reg in (0.2, 0.1, .05)]);"
   ]
  },
  {
   "cell_type": "code",
   "execution_count": 44,
   "metadata": {},
   "outputs": [
    {
     "name": "stderr",
     "output_type": "stream",
     "text": [
      "/home/jgosmann/.pyenv/versions/3.6.1/lib/python3.6/site-packages/matplotlib/mathtext.py:834: MathTextWarning: Substituting with a symbol from Computer Modern.\n",
      "  MathTextWarning)\n"
     ]
    }
   ],
   "source": [
    "save_tight_fig(fig, '../../../phd-thesis/figures/error-cs-intercepts-reg.pdf')"
   ]
  },
  {
   "cell_type": "code",
   "execution_count": 45,
   "metadata": {},
   "outputs": [
    {
     "data": {
      "text/html": [
       "<div>\n",
       "<style scoped>\n",
       "    .dataframe tbody tr th:only-of-type {\n",
       "        vertical-align: middle;\n",
       "    }\n",
       "\n",
       "    .dataframe tbody tr th {\n",
       "        vertical-align: top;\n",
       "    }\n",
       "\n",
       "    .dataframe thead tr th {\n",
       "        text-align: left;\n",
       "    }\n",
       "</style>\n",
       "<table border=\"1\" class=\"dataframe\">\n",
       "  <thead>\n",
       "    <tr>\n",
       "      <th></th>\n",
       "      <th colspan=\"2\" halign=\"left\">distortion</th>\n",
       "      <th colspan=\"2\" halign=\"left\">noise</th>\n",
       "      <th colspan=\"2\" halign=\"left\">total</th>\n",
       "    </tr>\n",
       "    <tr>\n",
       "      <th></th>\n",
       "      <th>diff</th>\n",
       "      <th>p</th>\n",
       "      <th>diff</th>\n",
       "      <th>p</th>\n",
       "      <th>diff</th>\n",
       "      <th>p</th>\n",
       "    </tr>\n",
       "  </thead>\n",
       "  <tbody>\n",
       "    <tr>\n",
       "      <th>(LstsqL2(reg=0.2, solver=Cholesky(transpose=None), weights=False), LstsqL2(reg=0.1, solver=Cholesky(transpose=None), weights=False))</th>\n",
       "      <td>-0.023504</td>\n",
       "      <td>0.0</td>\n",
       "      <td>0.011590</td>\n",
       "      <td>0.0</td>\n",
       "      <td>-0.000878</td>\n",
       "      <td>0.3818</td>\n",
       "    </tr>\n",
       "    <tr>\n",
       "      <th>(LstsqL2(reg=0.2, solver=Cholesky(transpose=None), weights=False), LstsqL2(reg=0.05, solver=Cholesky(transpose=None), weights=False))</th>\n",
       "      <td>-0.031544</td>\n",
       "      <td>0.0</td>\n",
       "      <td>0.027463</td>\n",
       "      <td>0.0</td>\n",
       "      <td>0.010972</td>\n",
       "      <td>0.0000</td>\n",
       "    </tr>\n",
       "    <tr>\n",
       "      <th>(LstsqL2(reg=0.1, solver=Cholesky(transpose=None), weights=False), LstsqL2(reg=0.05, solver=Cholesky(transpose=None), weights=False))</th>\n",
       "      <td>-0.008041</td>\n",
       "      <td>0.0</td>\n",
       "      <td>0.015873</td>\n",
       "      <td>0.0</td>\n",
       "      <td>0.011850</td>\n",
       "      <td>0.0000</td>\n",
       "    </tr>\n",
       "  </tbody>\n",
       "</table>\n",
       "</div>"
      ],
      "text/plain": [
       "                                                   distortion          noise  \\\n",
       "                                                         diff    p      diff   \n",
       "(LstsqL2(reg=0.2, solver=Cholesky(transpose=Non...  -0.023504  0.0  0.011590   \n",
       "(LstsqL2(reg=0.2, solver=Cholesky(transpose=Non...  -0.031544  0.0  0.027463   \n",
       "(LstsqL2(reg=0.1, solver=Cholesky(transpose=Non...  -0.008041  0.0  0.015873   \n",
       "\n",
       "                                                            total          \n",
       "                                                      p      diff       p  \n",
       "(LstsqL2(reg=0.2, solver=Cholesky(transpose=Non...  0.0 -0.000878  0.3818  \n",
       "(LstsqL2(reg=0.2, solver=Cholesky(transpose=Non...  0.0  0.010972  0.0000  \n",
       "(LstsqL2(reg=0.1, solver=Cholesky(transpose=Non...  0.0  0.011850  0.0000  "
      ]
     },
     "execution_count": 45,
     "metadata": {},
     "output_type": "execute_result"
    }
   ],
   "source": [
    "error_statistics(x, df, 'solver')"
   ]
  },
  {
   "cell_type": "markdown",
   "metadata": {},
   "source": [
    "## Noise scaling revisited\n",
    "\n",
    "With the non-linear intercept distributions the scaling of the noise with dimensions is reduced to $O(d^{3/4})$ instead of $O(d)$."
   ]
  },
  {
   "cell_type": "code",
   "execution_count": 46,
   "metadata": {},
   "outputs": [],
   "source": [
    "ds = [1, 2, 4, 8, 16, 24, 32, 40, 48, 56, 64]\n",
    "pspace = Param(\n",
    "    n=2000, d=ds,\n",
    "    intercepts=[nengo.dists.CosineSimilarity(d + 2) for d in ds]) * Param(seed=np.arange(15))\n",
    "x, df = extend_df_with_error_means(*process_pspace(pspace))"
   ]
  },
  {
   "cell_type": "code",
   "execution_count": 47,
   "metadata": {},
   "outputs": [],
   "source": [
    "df_stat = df.groupby(['d', 'n']).agg({'mean_' + k: statistic(np.mean) for k in ['total', 'noise', 'distortion']})"
   ]
  },
  {
   "cell_type": "code",
   "execution_count": 48,
   "metadata": {},
   "outputs": [
    {
     "data": {
      "image/png": "[encoded data removed]",
      "text/plain": [
       "<Figure size 259.402x162.126 with 1 Axes>"
      ]
     },
     "metadata": {},
     "output_type": "display_data"
    }
   ],
   "source": [
    "fig = plt.figure(figsize=single_fig_size)\n",
    "ax = fig.add_subplot(1, 1, 1)\n",
    "d = df_stat.index.get_level_values('d')\n",
    "m = df_stat['mean_noise', 'mean']\n",
    "l = m - df_stat['mean_noise', 'ci_l']\n",
    "u = df_stat['mean_noise', 'ci_u'] - m\n",
    "ax.errorbar(d, m, yerr=(l, u), fmt='o')\n",
    "slope, intercept, _, _, _ = linregress(d**0.75, m)\n",
    "ax.plot(d, d**.75 * slope + intercept, c='gray')\n",
    "\n",
    "ax.set_ylim(bottom=0.)\n",
    "ax.set_xlabel(\"Dimensions $d$\")\n",
    "ax.set_ylabel(\"Mean noise error $E_{\\mathrm{n}}$\")\n",
    "\n",
    "sns.despine(fig)\n",
    "fig.tight_layout()"
   ]
  },
  {
   "cell_type": "code",
   "execution_count": 49,
   "metadata": {},
   "outputs": [],
   "source": [
    "save_tight_fig(fig, '../../../phd-thesis/figures/cs-error-scaling.pdf')"
   ]
  },
  {
   "cell_type": "markdown",
   "metadata": {},
   "source": [
    "## Further experiments for appendix"
   ]
  },
  {
   "cell_type": "code",
   "execution_count": 50,
   "metadata": {},
   "outputs": [],
   "source": [
    "def pairwise_products(x):\n",
    "    return x[::2] * x[1::2]"
   ]
  },
  {
   "cell_type": "code",
   "execution_count": 51,
   "metadata": {},
   "outputs": [],
   "source": [
    "d = 64\n",
    "default_solver = nengo.solvers.LstsqL2(reg=0.1)\n",
    "pspace = (\n",
    "    Param(\n",
    "        n=np.array([10, 25]) * d,\n",
    "        synapse=0.005,\n",
    "        neuron_type=nengo.LIF(),\n",
    "        solver=default_solver,\n",
    "        function=None) +\n",
    "    Param(\n",
    "        n=50 * d,\n",
    "        synapse=[0.1],\n",
    "        neuron_type=nengo.LIF(),\n",
    "        solver=default_solver,\n",
    "        function=None) +\n",
    "    (Param(solver=[default_solver, nengo.solvers.LstsqL2(reg=0.01)]) * Param(\n",
    "        n=50 * d,\n",
    "        synapse=0.005,\n",
    "        function=None,\n",
    "        neuron_type=[nengo.LIF(), nengo.AdaptiveLIF(), nengo.RectifiedLinear(), nengo.LIFRate()])) +\n",
    "    (Param(solver=[nengo.solvers.LstsqL2(reg=0.2), nengo.solvers.LstsqL2(reg=0.005)]) * Param(\n",
    "        n=50 * d,\n",
    "        synapse=0.005,\n",
    "        function=None,\n",
    "        neuron_type=nengo.LIF())) +\n",
    "    Param( \n",
    "        n=50 * d,\n",
    "        synapse=0.005,\n",
    "        neuron_type=nengo.LIF(),\n",
    "        solver=default_solver,\n",
    "        function=[np.square, pairwise_products])\n",
    ") * Param(d=d, intercepts=[nengo.dists.Uniform(-1., 1.), nengo.dists.CosineSimilarity(d + 2)])\n",
    "ds = [1, 2, 4, 8]\n",
    "pspace += Param(\n",
    "    n=[50 * d for d in ds],\n",
    "    d=ds,\n",
    "    synapse=0.005,\n",
    "    neuron_type=nengo.LIF(),\n",
    "    solver=default_solver,\n",
    "    function=None,\n",
    "    intercepts=[nengo.dists.CosineSimilarity(d + 2) for d in ds]\n",
    ") + Param(\n",
    "    n=[50 * d for d in ds],\n",
    "    d=ds,\n",
    "    synapse=0.005,\n",
    "    neuron_type=nengo.LIF(),\n",
    "    solver=default_solver,\n",
    "    function=None,\n",
    "    intercepts=nengo.dists.Uniform(-1., 1.)\n",
    ")\n",
    "pspace *= Param(seed=np.arange(15))"
   ]
  },
  {
   "cell_type": "code",
   "execution_count": 52,
   "metadata": {
    "scrolled": true
   },
   "outputs": [],
   "source": [
    "x, df = extend_df_with_error_means(*process_pspace(pspace))"
   ]
  },
  {
   "cell_type": "code",
   "execution_count": 53,
   "metadata": {},
   "outputs": [],
   "source": [
    "df['function'] = df['function'].apply(lambda x: {\n",
    "    'square': r'$\\vc x^2$',\n",
    "    'pairwise_products': r'$x_{2i-2} x_{2i - 1}$'}[x.__name__] if x is not None else r'$\\vc x$')"
   ]
  },
  {
   "cell_type": "code",
   "execution_count": 54,
   "metadata": {},
   "outputs": [],
   "source": [
    "def improvement(df, hue1, hue2):\n",
    "    hues = df['intercepts'].apply(lambda x: x.__class__.__name__)\n",
    "    assert hues.isin((hue1, hue2)).all(), hues\n",
    "    d1 = df[hues == hue1]\n",
    "    d2 = df[hues == hue2]\n",
    "    fns = {'diff': lambda a, b: a.mean() - b.mean(), 'p': bootstrap_diff_p}\n",
    "    return pd.DataFrame(\n",
    "        {k: [{fn: fns[fn](d1[k], d2[k]) for fn in fns.keys()}] for k in ['mean_total', 'mean_distortion', 'mean_noise']})"
   ]
  },
  {
   "cell_type": "code",
   "execution_count": 55,
   "metadata": {},
   "outputs": [],
   "source": [
    "df_summary = df.groupby(['d', 'n', 'neuron_type', 'solver', 'synapse', 'function'], sort=False).apply(\n",
    "    improvement, hue1='CosineSimilarity', hue2='Uniform')"
   ]
  },
  {
   "cell_type": "code",
   "execution_count": 56,
   "metadata": {},
   "outputs": [],
   "source": [
    "df_summary.reset_index(inplace=True)\n",
    "del df_summary['level_6']\n",
    "df_summary['neuron_type'] = df_summary['neuron_type'].apply(lambda x: re.sub(\n",
    "    '([a-z])([A-Z])', r'\\1 \\2', re.sub(\n",
    "        '(.)([A-Z])([a-z])', r'\\1 \\2\\3', x.__class__.__name__)))\n",
    "df_summary['reg'] = df_summary['solver'].apply(lambda x: x.reg)\n",
    "del df_summary['solver']\n",
    "df_summary['n'] //= df_summary['d']"
   ]
  },
  {
   "cell_type": "code",
   "execution_count": 57,
   "metadata": {},
   "outputs": [],
   "source": [
    "title = 'Change in'\n",
    "df_summary.columns = [\n",
    "    r'$\\dims$', '$n / \\dims$', 'Neuron type', r'$\\syntau / \\si{\\second}$', 'Function',\n",
    "    r'$\\langle\\errdist\\rangle$', r'$\\langle\\errnoise\\rangle$', r'$\\langle\\errtotal\\rangle$',\n",
    "    r'$\\lambda$']"
   ]
  },
  {
   "cell_type": "code",
   "execution_count": 58,
   "metadata": {},
   "outputs": [
    {
     "data": {
      "text/html": [
       "<div>\n",
       "<style scoped>\n",
       "    .dataframe tbody tr th:only-of-type {\n",
       "        vertical-align: middle;\n",
       "    }\n",
       "\n",
       "    .dataframe tbody tr th {\n",
       "        vertical-align: top;\n",
       "    }\n",
       "\n",
       "    .dataframe thead th {\n",
       "        text-align: right;\n",
       "    }\n",
       "</style>\n",
       "<table border=\"1\" class=\"dataframe\">\n",
       "  <thead>\n",
       "    <tr style=\"text-align: right;\">\n",
       "      <th></th>\n",
       "      <th></th>\n",
       "      <th></th>\n",
       "      <th></th>\n",
       "      <th></th>\n",
       "      <th></th>\n",
       "      <th>$\\langle\\errdist\\rangle$</th>\n",
       "      <th>$\\langle\\errnoise\\rangle$</th>\n",
       "      <th>$\\langle\\errtotal\\rangle$</th>\n",
       "    </tr>\n",
       "    <tr>\n",
       "      <th>$\\dims$</th>\n",
       "      <th>$n / \\dims$</th>\n",
       "      <th>$\\syntau / \\si{\\second}$</th>\n",
       "      <th>Function</th>\n",
       "      <th>$\\lambda$</th>\n",
       "      <th>Neuron type</th>\n",
       "      <th></th>\n",
       "      <th></th>\n",
       "      <th></th>\n",
       "    </tr>\n",
       "  </thead>\n",
       "  <tbody>\n",
       "    <tr>\n",
       "      <th>1</th>\n",
       "      <th>50</th>\n",
       "      <th>0.005</th>\n",
       "      <th>$\\vc x$</th>\n",
       "      <th>0.100</th>\n",
       "      <th>LIF</th>\n",
       "      <td>{'diff': 1.2849080544736352e-05, 'p': 0.9858}</td>\n",
       "      <td>{'diff': 0.0009289477152641251, 'p': 0.2744}</td>\n",
       "      <td>{'diff': 0.0009813160649235486, 'p': 0.2551}</td>\n",
       "    </tr>\n",
       "    <tr>\n",
       "      <th>2</th>\n",
       "      <th>50</th>\n",
       "      <th>0.005</th>\n",
       "      <th>$\\vc x$</th>\n",
       "      <th>0.100</th>\n",
       "      <th>LIF</th>\n",
       "      <td>{'diff': 0.0006935373487160466, 'p': 0.5986}</td>\n",
       "      <td>{'diff': -0.005011356652797429, 'p': 0.0}</td>\n",
       "      <td>{'diff': -0.004319006519981905, 'p': 0.0}</td>\n",
       "    </tr>\n",
       "    <tr>\n",
       "      <th>4</th>\n",
       "      <th>50</th>\n",
       "      <th>0.005</th>\n",
       "      <th>$\\vc x$</th>\n",
       "      <th>0.100</th>\n",
       "      <th>LIF</th>\n",
       "      <td>{'diff': -0.002040085331075192, 'p': 0.3642}</td>\n",
       "      <td>{'diff': -0.013890338543531083, 'p': 0.0}</td>\n",
       "      <td>{'diff': -0.013721351649611621, 'p': 0.0}</td>\n",
       "    </tr>\n",
       "    <tr>\n",
       "      <th>8</th>\n",
       "      <th>50</th>\n",
       "      <th>0.005</th>\n",
       "      <th>$\\vc x$</th>\n",
       "      <th>0.100</th>\n",
       "      <th>LIF</th>\n",
       "      <td>{'diff': 0.0036561681879286392, 'p': 0.0874}</td>\n",
       "      <td>{'diff': -0.03181686125505534, 'p': 0.0}</td>\n",
       "      <td>{'diff': -0.026775116022725975, 'p': 0.0}</td>\n",
       "    </tr>\n",
       "    <tr>\n",
       "      <th rowspan=\"15\" valign=\"top\">64</th>\n",
       "      <th>10</th>\n",
       "      <th>0.005</th>\n",
       "      <th>$\\vc x$</th>\n",
       "      <th>0.100</th>\n",
       "      <th>LIF</th>\n",
       "      <td>{'diff': -0.12385726519109116, 'p': 0.0}</td>\n",
       "      <td>{'diff': -0.21313656378019652, 'p': 0.0}</td>\n",
       "      <td>{'diff': -0.24577344411013363, 'p': 0.0}</td>\n",
       "    </tr>\n",
       "    <tr>\n",
       "      <th>25</th>\n",
       "      <th>0.005</th>\n",
       "      <th>$\\vc x$</th>\n",
       "      <th>0.100</th>\n",
       "      <th>LIF</th>\n",
       "      <td>{'diff': -0.04380034323030774, 'p': 0.0}</td>\n",
       "      <td>{'diff': -0.17432274728926517, 'p': 0.0}</td>\n",
       "      <td>{'diff': -0.1778286359045759, 'p': 0.0}</td>\n",
       "    </tr>\n",
       "    <tr>\n",
       "      <th rowspan=\"13\" valign=\"top\">50</th>\n",
       "      <th rowspan=\"12\" valign=\"top\">0.005</th>\n",
       "      <th rowspan=\"10\" valign=\"top\">$\\vc x$</th>\n",
       "      <th>0.005</th>\n",
       "      <th>LIF</th>\n",
       "      <td>{'diff': 0.034684333550832655, 'p': 0.0}</td>\n",
       "      <td>{'diff': -0.283590365358218, 'p': 0.0}</td>\n",
       "      <td>{'diff': -0.27902555939727636, 'p': 0.0}</td>\n",
       "    </tr>\n",
       "    <tr>\n",
       "      <th rowspan=\"4\" valign=\"top\">0.010</th>\n",
       "      <th>Adaptive LIF</th>\n",
       "      <td>{'diff': 0.0821060272370703, 'p': 0.0}</td>\n",
       "      <td>{'diff': -0.22492585022544237, 'p': 0.0}</td>\n",
       "      <td>{'diff': -0.17895684535932888, 'p': 0.0}</td>\n",
       "    </tr>\n",
       "    <tr>\n",
       "      <th>LIF</th>\n",
       "      <td>{'diff': 0.026205643385408477, 'p': 0.0}</td>\n",
       "      <td>{'diff': -0.2190924433586482, 'p': 0.0}</td>\n",
       "      <td>{'diff': -0.21418489823193215, 'p': 0.0}</td>\n",
       "    </tr>\n",
       "    <tr>\n",
       "      <th>LIF Rate</th>\n",
       "      <td>{'diff': 0.026216644979428466, 'p': 0.0}</td>\n",
       "      <td>{'diff': 1.3495558654430138e-15, 'p': 0.0378}</td>\n",
       "      <td>{'diff': 0.026216644979428137, 'p': 0.0}</td>\n",
       "    </tr>\n",
       "    <tr>\n",
       "      <th>Rectified Linear</th>\n",
       "      <td>{'diff': 0.03065106265473031, 'p': 0.0}</td>\n",
       "      <td>{'diff': 5.094502290754735e-16, 'p': 0.3836}</td>\n",
       "      <td>{'diff': 0.03065106265472966, 'p': 0.0}</td>\n",
       "    </tr>\n",
       "    <tr>\n",
       "      <th rowspan=\"4\" valign=\"top\">0.100</th>\n",
       "      <th>Adaptive LIF</th>\n",
       "      <td>{'diff': 0.03113217839300403, 'p': 0.0}</td>\n",
       "      <td>{'diff': -0.13152209374136542, 'p': 0.0}</td>\n",
       "      <td>{'diff': -0.0814949509662396, 'p': 0.0}</td>\n",
       "    </tr>\n",
       "    <tr>\n",
       "      <th>LIF</th>\n",
       "      <td>{'diff': -0.01998629808658868, 'p': 0.0}</td>\n",
       "      <td>{'diff': -0.13129882048505984, 'p': 0.0}</td>\n",
       "      <td>{'diff': -0.13036370447062218, 'p': 0.0}</td>\n",
       "    </tr>\n",
       "    <tr>\n",
       "      <th>LIF Rate</th>\n",
       "      <td>{'diff': -0.019953903694741773, 'p': 0.0}</td>\n",
       "      <td>{'diff': 2.354290724182059e-16, 'p': 0.5903}</td>\n",
       "      <td>{'diff': -0.01995390369474198, 'p': 0.0}</td>\n",
       "    </tr>\n",
       "    <tr>\n",
       "      <th>Rectified Linear</th>\n",
       "      <td>{'diff': 0.0021980363520863327, 'p': 0.2056}</td>\n",
       "      <td>{'diff': 3.7418367648159223e-16, 'p': 0.5105}</td>\n",
       "      <td>{'diff': 0.002198036352086402, 'p': 0.2085}</td>\n",
       "    </tr>\n",
       "    <tr>\n",
       "      <th>0.200</th>\n",
       "      <th>LIF</th>\n",
       "      <td>{'diff': -0.0872786554326745, 'p': 0.0}</td>\n",
       "      <td>{'diff': -0.10038627112634677, 'p': 0.0}</td>\n",
       "      <td>{'diff': -0.13198979228029828, 'p': 0.0}</td>\n",
       "    </tr>\n",
       "    <tr>\n",
       "      <th>$\\vc x^2$</th>\n",
       "      <th>0.100</th>\n",
       "      <th>LIF</th>\n",
       "      <td>{'diff': -0.10299033323251117, 'p': 0.0}</td>\n",
       "      <td>{'diff': 0.022920261679068646, 'p': 0.0}</td>\n",
       "      <td>{'diff': -0.10163286355777879, 'p': 0.0}</td>\n",
       "    </tr>\n",
       "    <tr>\n",
       "      <th>$x_{2i-2} x_{2i - 1}$</th>\n",
       "      <th>0.100</th>\n",
       "      <th>LIF</th>\n",
       "      <td>{'diff': 0.008360279430439767, 'p': 0.0}</td>\n",
       "      <td>{'diff': 0.011477902843039196, 'p': 0.0}</td>\n",
       "      <td>{'diff': 0.014235555683535045, 'p': 0.0}</td>\n",
       "    </tr>\n",
       "    <tr>\n",
       "      <th>0.100</th>\n",
       "      <th>$\\vc x$</th>\n",
       "      <th>0.100</th>\n",
       "      <th>LIF</th>\n",
       "      <td>{'diff': -0.019953778698958965, 'p': 0.0}</td>\n",
       "      <td>{'diff': -0.0066234817377022505, 'p': 0.0}</td>\n",
       "      <td>{'diff': -0.020718455984526263, 'p': 0.0}</td>\n",
       "    </tr>\n",
       "  </tbody>\n",
       "</table>\n",
       "</div>"
      ],
      "text/plain": [
       "                                                                                                                    $\\langle\\errdist\\rangle$  \\\n",
       "$\\dims$ $n / \\dims$ $\\syntau / \\si{\\second}$ Function              $\\lambda$ Neuron type                                                       \n",
       "1       50          0.005                    $\\vc x$               0.100     LIF               {'diff': 1.2849080544736352e-05, 'p': 0.9858}   \n",
       "2       50          0.005                    $\\vc x$               0.100     LIF                {'diff': 0.0006935373487160466, 'p': 0.5986}   \n",
       "4       50          0.005                    $\\vc x$               0.100     LIF                {'diff': -0.002040085331075192, 'p': 0.3642}   \n",
       "8       50          0.005                    $\\vc x$               0.100     LIF                {'diff': 0.0036561681879286392, 'p': 0.0874}   \n",
       "64      10          0.005                    $\\vc x$               0.100     LIF                    {'diff': -0.12385726519109116, 'p': 0.0}   \n",
       "        25          0.005                    $\\vc x$               0.100     LIF                    {'diff': -0.04380034323030774, 'p': 0.0}   \n",
       "        50          0.005                    $\\vc x$               0.005     LIF                    {'diff': 0.034684333550832655, 'p': 0.0}   \n",
       "                                                                   0.010     Adaptive LIF             {'diff': 0.0821060272370703, 'p': 0.0}   \n",
       "                                                                             LIF                    {'diff': 0.026205643385408477, 'p': 0.0}   \n",
       "                                                                             LIF Rate               {'diff': 0.026216644979428466, 'p': 0.0}   \n",
       "                                                                             Rectified Linear        {'diff': 0.03065106265473031, 'p': 0.0}   \n",
       "                                                                   0.100     Adaptive LIF            {'diff': 0.03113217839300403, 'p': 0.0}   \n",
       "                                                                             LIF                    {'diff': -0.01998629808658868, 'p': 0.0}   \n",
       "                                                                             LIF Rate              {'diff': -0.019953903694741773, 'p': 0.0}   \n",
       "                                                                             Rectified Linear   {'diff': 0.0021980363520863327, 'p': 0.2056}   \n",
       "                                                                   0.200     LIF                     {'diff': -0.0872786554326745, 'p': 0.0}   \n",
       "                                             $\\vc x^2$             0.100     LIF                    {'diff': -0.10299033323251117, 'p': 0.0}   \n",
       "                                             $x_{2i-2} x_{2i - 1}$ 0.100     LIF                    {'diff': 0.008360279430439767, 'p': 0.0}   \n",
       "                    0.100                    $\\vc x$               0.100     LIF                   {'diff': -0.019953778698958965, 'p': 0.0}   \n",
       "\n",
       "                                                                                                                   $\\langle\\errnoise\\rangle$  \\\n",
       "$\\dims$ $n / \\dims$ $\\syntau / \\si{\\second}$ Function              $\\lambda$ Neuron type                                                       \n",
       "1       50          0.005                    $\\vc x$               0.100     LIF                {'diff': 0.0009289477152641251, 'p': 0.2744}   \n",
       "2       50          0.005                    $\\vc x$               0.100     LIF                   {'diff': -0.005011356652797429, 'p': 0.0}   \n",
       "4       50          0.005                    $\\vc x$               0.100     LIF                   {'diff': -0.013890338543531083, 'p': 0.0}   \n",
       "8       50          0.005                    $\\vc x$               0.100     LIF                    {'diff': -0.03181686125505534, 'p': 0.0}   \n",
       "64      10          0.005                    $\\vc x$               0.100     LIF                    {'diff': -0.21313656378019652, 'p': 0.0}   \n",
       "        25          0.005                    $\\vc x$               0.100     LIF                    {'diff': -0.17432274728926517, 'p': 0.0}   \n",
       "        50          0.005                    $\\vc x$               0.005     LIF                      {'diff': -0.283590365358218, 'p': 0.0}   \n",
       "                                                                   0.010     Adaptive LIF           {'diff': -0.22492585022544237, 'p': 0.0}   \n",
       "                                                                             LIF                     {'diff': -0.2190924433586482, 'p': 0.0}   \n",
       "                                                                             LIF Rate          {'diff': 1.3495558654430138e-15, 'p': 0.0378}   \n",
       "                                                                             Rectified Linear   {'diff': 5.094502290754735e-16, 'p': 0.3836}   \n",
       "                                                                   0.100     Adaptive LIF           {'diff': -0.13152209374136542, 'p': 0.0}   \n",
       "                                                                             LIF                    {'diff': -0.13129882048505984, 'p': 0.0}   \n",
       "                                                                             LIF Rate           {'diff': 2.354290724182059e-16, 'p': 0.5903}   \n",
       "                                                                             Rectified Linear  {'diff': 3.7418367648159223e-16, 'p': 0.5105}   \n",
       "                                                                   0.200     LIF                    {'diff': -0.10038627112634677, 'p': 0.0}   \n",
       "                                             $\\vc x^2$             0.100     LIF                    {'diff': 0.022920261679068646, 'p': 0.0}   \n",
       "                                             $x_{2i-2} x_{2i - 1}$ 0.100     LIF                    {'diff': 0.011477902843039196, 'p': 0.0}   \n",
       "                    0.100                    $\\vc x$               0.100     LIF                  {'diff': -0.0066234817377022505, 'p': 0.0}   \n",
       "\n",
       "                                                                                                                  $\\langle\\errtotal\\rangle$  \n",
       "$\\dims$ $n / \\dims$ $\\syntau / \\si{\\second}$ Function              $\\lambda$ Neuron type                                                     \n",
       "1       50          0.005                    $\\vc x$               0.100     LIF               {'diff': 0.0009813160649235486, 'p': 0.2551}  \n",
       "2       50          0.005                    $\\vc x$               0.100     LIF                  {'diff': -0.004319006519981905, 'p': 0.0}  \n",
       "4       50          0.005                    $\\vc x$               0.100     LIF                  {'diff': -0.013721351649611621, 'p': 0.0}  \n",
       "8       50          0.005                    $\\vc x$               0.100     LIF                  {'diff': -0.026775116022725975, 'p': 0.0}  \n",
       "64      10          0.005                    $\\vc x$               0.100     LIF                   {'diff': -0.24577344411013363, 'p': 0.0}  \n",
       "        25          0.005                    $\\vc x$               0.100     LIF                    {'diff': -0.1778286359045759, 'p': 0.0}  \n",
       "        50          0.005                    $\\vc x$               0.005     LIF                   {'diff': -0.27902555939727636, 'p': 0.0}  \n",
       "                                                                   0.010     Adaptive LIF          {'diff': -0.17895684535932888, 'p': 0.0}  \n",
       "                                                                             LIF                   {'diff': -0.21418489823193215, 'p': 0.0}  \n",
       "                                                                             LIF Rate              {'diff': 0.026216644979428137, 'p': 0.0}  \n",
       "                                                                             Rectified Linear       {'diff': 0.03065106265472966, 'p': 0.0}  \n",
       "                                                                   0.100     Adaptive LIF           {'diff': -0.0814949509662396, 'p': 0.0}  \n",
       "                                                                             LIF                   {'diff': -0.13036370447062218, 'p': 0.0}  \n",
       "                                                                             LIF Rate              {'diff': -0.01995390369474198, 'p': 0.0}  \n",
       "                                                                             Rectified Linear   {'diff': 0.002198036352086402, 'p': 0.2085}  \n",
       "                                                                   0.200     LIF                   {'diff': -0.13198979228029828, 'p': 0.0}  \n",
       "                                             $\\vc x^2$             0.100     LIF                   {'diff': -0.10163286355777879, 'p': 0.0}  \n",
       "                                             $x_{2i-2} x_{2i - 1}$ 0.100     LIF                   {'diff': 0.014235555683535045, 'p': 0.0}  \n",
       "                    0.100                    $\\vc x$               0.100     LIF                  {'diff': -0.020718455984526263, 'p': 0.0}  "
      ]
     },
     "execution_count": 58,
     "metadata": {},
     "output_type": "execute_result"
    }
   ],
   "source": [
    "df_summary.set_index(\n",
    "    [r'$\\dims$', '$n / \\dims$', r'$\\syntau / \\si{\\second}$', 'Function', r'$\\lambda$', 'Neuron type'], inplace=True)\n",
    "df_summary.sort_index(inplace=True)\n",
    "df_summary"
   ]
  },
  {
   "cell_type": "code",
   "execution_count": 59,
   "metadata": {},
   "outputs": [],
   "source": [
    "df_summary.columns = pd.MultiIndex.from_tuples([('Change in', c) for c in df_summary.columns])"
   ]
  },
  {
   "cell_type": "code",
   "execution_count": 60,
   "metadata": {},
   "outputs": [],
   "source": [
    "def formatter(x):\n",
    "    diff = x['diff']\n",
    "    p = x['p']\n",
    "    if diff > 0:\n",
    "        fmt = r'\\textbf{{\\num{{{num}}}}}'\n",
    "    else:\n",
    "        fmt = r'\\num{{{num}}}'\n",
    "    if p < 0.0001:\n",
    "        sig = '****'\n",
    "    elif p < 0.001:\n",
    "        sig = '***'\n",
    "    elif p < 0.01:\n",
    "        sig = '**'\n",
    "    elif p < 0.05:\n",
    "        sig = '*'\n",
    "    else:\n",
    "        sig = ''\n",
    "    return '{num}'.format(num=diff) + sig"
   ]
  },
  {
   "cell_type": "code",
   "execution_count": 61,
   "metadata": {},
   "outputs": [],
   "source": [
    "def int_col(width):\n",
    "    return 'S[table-number-alignment=right,table-figures-integer={},table-figures-decimal=0]'.format(width)"
   ]
  },
  {
   "cell_type": "code",
   "execution_count": 62,
   "metadata": {},
   "outputs": [],
   "source": [
    "df_summary.to_latex(\n",
    "    '../../../phd-thesis/tables/hdrep.tex',\n",
    "    formatters=[formatter] * 3,\n",
    "    escape=False,\n",
    "    multicolumn_format='c',\n",
    "    column_format= (\n",
    "        int_col(2) + \n",
    "        int_col(4) +\n",
    "        'S[table-figures-decimal=3]lS[table-figures-decimal=2]l' +\n",
    "        3 * ('S[' + ','.join((\n",
    "            'table-space-text-post={****}',\n",
    "            'round-precision=4',\n",
    "            'round-mode=places',\n",
    "            'scientific-notation=fixed',\n",
    "            'fixed-exponent=0',\n",
    "            'negative-color=BrickRed')) + ']')))"
   ]
  },
  {
   "cell_type": "markdown",
   "metadata": {
    "collapsed": true
   },
   "source": [
    "# spa-opt\n",
    "\n",
    "The methods presented in [1] (referred to as “spa-opt”) adjust the radius to decrease the error in high-dimensional representations. The radius is essentially scaling the intercepts and the distance of the evaluation points from the coordinate origin. Thus, the cosine similarity and subvector length distribution have a similar effect (if the evaluation points are adjusted accordingly) to a radius scaling because intercepts will be more likely to be close to the origin for higher dimensions. But it is more a soft radius adjustment (because there is still a small chance for large intercepts) instead of a hard cut off at the radius. It is worth investigating how these two ways of radius adjustment compare.\n",
    "\n",
    "For that we will use the benchmarks from [1] (but with less trials). Note that this only look at unit length vectors, but not any vectors within in hyperball.\n",
    "\n",
    "[1]: Gosmann, Jan, and Chris Eliasmith. “Optimizing Semantic Pointer Representations for Symbol-Like Processing in Spiking Neural Networks.” PLoS ONE 11, no. 2 (February 22, 2016): e0149928. [doi:10.1371/journal.pone.0149928](http://dx.doi.org/10.1371/journal.pone.0149928)."
   ]
  },
  {
   "cell_type": "code",
   "execution_count": 63,
   "metadata": {},
   "outputs": [],
   "source": [
    "import functools\n",
    "from scipy.special import beta, betainc"
   ]
  },
  {
   "cell_type": "markdown",
   "metadata": {},
   "source": [
    "The signal generator is used to generate the test input."
   ]
  },
  {
   "cell_type": "code",
   "execution_count": 64,
   "metadata": {},
   "outputs": [],
   "source": [
    "class SignalGenerator(nengo.Process):\n",
    "    def __init__(self, duration, high=5.):\n",
    "        super(SignalGenerator, self).__init__()\n",
    "        self._whitenoise = nengo.processes.WhiteSignal(duration, high=high)\n",
    "\n",
    "    def make_step(self, size_in, size_out, dt, rng=np.random):\n",
    "        return functools.partial(\n",
    "            self.sample,\n",
    "            sample_whitenoise=self._whitenoise.make_step(size_in, size_out, dt, rng))\n",
    "\n",
    "    @staticmethod\n",
    "    def sample(t, sample_whitenoise):\n",
    "        sampled = sample_whitenoise(t)\n",
    "        return sampled / np.linalg.norm(sampled)"
   ]
  },
  {
   "cell_type": "markdown",
   "metadata": {},
   "source": [
    "The following provides the spa-opt implementation from [1]."
   ]
  },
  {
   "cell_type": "code",
   "execution_count": 65,
   "metadata": {},
   "outputs": [],
   "source": [
    "def get_distortion(Simulator, ens, conn_kwargs=None, seed=None):\n",
    "    if conn_kwargs is None:\n",
    "        conn_kwargs = {}\n",
    "\n",
    "    with nengo.Network(seed=seed, add_to_container=False) as m:\n",
    "        ens_copy = ens.copy()\n",
    "        ens_copy.radius = 1.\n",
    "        conn = nengo.Connection(\n",
    "            ens_copy,\n",
    "            nengo.Ensemble(1, ens.dimensions, neuron_type=nengo.Direct()),\n",
    "            **conn_kwargs)\n",
    "\n",
    "    with Simulator(m) as sim:\n",
    "        pass\n",
    "    return np.mean(np.square(sim.model.params[conn].solver_info['rmses']))\n",
    "\n",
    "def find_optimal_radius(distortion, sp_dimensions, sp_subdimensions=1):\n",
    "    \"\"\"Determines the optimal radius for ensembles when splitting up a\n",
    "    semantic pointer (unit vector) into subvectors.\n",
    "    Requires Scipy.\n",
    "    Parameters\n",
    "    ----------\n",
    "    distortion : float\n",
    "        Estimate of distortion for a radius of 1 to base optimization on.\n",
    "    sp_dimensions : int\n",
    "        Dimensionality of the complete semantic pointer/unit vector.\n",
    "    sp_subdimensions : int, optional\n",
    "        Dimensionality of the subvectors represented by the ensembles.\n",
    "    Returns\n",
    "    -------\n",
    "    float\n",
    "        Optimal radius for the representing ensembles.\n",
    "    \"\"\"\n",
    "    res = scipy.optimize.minimize(\n",
    "        lambda x: sp_subvector_error(\n",
    "            x, distortion, sp_dimensions, sp_subdimensions),\n",
    "        0.1, bounds=[(0., 1.)], method='L-BFGS-B')\n",
    "    return np.asscalar(res.x)\n",
    "\n",
    "\n",
    "def sp_subvector_error(radius, distortion, sp_dimensions, sp_subdimensions=1):\n",
    "    \"\"\"Estimate of representational error of a subvector of a semantic\n",
    "    pointer (unit vector).\n",
    "    Requires Scipy.\n",
    "    Paramaters\n",
    "    ----------\n",
    "    radius : float or ndarray\n",
    "        Radius of the representing ensemble.\n",
    "    distortion : float\n",
    "        Estimate of distortion for a radius of 1 to base optimization on.\n",
    "    sp_dimensions : int\n",
    "        Dimensionality of the complete semantic pointer/unit vector.\n",
    "    sp_subdimensions : int, optional\n",
    "        Dimensionality of the subvector represented by some ensemble.\n",
    "    Returns\n",
    "    -------\n",
    "    Error estimates for representing a subvector with `subdimensions`\n",
    "    dimensions of a `dimensions` dimensional unit vector with an ensemble\n",
    "    initialized with of `radius`.\n",
    "    \"\"\"\n",
    "    dist = nengo.dists.SubvectorLength(sp_dimensions, sp_subdimensions)\n",
    "    in_range = _sp_subvector_error_in_range(radius, distortion,\n",
    "        sp_subdimensions)\n",
    "    out_of_range = _sp_subvector_error_out_of_range(\n",
    "        radius, sp_dimensions, sp_subdimensions)\n",
    "    return dist.cdf(radius) * in_range + (\n",
    "        1.0 - dist.cdf(radius)) * out_of_range\n",
    "\n",
    "\n",
    "def _sp_subvector_error_in_range(radius, distortion, subdimensions):\n",
    "    return radius * radius * subdimensions * distortion\n",
    "\n",
    "\n",
    "def _sp_subvector_error_out_of_range(radius, dimensions, subdimensions):\n",
    "    dist = nengo.dists.SubvectorLength(dimensions, subdimensions)\n",
    "    sq_r = radius * radius\n",
    "\n",
    "    normalization = 1.0 - dist.cdf(radius)\n",
    "    b = (dimensions - subdimensions) / 2.0\n",
    "    aligned_integral = beta(subdimensions / 2.0 + 1.0, b) * (1.0 - betainc(\n",
    "        subdimensions / 2.0 + 1.0, b, sq_r))\n",
    "    cross_integral = beta((subdimensions + 1) / 2.0, b) * (1.0 - betainc(\n",
    "        (subdimensions + 1) / 2.0, b, sq_r))\n",
    "\n",
    "    numerator = (sq_r * normalization + (\n",
    "        aligned_integral - 2.0 * radius * cross_integral) / beta(\n",
    "        subdimensions / 2.0, b))\n",
    "    with np.errstate(invalid='ignore'):\n",
    "        return np.where(\n",
    "            numerator > np.MachAr().eps,\n",
    "            numerator / normalization, np.zeros_like(normalization))\n",
    "    \n",
    "class UnitEA(nengo.networks.EnsembleArray):\n",
    "    def __init__(self, n_neurons, dimensions, n_ensembles, ens_dimensions=1,\n",
    "                 label=None, radius=1.0, **ens_kwargs):\n",
    "        if dimensions % n_ensembles != 0:\n",
    "            raise ValueError(\n",
    "                \"'dimensions' has to be divisible by 'n_ensembles'.\")\n",
    "\n",
    "        if n_ensembles > 1:\n",
    "            distortion = get_distortion(\n",
    "                nengo.Simulator, nengo.Ensemble(\n",
    "                    n_neurons * (dimensions // n_ensembles), dimensions // n_ensembles,\n",
    "                    add_to_container=False, **ens_kwargs))\n",
    "            opt_r = find_optimal_radius(distortion, dimensions, dimensions // n_ensembles)\n",
    "            scaled_r = radius * opt_r\n",
    "        else:\n",
    "            scaled_r = 1.\n",
    "\n",
    "        super(UnitEA, self).__init__(\n",
    "            n_neurons * ens_dimensions, n_ensembles, ens_dimensions, label=label,\n",
    "            radius=scaled_r, **ens_kwargs)"
   ]
  },
  {
   "cell_type": "markdown",
   "metadata": {},
   "source": [
    "Now follows the benchmarking function."
   ]
  },
  {
   "cell_type": "code",
   "execution_count": 66,
   "metadata": {},
   "outputs": [],
   "source": [
    "@memory.cache\n",
    "def get_repr_error(n_neurons, d, mode, seed, scale=1., sd=1):\n",
    "    print(mode, sd, seed)\n",
    "    seed = int(seed)\n",
    "    n_neurons = int(n_neurons)\n",
    "    d = int(d)\n",
    "    sd = int(sd)\n",
    "    duration = 5.\n",
    "\n",
    "    rng = np.random.RandomState(seed)\n",
    "\n",
    "    model = nengo.Network(seed=seed+1)\n",
    "    with model:\n",
    "        in_a = nengo.Node(SignalGenerator(duration), size_out=d)\n",
    "        \n",
    "        with nengo.Config(nengo.Ensemble, nengo.Connection) as cfg:\n",
    "            if mode == 'default':\n",
    "                repr_ = nengo.networks.EnsembleArray(n_neurons * sd, d // sd, sd)\n",
    "            elif mode == 'spaopt':\n",
    "                repr_ = UnitEA(n_neurons, d, d // sd, sd)\n",
    "            elif mode == 'cosine':\n",
    "                repr_ = nengo.networks.EnsembleArray(n_neurons * sd, d // sd, sd,\n",
    "                                                     eval_points=nengo.dists.CosineSimilarity(d + 2),\n",
    "                                                     intercepts=nengo.dists.CosineSimilarity(d + 2))\n",
    "            else:\n",
    "                raise ValueError(\"Invalid mode %r.\" % mode)\n",
    "        result = nengo.Ensemble(1, d, neuron_type=nengo.Direct())\n",
    "        nengo.Connection(in_a, repr_.input, transform=scale)\n",
    "        nengo.Connection(repr_.output, result)\n",
    "\n",
    "        with nengo.Network() as net:\n",
    "            net.config[nengo.Ensemble].neuron_type = nengo.Direct()\n",
    "            d_repr = nengo.networks.EnsembleArray(1, d)\n",
    "            d_result = nengo.Ensemble(1, d)\n",
    "        nengo.Connection(in_a, d_repr.input, transform=scale)\n",
    "        nengo.Connection(d_repr.output, d_result)\n",
    "        \n",
    "        probe = nengo.Probe(result, synapse=None)\n",
    "        d_probe = nengo.Probe(d_result, synapse=None)\n",
    "\n",
    "    with nengo.Simulator(model, progress_bar=False) as sim:\n",
    "        sim.run(duration)\n",
    "\n",
    "    return {\n",
    "        't': sim.trange(),\n",
    "        'rmse': nengo.utils.numpy.rmse(sim.data[probe], sim.data[d_probe], axis=1),\n",
    "    }"
   ]
  },
  {
   "cell_type": "code",
   "execution_count": 67,
   "metadata": {},
   "outputs": [],
   "source": [
    "pspace = (\n",
    "    Param(n_neurons=200, d=64, mode=['default', 'spaopt', 'cosine']) *\n",
    "    Param(sd=[1, 16, 64]) * Param(seed=np.arange(15)))"
   ]
  },
  {
   "cell_type": "code",
   "execution_count": 68,
   "metadata": {},
   "outputs": [
    {
     "name": "stdout",
     "output_type": "stream",
     "text": [
      "CPU times: user 363 ms, sys: 16.5 ms, total: 380 ms\n",
      "Wall time: 440 ms\n"
     ]
    }
   ],
   "source": [
    "%time df = pd.DataFrame(map_pspace(get_repr_error, pspace))\n",
    "df = df.groupby(['d', 'n_neurons', 'mode', 'sd', 'seed']).apply(\n",
    "    lambda x: pd.DataFrame({'rmse': x['rmse'].values[0]}, index=pd.Index(x['t'].values[0], name='t')))"
   ]
  },
  {
   "cell_type": "markdown",
   "metadata": {},
   "source": [
    "Run benchmarks and plot results."
   ]
  },
  {
   "cell_type": "code",
   "execution_count": 69,
   "metadata": {},
   "outputs": [
    {
     "data": {
      "image/png": "[encoded data removed]",
      "text/plain": [
       "<Figure size 389.102x324.252 with 1 Axes>"
      ]
     },
     "metadata": {},
     "output_type": "display_data"
    }
   ],
   "source": [
    "fig = plt.figure(figsize=(textwidth, 2. * row_height))\n",
    "with sns.axes_style('whitegrid'):\n",
    "    ax = fig.add_subplot(1, 1, 1)\n",
    "    sns.violinplot(\n",
    "        'rmse', 'sd', hue='mode',\n",
    "        data=df.reset_index().query('t > 0.5'),\n",
    "        hue_order=['default', 'spaopt', 'cosine'],\n",
    "        orient='horizontal', inner='box', ax=ax, linewidth=0.8)\n",
    "    ax.set_xlim(left=0.)\n",
    "    ax.set_xlabel(\"RMSE\")\n",
    "    ax.set_ylabel(\"Subdimensions $d_q$\")\n",
    "    ax.legend(\n",
    "        ax.get_legend_handles_labels()[0],\n",
    "        [\"Default\", \"Radius adjustment\", r\"$\\mathcal{CS}(d + 2)$\"],\n",
    "        loc='lower right')\n",
    "sns.despine(fig, top=False)\n",
    "fig.tight_layout()"
   ]
  },
  {
   "cell_type": "code",
   "execution_count": 70,
   "metadata": {},
   "outputs": [],
   "source": [
    "save_tight_fig(fig, '../../../phd-thesis/figures/spaopt-repr.pdf')"
   ]
  },
  {
   "cell_type": "code",
   "execution_count": 71,
   "metadata": {},
   "outputs": [],
   "source": [
    "df_agg = df.groupby(['d', 'n_neurons', 'sd', 'mode', 'seed']).agg(lambda x: np.sqrt(np.mean(np.square(x))))"
   ]
  },
  {
   "cell_type": "code",
   "execution_count": 72,
   "metadata": {},
   "outputs": [
    {
     "name": "stdout",
     "output_type": "stream",
     "text": [
      "(64, 200, 1) cosine default 0.0\n",
      "(64, 200, 1) cosine spaopt 0.0\n",
      "(64, 200, 1) default spaopt 0.0\n",
      "(64, 200, 16) cosine default 0.0\n",
      "(64, 200, 16) cosine spaopt 0.0\n",
      "(64, 200, 16) default spaopt 0.0\n",
      "(64, 200, 64) cosine default 0.0\n",
      "(64, 200, 64) cosine spaopt 0.0\n",
      "(64, 200, 64) default spaopt 0.9295\n"
     ]
    }
   ],
   "source": [
    "for n, g in df_agg.groupby(['d', 'n_neurons', 'sd']):\n",
    "    mode = g.index.get_level_values('mode')\n",
    "    for a, b in itertools.combinations(mode.unique(), 2):\n",
    "        d1 = g[mode == a]\n",
    "        d2 = g[mode == b]\n",
    "        print(n, a, b, bootstrap_diff_p(d1['rmse'], d2['rmse']))"
   ]
  },
  {
   "cell_type": "markdown",
   "metadata": {
    "collapsed": true
   },
   "source": [
    "The cosine similarity as intercept distribution performs almost as good as spa-opt for subdimensions of 1. It is also only slightly worse than for subdimensions of 1 when increasing the number of subdimensions. This is detrimental for spa-opt, especially with subdimensions equal to the dimensionality (64), the spa-opt methods are not applicable anymore.\n",
    "\n",
    "Thus, using the cosine similarity distribution is better than spa-opt in almost every aspect. It is applicable to any ratio of subdimesions to dimensions and it doesn't require an optimization step, while only being slightly worse in some cases."
   ]
  },
  {
   "cell_type": "markdown",
   "metadata": {},
   "source": [
    "### Dot product\n",
    "\n",
    "The dot product should also use the cosine similarity distribution. One could think that it should be the sum of two of those distribution given the implementation of the dot product. However, if a vector is compared to itself the two inputs are not independent and it reduces to a single cosine similarity distribution."
   ]
  },
  {
   "cell_type": "code",
   "execution_count": 73,
   "metadata": {},
   "outputs": [],
   "source": [
    "class MeanDist(nengo.dists.Distribution):\n",
    "    def __init__(self, dists):\n",
    "        super(MeanDist, self).__init__()\n",
    "        self.dists = dists\n",
    "        \n",
    "    def sample(self, n, d=None, rng=np.random):\n",
    "        return np.sum((dist.sample(n, d, rng) for dist in self.dists), axis=0) / len(self.dists)"
   ]
  },
  {
   "cell_type": "code",
   "execution_count": 74,
   "metadata": {},
   "outputs": [],
   "source": [
    "class SpaoptProduct(nengo.Network):\n",
    "    \"\"\"Computes the element-wise product of two (scaled) unit vectors.\n",
    "    Requires Scipy.\n",
    "    \"\"\"\n",
    "\n",
    "    def __init__(\n",
    "            self, n_neurons, dimensions, radius=1.0,\n",
    "            encoders=nengo.Default, **ens_kwargs):\n",
    "        super(SpaoptProduct, self).__init__()\n",
    "\n",
    "        with self:\n",
    "            distortion = get_distortion(\n",
    "                nengo.Simulator, nengo.Ensemble(\n",
    "                    n_neurons, 2, add_to_container=False, **ens_kwargs))\n",
    "            print('distortion', distortion)\n",
    "            opt_r = find_optimal_radius(distortion, dimensions, 1)\n",
    "            scaled_r = radius * opt_r\n",
    "            \n",
    "            prod = nengo.networks.Product(n_neurons, dimensions, scaled_r)\n",
    "            self.A = prod.A\n",
    "            self.B = prod.B\n",
    "            self.dimensions = dimensions\n",
    "\n",
    "            self.output = prod.output"
   ]
  },
  {
   "cell_type": "code",
   "execution_count": 75,
   "metadata": {},
   "outputs": [],
   "source": [
    "@memory.cache\n",
    "def get_dot_error(n_neurons, d, mode, seed):\n",
    "    print(mode, seed)\n",
    "    seed = int(seed)\n",
    "    n_neurons = int(n_neurons)\n",
    "    d = int(d)\n",
    "    duration = 5.\n",
    "\n",
    "    rng = np.random.RandomState(seed)\n",
    "\n",
    "    ctx = nengo.spa.SemanticPointer(d, rng)\n",
    "    ctx.make_unitary()\n",
    "\n",
    "    model = nengo.Network(seed=seed + 1)\n",
    "    with model:\n",
    "        in_a = nengo.Node(SignalGenerator(duration), size_out=d)\n",
    "        in_b = nengo.Node(output=ctx.v)\n",
    "\n",
    "        if mode == 'default':\n",
    "            prod = nengo.networks.Product(n_neurons, d)\n",
    "        elif mode == 'spaopt':\n",
    "            prod = SpaoptProduct(n_neurons, d)\n",
    "        elif mode == 'cosine':\n",
    "            with nengo.Config(nengo.Ensemble) as cfg:\n",
    "                cfg[nengo.Ensemble].eval_points = nengo.dists.CosineSimilarity(d + 2)\n",
    "                cfg[nengo.Ensemble].intercepts = nengo.dists.CosineSimilarity(d + 2)\n",
    "                prod = nengo.networks.Product(n_neurons, d)\n",
    "        else:\n",
    "            raise ValueError(\"Invalid mode.\")\n",
    "\n",
    "        result = nengo.Ensemble(1, 1, neuron_type=nengo.Direct())\n",
    "        nengo.Connection(in_a, prod.A)\n",
    "        nengo.Connection(in_b, prod.B)\n",
    "        nengo.Connection(\n",
    "            prod.output, result,\n",
    "            transform=nengo.networks.product.dot_product_transform(d))\n",
    "\n",
    "        with nengo.Network() as net:\n",
    "            net.config[nengo.Ensemble].neuron_type = nengo.Direct()\n",
    "            d_prod = nengo.networks.EnsembleArray(2, d, 2)\n",
    "            d_result = nengo.Ensemble(1, 1)\n",
    "        nengo.Connection(in_a, d_prod.input[::2])\n",
    "        nengo.Connection(in_b, d_prod.input[1::2])\n",
    "        nengo.Connection(\n",
    "            d_prod.add_output('dot', lambda x: x[0] * x[1]), d_result,\n",
    "            transform=[d * [1.]])\n",
    "\n",
    "        probe = nengo.Probe(result, synapse=None)\n",
    "        d_probe = nengo.Probe(d_result, synapse=None)\n",
    "\n",
    "    with nengo.Simulator(model, progress_bar=False) as sim:\n",
    "        sim.run(duration)\n",
    "\n",
    "    return {\n",
    "        't': sim.trange(),\n",
    "        'rmse': nengo.utils.numpy.rmse(sim.data[probe], sim.data[d_probe], axis=1),\n",
    "    }"
   ]
  },
  {
   "cell_type": "markdown",
   "metadata": {},
   "source": [
    "#### Length calculation"
   ]
  },
  {
   "cell_type": "code",
   "execution_count": 76,
   "metadata": {},
   "outputs": [],
   "source": [
    "@memory.cache\n",
    "def get_length_error(n_neurons, d, mode, seed):\n",
    "    print(mode, seed)\n",
    "    seed = int(seed)\n",
    "    n_neurons = int(n_neurons)\n",
    "    d = int(d)\n",
    "    duration = 5.\n",
    "\n",
    "    rng = np.random.RandomState(seed)\n",
    "\n",
    "    model = nengo.Network(seed=seed + 1)\n",
    "    with model:\n",
    "        in_a = nengo.Node(SignalGenerator(duration), size_out=d)\n",
    "\n",
    "        if mode == 'default':\n",
    "            prod = nengo.networks.Product(n_neurons, d)\n",
    "        elif mode == 'spaopt':\n",
    "            prod = SpaoptProduct(n_neurons, d)\n",
    "        elif mode == 'cosine':\n",
    "            with nengo.Config(nengo.Ensemble) as cfg:\n",
    "                cfg[nengo.Ensemble].eval_points = nengo.dists.CosineSimilarity(d + 2)\n",
    "                cfg[nengo.Ensemble].intercepts = nengo.dists.CosineSimilarity(d + 2)\n",
    "                prod = nengo.networks.Product(n_neurons, d)\n",
    "        else:\n",
    "            raise ValueError(\"Invalid mode.\")\n",
    "\n",
    "        result = nengo.Ensemble(1, 1, neuron_type=nengo.Direct())\n",
    "        nengo.Connection(in_a, prod.A)\n",
    "        nengo.Connection(in_a, prod.B)\n",
    "        nengo.Connection(\n",
    "            prod.output, result,\n",
    "            transform=nengo.networks.product.dot_product_transform(d))\n",
    "\n",
    "        with nengo.Network() as net:\n",
    "            net.config[nengo.Ensemble].neuron_type = nengo.Direct()\n",
    "            d_prod = nengo.networks.EnsembleArray(2, d, 2)\n",
    "            d_result = nengo.Ensemble(1, 1)\n",
    "        nengo.Connection(in_a, d_prod.input[::2])\n",
    "        nengo.Connection(in_a, d_prod.input[1::2])\n",
    "        nengo.Connection(\n",
    "            d_prod.add_output('dot', lambda x: x[0] * x[1]), d_result,\n",
    "            transform=[d * [1.]])\n",
    "\n",
    "        probe = nengo.Probe(result, synapse=None)\n",
    "        d_probe = nengo.Probe(d_result, synapse=None)\n",
    "\n",
    "    with nengo.Simulator(model, progress_bar=False) as sim:\n",
    "        sim.run(duration)\n",
    "\n",
    "    return {\n",
    "        't': sim.trange(),\n",
    "        'rmse': nengo.utils.numpy.rmse(sim.data[probe], sim.data[d_probe], axis=1),\n",
    "    }"
   ]
  },
  {
   "cell_type": "code",
   "execution_count": 77,
   "metadata": {},
   "outputs": [],
   "source": [
    "pspace = (\n",
    "    Param(n_neurons=200, d=64, mode=['default', 'spaopt', 'cosine']) *\n",
    "    Param(seed=np.arange(15)))"
   ]
  },
  {
   "cell_type": "code",
   "execution_count": 78,
   "metadata": {},
   "outputs": [
    {
     "name": "stdout",
     "output_type": "stream",
     "text": [
      "CPU times: user 142 ms, sys: 0 ns, total: 142 ms\n",
      "Wall time: 162 ms\n"
     ]
    }
   ],
   "source": [
    "%time df1 = pd.DataFrame(map_pspace(get_dot_error, pspace))\n",
    "df1 = df1.groupby(['d', 'n_neurons', 'mode', 'seed']).apply(\n",
    "    lambda x: pd.DataFrame({'rmse': x['rmse'].values[0]}, index=pd.Index(x['t'].values[0], name='t')))"
   ]
  },
  {
   "cell_type": "code",
   "execution_count": 79,
   "metadata": {},
   "outputs": [
    {
     "name": "stdout",
     "output_type": "stream",
     "text": [
      "default 0\n",
      "default 1\n",
      "default 2\n",
      "default 3\n",
      "default 4\n",
      "default 5\n",
      "default 6\n",
      "default 7\n",
      "default 8\n",
      "default 9\n",
      "default 10\n",
      "default 11\n",
      "default 12\n",
      "default 13\n",
      "default 14\n",
      "spaopt 0\n",
      "Building finished in 0:00:01.                                                                                                                                                                                                                \n",
      "distortion 6.969064294654192e-05\n",
      "spaopt 1\n",
      "Building finished in 0:00:01.                                                                                                                                                                                                                \n",
      "distortion 6.697697926934562e-05\n",
      "spaopt 2\n",
      "Building finished in 0:00:01.                                                                                                                                                                                                                \n",
      "distortion 8.60173589714545e-05\n",
      "spaopt 3\n",
      "Building finished in 0:00:01.                                                                                                                                                                                                                \n",
      "distortion 7.155652930977384e-05\n",
      "spaopt 4\n",
      "Building finished in 0:00:01.                                                                                                                                                                                                                \n",
      "distortion 4.947050287424084e-05\n",
      "spaopt 5\n",
      "Building finished in 0:00:01.                                                                                                                                                                                                                \n",
      "distortion 6.499246336157235e-05\n",
      "spaopt 6\n",
      "Building finished in 0:00:01.                                                                                                                                                                                                                \n",
      "distortion 7.328616212015214e-05\n",
      "spaopt 7\n",
      "Building finished in 0:00:01.                                                                                                                                                                                                                \n",
      "distortion 8.409986067776638e-05\n",
      "spaopt 8\n",
      "Building finished in 0:00:01.                                                                                                                                                                                                                \n",
      "distortion 7.473019865661653e-05\n",
      "spaopt 9\n",
      "Building finished in 0:00:01.                                                                                                                                                                                                                \n",
      "distortion 7.889847161975574e-05\n",
      "spaopt 10\n",
      "Building finished in 0:00:01.                                                                                                                                                                                                                \n",
      "distortion 6.612338756834389e-05\n",
      "spaopt 11\n",
      "Building finished in 0:00:01.                                                                                                                                                                                                                \n",
      "distortion 7.121400328390997e-05\n",
      "spaopt 12\n",
      "Building finished in 0:00:01.                                                                                                                                                                                                                \n",
      "distortion 6.668786389995802e-05\n",
      "spaopt 13\n",
      "Building finished in 0:00:01.                                                                                                                                                                                                                \n",
      "distortion 6.642734587501371e-05\n",
      "spaopt 14\n",
      "Building finished in 0:00:01.                                                                                                                                                                                                                \n",
      "distortion 6.475855401453395e-05\n",
      "cosine 0\n",
      "cosine 1\n",
      "cosine 2\n",
      "cosine 3\n",
      "cosine 4\n",
      "cosine 5\n",
      "cosine 6\n",
      "cosine 7\n",
      "cosine 8\n",
      "cosine 9\n",
      "cosine 10\n",
      "cosine 11\n",
      "cosine 12\n",
      "cosine 13\n",
      "cosine 14\n",
      "CPU times: user 11min 40s, sys: 4min 2s, total: 15min 42s\n",
      "Wall time: 10min 19s\n"
     ]
    }
   ],
   "source": [
    "%time df2 = pd.DataFrame(map_pspace(get_length_error, pspace))\n",
    "df2 = df2.groupby(['d', 'n_neurons', 'mode', 'seed']).apply(\n",
    "    lambda x: pd.DataFrame({'rmse': x['rmse'].values[0]}, index=pd.Index(x['t'].values[0], name='t')))"
   ]
  },
  {
   "cell_type": "code",
   "execution_count": 80,
   "metadata": {},
   "outputs": [],
   "source": [
    "df = pd.concat((df1, df2), keys=('dot', 'length'), names=['type'])"
   ]
  },
  {
   "cell_type": "code",
   "execution_count": 81,
   "metadata": {},
   "outputs": [
    {
     "data": {
      "image/png": "[encoded data removed]",
      "text/plain": [
       "<Figure size 389.102x162.126 with 1 Axes>"
      ]
     },
     "metadata": {},
     "output_type": "display_data"
    }
   ],
   "source": [
    "fig = plt.figure(figsize=(textwidth, row_height))\n",
    "with sns.axes_style('whitegrid'):\n",
    "    ax = fig.add_subplot(1, 1, 1)\n",
    "    sns.violinplot(\n",
    "        'rmse', 'mode', hue='type', split=True, order=['default', 'spaopt', 'cosine'],\n",
    "        data=df.reset_index().query('t > 0.5'),\n",
    "        orient='horizontal', inner='box', ax=ax, linewidth=0.8)\n",
    "    ax.set_xlim(left=0.)\n",
    "    ax.set_xlabel(\"RMSE\")\n",
    "    ax.set_ylabel(\"\")\n",
    "    ax.yaxis.set_ticklabels([\"Default\", \"Radius adjustment\", r\"$\\mathcal{CS}(d + 2)$\"])\n",
    "    ax.legend(\n",
    "        ax.get_legend_handles_labels()[0],\n",
    "        [\"Dot product\", r\"$\\ell^2$ norm\"],\n",
    "        loc='lower right')\n",
    "sns.despine(fig, top=False)\n",
    "fig.tight_layout()"
   ]
  },
  {
   "cell_type": "code",
   "execution_count": 82,
   "metadata": {},
   "outputs": [],
   "source": [
    "save_tight_fig(fig, '../../../phd-thesis/figures/spaopt-dot.pdf')"
   ]
  },
  {
   "cell_type": "code",
   "execution_count": 83,
   "metadata": {},
   "outputs": [],
   "source": [
    "df_agg = df.groupby(['type', 'd', 'n_neurons', 'mode', 'seed']).agg(lambda x: np.sqrt(np.mean(np.square(x))))"
   ]
  },
  {
   "cell_type": "code",
   "execution_count": 84,
   "metadata": {},
   "outputs": [
    {
     "name": "stdout",
     "output_type": "stream",
     "text": [
      "('dot', 64, 200) cosine default -0.16491422257108723 0.0\n",
      "('dot', 64, 200) cosine spaopt 0.011484071195923588 0.0\n",
      "('dot', 64, 200) default spaopt 0.17639829376701083 0.0\n",
      "('length', 64, 200) cosine default -0.16322194948081514 0.0\n",
      "('length', 64, 200) cosine spaopt 0.009081154044687845 0.0\n",
      "('length', 64, 200) default spaopt 0.172303103525503 0.0\n"
     ]
    }
   ],
   "source": [
    "for n, g in df_agg.groupby(['type', 'd', 'n_neurons']):\n",
    "    mode = g.index.get_level_values('mode')\n",
    "    for a, b in itertools.combinations(mode.unique(), 2):\n",
    "        d1 = g[mode == a]\n",
    "        d2 = g[mode == b]\n",
    "        print(n, a, b, d1['rmse'].mean() - d2['rmse'].mean(), bootstrap_diff_p(d1['rmse'], d2['rmse']))"
   ]
  },
  {
   "cell_type": "markdown",
   "metadata": {},
   "source": [
    "### Circular convolution\n",
    "\n",
    "For the circular convolution we don't use the `CosineSimilarity` distribution because it does not apply to unitary vectors. For unitary vectors additional constraints apply to the vector components in addition to the normalization of the vector length. In particular, all complex Fourier coefficients are normalized to be of unit length which imposes restrictions on the imaginary and real component. These are not distributed with `CosineSimlarity(d)`, but `CosineSimilarity(2)`. It is not clear what the ideal intercept distribution for `CosineSimilarity(2)` is as it clusters values at -1 and 1 instead around 0. Thus clustering intercepts around zero might still help due to higher firing rates, but it might also degrade the representation as fewer neurons change from on to off in the relevant area."
   ]
  },
  {
   "cell_type": "code",
   "execution_count": 85,
   "metadata": {},
   "outputs": [
    {
     "name": "stderr",
     "output_type": "stream",
     "text": [
      "/home/jgosmann/.pyenv/versions/3.6.1/lib/python3.6/site-packages/nengo/dists.py:450: RuntimeWarning: divide by zero encountered in power\n",
      "  (1 - x * x) ** (self.n / 2.0 - 1))\n"
     ]
    },
    {
     "data": {
      "text/plain": [
       "(0.0, 1.6552958555631407)"
      ]
     },
     "execution_count": 85,
     "metadata": {},
     "output_type": "execute_result"
    },
    {
     "data": {
      "image/png": "[encoded data removed]",
      "text/plain": [
       "<Figure size 432x288 with 1 Axes>"
      ]
     },
     "metadata": {},
     "output_type": "display_data"
    }
   ],
   "source": [
    "x = np.linspace(-1, 1, 100)\n",
    "plt.plot(x, nengo.dists.CosineSimilarity(2).pdf(x))\n",
    "plt.xlabel('x')\n",
    "plt.ylabel('Probability density')\n",
    "plt.xlim(-1., 1.)\n",
    "plt.ylim(bottom=0.)"
   ]
  },
  {
   "cell_type": "markdown",
   "metadata": {},
   "source": [
    "We would also need to know in advance whether the input vectors are random or unitary to select the appropriate distributions. Overall, it is just easier to use uniform distributions with an adjusted radius."
   ]
  },
  {
   "cell_type": "code",
   "execution_count": 86,
   "metadata": {},
   "outputs": [],
   "source": [
    "class SpaoptCircularConvolution(nengo.Network):\n",
    "    \"\"\"Compute the circular convolution of two vectors.\n",
    "    The circular convolution `c` of vectors `a` and `b` is given by\n",
    "        c[i] = sum_j a[j] * b[i - j]\n",
    "    where the indices on `b` are assumed to wrap around as required.\n",
    "    This computation can also be done in the Fourier domain,\n",
    "        c = DFT^{-1}( DFT(a) * DFT(b) )\n",
    "    where `DFT` is the Discrete Fourier Transform operator, and\n",
    "    `DFT^{-1}` is its inverse. This network uses this method.\n",
    "    Parameters\n",
    "    ----------\n",
    "    neurons : Neurons\n",
    "        A Neurons object, defining both the number of neurons per\n",
    "        dimension and the neuron model.\n",
    "    dimensions : int\n",
    "        The number of dimensions of the input and output vectors.\n",
    "    invert_a, invert_b : bool\n",
    "        Whether to reverse the order of elements in either\n",
    "        the first input (`invert_a`) or the second input (`invert_b`).\n",
    "        Flipping the second input will make the network perform circular\n",
    "        correlation instead of circular convolution.\n",
    "    Examples\n",
    "    --------\n",
    "        A = EnsembleArray(nengo.LIF(50), 10)\n",
    "        B = EnsembleArray(nengo.LIF(50), 10)\n",
    "        C = EnsembleArray(nengo.LIF(50), 10)\n",
    "        cconv = nengo.networks.CircularConvolution(nengo.LIF(50), 10)\n",
    "        nengo.Connection(A.output, cconv.A)\n",
    "        nengo.Connection(B.output, cconv.B)\n",
    "        nengo.Connection(cconv.output, C.input)\n",
    "    Notes\n",
    "    -----\n",
    "    The network maps the input vectors `a` and `b` of length N into\n",
    "    the Fourier domain and aligns them for complex multiplication.\n",
    "    Letting `F = DFT(a)` and `G = DFT(b)`, this is given by:\n",
    "        [ F[i].real ]     [ G[i].real ]     [ w[i] ]\n",
    "        [ F[i].imag ]  *  [ G[i].imag ]  =  [ x[i] ]\n",
    "        [ F[i].real ]     [ G[i].imag ]     [ y[i] ]\n",
    "        [ F[i].imag ]     [ G[i].real ]     [ z[i] ]\n",
    "    where `i` only ranges over the lower half of the spectrum, since\n",
    "    the upper half of the spectrum is the flipped complex conjugate of\n",
    "    the lower half, and therefore redundant. The input transforms are\n",
    "    used to perform the DFT on the inputs and align them correctly for\n",
    "    complex multiplication.\n",
    "    The complex product `H = F * G` is then\n",
    "        H[i] = (w[i] - x[i]) + (y[i] + z[i]) * I\n",
    "    where `I = sqrt(-1)`. We can perform this addition along with the\n",
    "    inverse DFT `c = DFT^{-1}(H)` in a single output transform, finding\n",
    "    only the real part of `c` since the imaginary part is analytically zero.\n",
    "    \"\"\"\n",
    "\n",
    "    def __init__(self, n_neurons, dimensions, invert_a=False, invert_b=False,\n",
    "                 radius=1, **ens_kwargs):\n",
    "        super(SpaoptCircularConvolution, self).__init__()\n",
    "        with self:\n",
    "            self.dimensions = dimensions\n",
    "            self.invert_a = invert_a\n",
    "            self.invert_b = invert_b\n",
    "\n",
    "            self.A = nengo.Node(size_in=dimensions, label=\"A\")\n",
    "            self.B = nengo.Node(size_in=dimensions, label=\"B\")\n",
    "            self.product = SpaoptProduct(n_neurons,\n",
    "                                   self.transform_out.shape[1],\n",
    "                                   radius=radius,\n",
    "                                   label=\"conv\",\n",
    "                                   **ens_kwargs)\n",
    "            self.output = nengo.Node(size_in=dimensions, label=\"output\")\n",
    "\n",
    "            nengo.Connection(self.A, self.product.A,\n",
    "                             transform=self.transformA, synapse=None)\n",
    "            nengo.Connection(self.B, self.product.B,\n",
    "                             transform=self.transformB, synapse=None)\n",
    "            nengo.Connection(\n",
    "                self.product.output, self.output, transform=self.transform_out,\n",
    "                synapse=None)\n",
    "\n",
    "    @property\n",
    "    def transformA(self):\n",
    "        return self._input_transform(self.dimensions, 'A', self.invert_a)\n",
    "\n",
    "    @property\n",
    "    def transformB(self):\n",
    "        return self._input_transform(self.dimensions, 'B', self.invert_b)\n",
    "\n",
    "    @property\n",
    "    def transform_out(self):\n",
    "        dims = self.dimensions\n",
    "        dims2 = (dims // 2 + 1)\n",
    "        tr = np.zeros((dims2, 4, dims))\n",
    "        idft = self.dft_half(dims).conj()\n",
    "\n",
    "        for i in range(dims2):\n",
    "            row = idft[i] if i == 0 or 2*i == dims else 2*idft[i]\n",
    "            tr[i, 0] = row.real\n",
    "            tr[i, 1] = -row.real\n",
    "            tr[i, 2] = -row.imag\n",
    "            tr[i, 3] = -row.imag\n",
    "\n",
    "        tr = tr.reshape(4*dims2, dims)\n",
    "        self._remove_imag_rows(tr)\n",
    "        # scaling is needed since we have 1./sqrt(dims) in DFT\n",
    "        tr *= np.sqrt(dims)\n",
    "\n",
    "        return tr.T\n",
    "\n",
    "    @staticmethod\n",
    "    def dft_half(n):\n",
    "        x = np.arange(n)\n",
    "        w = np.arange(n // 2 + 1)\n",
    "        return ((1. / np.sqrt(n)) *\n",
    "                np.exp((-2.j * np.pi / n) * (w[:, None] * x[None, :])))\n",
    "\n",
    "    @staticmethod\n",
    "    def _input_transform(dims, align, invert):\n",
    "        \"\"\"Create a transform to map the input into the Fourier domain.\n",
    "        See the class docstring for more details.\n",
    "        Parameters\n",
    "        ----------\n",
    "        dims : int\n",
    "            Input dimensions.\n",
    "        align : 'A' or 'B'\n",
    "            How to align the real and imaginary components; the alignment\n",
    "            depends on whether we're doing transformA or transformB.\n",
    "        invert : bool\n",
    "            Whether to reverse the order of elements.\n",
    "        \"\"\"\n",
    "        if align not in ('A', 'B'):\n",
    "            raise ValueError(\"'align' must be either 'A' or 'B'\")\n",
    "\n",
    "        dims2 = 4 * (dims // 2 + 1)\n",
    "        tr = np.zeros((dims2, dims))\n",
    "        dft = SpaoptCircularConvolution.dft_half(dims)\n",
    "\n",
    "        for i in range(dims2):\n",
    "            row = dft[i // 4] if not invert else dft[i // 4].conj()\n",
    "            if align == 'A':\n",
    "                tr[i] = row.real if i % 2 == 0 else row.imag\n",
    "            else:  # align == 'B'\n",
    "                tr[i] = row.real if i % 4 == 0 or i % 4 == 3 else row.imag\n",
    "\n",
    "        SpaoptCircularConvolution._remove_imag_rows(tr)\n",
    "        return tr.reshape((-1, dims))\n",
    "\n",
    "    @staticmethod\n",
    "    def _remove_imag_rows(tr):\n",
    "        \"\"\"Throw away imaginary row we don't need (since they're zero)\"\"\"\n",
    "        i = np.arange(tr.shape[0])\n",
    "        if tr.shape[1] % 2 == 0:\n",
    "            tr = tr[(i == 0) | (i > 3) & (i < len(i) - 3)]\n",
    "        else:\n",
    "            tr = tr[(i == 0) | (i > 3)]"
   ]
  },
  {
   "cell_type": "code",
   "execution_count": 87,
   "metadata": {},
   "outputs": [],
   "source": [
    "class SumDist(nengo.dists.Distribution):\n",
    "    def __init__(self, d1, d2):\n",
    "        super(SumDist, self).__init__()\n",
    "        self.d1 = d1\n",
    "        self.d2 = d2\n",
    "        \n",
    "    def sample(self, n, d=None, rng=None):\n",
    "        return (self.d1.sample(n, d, rng=rng) + self.d2.sample(n, d, rng=rng)) / 2.\n",
    "    \n",
    "    def __repr__(self):\n",
    "        return 'SumDist({!r}, {!r})'.format(self.d1, self.d2)\n",
    "    \n",
    "    def __hash__(self):\n",
    "        return hash((self.d1, self.d2))\n",
    "    \n",
    "    def __eq__(self, other):\n",
    "        return isinstance(other, SumDist) and self.d1 == other.d1 and self.d2 == other.d2"
   ]
  },
  {
   "cell_type": "code",
   "execution_count": 88,
   "metadata": {},
   "outputs": [],
   "source": [
    "@memory.cache\n",
    "def get_cconv_error(n_neurons, d, mode, seed):\n",
    "    print(mode, seed)\n",
    "    seed = int(seed)\n",
    "    n_neurons = int(n_neurons)\n",
    "    d = int(d)\n",
    "    duration = 5.\n",
    "\n",
    "    rng = np.random.RandomState(seed)\n",
    "\n",
    "    ctx = nengo.spa.SemanticPointer(d, rng)\n",
    "    #ctx.make_unitary()\n",
    "\n",
    "    model = nengo.Network(seed=seed + 1)\n",
    "    with model:\n",
    "        in_a = nengo.Node(SignalGenerator(duration), size_out=d)\n",
    "        in_b = nengo.Node(output=ctx.v)\n",
    "\n",
    "        if mode == 'default':\n",
    "            cconv = nengo.networks.CircularConvolution(n_neurons, d)\n",
    "        elif mode == 'default2':\n",
    "            cconv = nengo.networks.CircularConvolution(n_neurons, d, input_magnitude=1. / np.sqrt(2.))\n",
    "        elif mode == 'spaopt':\n",
    "            cconv = SpaoptCircularConvolution(n_neurons, d)\n",
    "        elif mode == 'spaopt2':\n",
    "            cconv = SpaoptCircularConvolution(n_neurons, d, radius=1. / np.sqrt(2.))\n",
    "        else:\n",
    "            raise ValueError(\"Invalid mode.\")\n",
    "\n",
    "        result = nengo.Ensemble(1, d, neuron_type=nengo.Direct())\n",
    "        nengo.Connection(in_a, cconv.A)\n",
    "        nengo.Connection(in_b, cconv.B)\n",
    "        nengo.Connection(cconv.output, result)\n",
    "\n",
    "        with nengo.Network() as net:\n",
    "            net.config[nengo.Ensemble].neuron_type = nengo.Direct()\n",
    "            d_cconv = nengo.networks.CircularConvolution(1, d)\n",
    "            d_result = nengo.Ensemble(1, d)\n",
    "        nengo.Connection(in_a, d_cconv.A)\n",
    "        nengo.Connection(in_b, d_cconv.B)\n",
    "        nengo.Connection(d_cconv.output, d_result)\n",
    "\n",
    "        probe = nengo.Probe(result, synapse=None)\n",
    "        d_probe = nengo.Probe(d_result, synapse=None)\n",
    "\n",
    "    with nengo.Simulator(model, progress_bar=False) as sim:\n",
    "        sim.run(duration)\n",
    "\n",
    "    return {\n",
    "        't': sim.trange(),\n",
    "        'rmse': nengo.utils.numpy.rmse(sim.data[probe], sim.data[d_probe], axis=1),\n",
    "        'cosine': (np.sum(sim.data[probe] * sim.data[d_probe], axis=1) /\n",
    "                   np.linalg.norm(sim.data[probe], axis=1) /\n",
    "                   np.linalg.norm(sim.data[d_probe], axis=1)),\n",
    "    }"
   ]
  },
  {
   "cell_type": "code",
   "execution_count": 89,
   "metadata": {},
   "outputs": [],
   "source": [
    "pspace = (\n",
    "    Param(n_neurons=200, d=64, mode=['default', 'default2', 'spaopt', 'spaopt2']) *\n",
    "    Param(seed=[1])) #np.arange(15)))"
   ]
  },
  {
   "cell_type": "code",
   "execution_count": 90,
   "metadata": {},
   "outputs": [
    {
     "name": "stdout",
     "output_type": "stream",
     "text": [
      "CPU times: user 10.9 ms, sys: 2.4 ms, total: 13.3 ms\n",
      "Wall time: 16.2 ms\n"
     ]
    }
   ],
   "source": [
    "%time df = pd.DataFrame(map_pspace(get_cconv_error, pspace))\n",
    "df = df.groupby(['d', 'n_neurons', 'mode', 'seed']).apply(\n",
    "    lambda x: pd.DataFrame({'rmse': x['rmse'].values[0]}, index=pd.Index(x['t'].values[0], name='t')))"
   ]
  },
  {
   "cell_type": "code",
   "execution_count": 91,
   "metadata": {},
   "outputs": [
    {
     "data": {
      "image/png": "[encoded data removed]",
      "text/plain": [
       "<Figure size 389.102x162.126 with 1 Axes>"
      ]
     },
     "metadata": {},
     "output_type": "display_data"
    }
   ],
   "source": [
    "\n",
    "# 50 unitary\n",
    "fig = plt.figure(figsize=(textwidth, row_height))\n",
    "with sns.axes_style('whitegrid'):\n",
    "    ax = fig.add_subplot(1, 1, 1)\n",
    "    sns.violinplot(\n",
    "        'rmse', 'mode', #order=['default', 'spaopt', 'cosine'],\n",
    "        data=df.reset_index().query('t > 0.5'),\n",
    "        orient='horizontal', inner='box', ax=ax, linewidth=0.8)\n",
    "    ax.set_xlim(left=0.)\n",
    "    ax.set_xlabel(\"RMSE\")\n",
    "    ax.set_ylabel(\"\")\n",
    "    #ax.yaxis.set_ticklabels([\"Default\", \"Radius adjustment\", r\"$\\mathcal{CS}(d + 2)$\"])\n",
    "sns.despine(fig, top=False)\n",
    "fig.tight_layout()"
   ]
  },
  {
   "cell_type": "code",
   "execution_count": 92,
   "metadata": {},
   "outputs": [
    {
     "data": {
      "image/png": "[encoded data removed]",
      "text/plain": [
       "<Figure size 389.102x162.126 with 1 Axes>"
      ]
     },
     "metadata": {},
     "output_type": "display_data"
    }
   ],
   "source": [
    "\n",
    "# 200 unitary\n",
    "fig = plt.figure(figsize=(textwidth, row_height))\n",
    "with sns.axes_style('whitegrid'):\n",
    "    ax = fig.add_subplot(1, 1, 1)\n",
    "    sns.violinplot(\n",
    "        'rmse', 'mode', #order=['default', 'spaopt', 'cosine'],\n",
    "        data=df.reset_index().query('t > 0.5'),\n",
    "        orient='horizontal', inner='box', ax=ax, linewidth=0.8)\n",
    "    ax.set_xlim(left=0.)\n",
    "    ax.set_xlabel(\"RMSE\")\n",
    "    ax.set_ylabel(\"\")\n",
    "    #ax.yaxis.set_ticklabels([\"Default\", \"Radius adjustment\", r\"$\\mathcal{CS}(d + 2)$\"])\n",
    "sns.despine(fig, top=False)\n",
    "fig.tight_layout()"
   ]
  },
  {
   "cell_type": "code",
   "execution_count": 93,
   "metadata": {},
   "outputs": [
    {
     "data": {
      "image/png": "[encoded data removed]",
      "text/plain": [
       "<Figure size 389.102x162.126 with 1 Axes>"
      ]
     },
     "metadata": {},
     "output_type": "display_data"
    }
   ],
   "source": [
    "\n",
    "# 50 nonunitary\n",
    "fig = plt.figure(figsize=(textwidth, row_height))\n",
    "with sns.axes_style('whitegrid'):\n",
    "    ax = fig.add_subplot(1, 1, 1)\n",
    "    sns.violinplot(\n",
    "        'rmse', 'mode', #order=['default', 'spaopt', 'cosine'],\n",
    "        data=df.reset_index().query('t > 0.5'),\n",
    "        orient='horizontal', inner='box', ax=ax, linewidth=0.8)\n",
    "    ax.set_xlim(left=0.)\n",
    "    ax.set_xlabel(\"RMSE\")\n",
    "    ax.set_ylabel(\"\")\n",
    "    #ax.yaxis.set_ticklabels([\"Default\", \"Radius adjustment\", r\"$\\mathcal{CS}(d + 2)$\"])\n",
    "sns.despine(fig, top=False)\n",
    "fig.tight_layout()"
   ]
  },
  {
   "cell_type": "code",
   "execution_count": 94,
   "metadata": {},
   "outputs": [
    {
     "data": {
      "image/png": "[encoded data removed]",
      "text/plain": [
       "<Figure size 389.102x162.126 with 1 Axes>"
      ]
     },
     "metadata": {},
     "output_type": "display_data"
    }
   ],
   "source": [
    "\n",
    "# 200 nonunitary\n",
    "fig = plt.figure(figsize=(textwidth, row_height))\n",
    "with sns.axes_style('whitegrid'):\n",
    "    ax = fig.add_subplot(1, 1, 1)\n",
    "    sns.violinplot(\n",
    "        'rmse', 'mode', #order=['default', 'spaopt', 'cosine'],\n",
    "        data=df.reset_index().query('t > 0.5'),\n",
    "        orient='horizontal', inner='box', ax=ax, linewidth=0.8)\n",
    "    ax.set_xlim(left=0.)\n",
    "    ax.set_xlabel(\"RMSE\")\n",
    "    ax.set_ylabel(\"\")\n",
    "    #ax.yaxis.set_ticklabels([\"Default\", \"Radius adjustment\", r\"$\\mathcal{CS}(d + 2)$\"])\n",
    "sns.despine(fig, top=False)\n",
    "fig.tight_layout()"
   ]
  },
  {
   "cell_type": "code",
   "execution_count": 95,
   "metadata": {},
   "outputs": [
    {
     "data": {
      "image/png": "[encoded data removed]",
      "text/plain": [
       "<Figure size 389.102x162.126 with 1 Axes>"
      ]
     },
     "metadata": {},
     "output_type": "display_data"
    }
   ],
   "source": [
    "\n",
    "# 50 nonnonunitary\n",
    "fig = plt.figure(figsize=(textwidth, row_height))\n",
    "with sns.axes_style('whitegrid'):\n",
    "    ax = fig.add_subplot(1, 1, 1)\n",
    "    sns.violinplot(\n",
    "        'rmse', 'mode', #order=['default', 'spaopt', 'cosine'],\n",
    "        data=df.reset_index().query('t > 0.5'),\n",
    "        orient='horizontal', inner='box', ax=ax, linewidth=0.8)\n",
    "    ax.set_xlim(left=0.)\n",
    "    ax.set_xlabel(\"RMSE\")\n",
    "    ax.set_ylabel(\"\")\n",
    "    #ax.yaxis.set_ticklabels([\"Default\", \"Radius adjustment\", r\"$\\mathcal{CS}(d + 2)$\"])\n",
    "sns.despine(fig, top=False)\n",
    "fig.tight_layout()"
   ]
  },
  {
   "cell_type": "code",
   "execution_count": 96,
   "metadata": {},
   "outputs": [
    {
     "data": {
      "image/png": "[encoded data removed]",
      "text/plain": [
       "<Figure size 389.102x162.126 with 1 Axes>"
      ]
     },
     "metadata": {},
     "output_type": "display_data"
    }
   ],
   "source": [
    "\n",
    "# 200 nonnonunitary\n",
    "fig = plt.figure(figsize=(textwidth, row_height))\n",
    "with sns.axes_style('whitegrid'):\n",
    "    ax = fig.add_subplot(1, 1, 1)\n",
    "    sns.violinplot(\n",
    "        'rmse', 'mode', #order=['default', 'spaopt', 'cosine'],\n",
    "        data=df.reset_index().query('t > 0.5'),\n",
    "        orient='horizontal', inner='box', ax=ax, linewidth=0.8)\n",
    "    ax.set_xlim(left=0.)\n",
    "    ax.set_xlabel(\"RMSE\")\n",
    "    ax.set_ylabel(\"\")\n",
    "    #ax.yaxis.set_ticklabels([\"Default\", \"Radius adjustment\", r\"$\\mathcal{CS}(d + 2)$\"])\n",
    "sns.despine(fig, top=False)\n",
    "fig.tight_layout()"
   ]
  },
  {
   "cell_type": "markdown",
   "metadata": {},
   "source": [
    "# Summary\n",
    "\n",
    "* The cosine similarity improves the accuracy of ensembles with spiking neurons with more than 1 dimension. This seems to hold true in general.\n",
    "* For rate neurons the uniform distribution is better, if one adjusts the solver regularization to account for the non-existent noise.\n",
    "* The cosine similarity gives a scaling of the noise error with $O(d^{3/4})$ instead of $O(d)$.\n",
    "* Some non-uniform intercept distributions might be even better than the cosine similarity in some circumstances, but these will not be better than the uniform distribution in all cases.\n",
    "  * One example is the flipped subvector length distribution. It is good for high-dimensional ensembles, but not for low-dimensional ensembles (especially when computing a non-linear functions.).\n",
    "* The non-uniform intercept distributions can introduce a bias into the representational space in the sense that the error in certain areas might be lower than in others (it is not uniformly distributed).\n",
    "* We can use the cosine similarity distribution for intercepts and evaluation points to achieve an accuracy at the level of spa-opt without slow optimization step and generalization over any number of subdimensions."
   ]
  },
  {
   "cell_type": "markdown",
   "metadata": {},
   "source": [
    "# Acknowledgements\n",
    "\n",
    "I would like to thank Aaron R. Voelker for inspiring this research and Terrence C. Stewart for performing [first experiments with non-uniform intercept distributions](https://github.com/nengo/nengo_extras/issues/34)."
   ]
  },
  {
   "cell_type": "code",
   "execution_count": null,
   "metadata": {},
   "outputs": [],
   "source": []
  }
 ],
 "metadata": {
  "kernelspec": {
   "display_name": "Python 3",
   "language": "python",
   "name": "python3"
  },
  "language_info": {
   "codemirror_mode": {
    "name": "ipython",
    "version": 3
   },
   "file_extension": ".py",
   "mimetype": "text/x-python",
   "name": "python",
   "nbconvert_exporter": "python",
   "pygments_lexer": "ipython3",
   "version": "3.6.1"
  },
  "widgets": {
   "state": {
    "00653502b3d840cab3a644af5a302a63": {
     "views": [
      {
       "cell_index": 99
      }
     ]
    },
    "00c40c5761ff4c7fb13d188b8a7d989e": {
     "views": [
      {
       "cell_index": 127
      }
     ]
    },
    "011dc02d7c9245b496bc524e6b4180a5": {
     "views": [
      {
       "cell_index": 121
      }
     ]
    },
    "02007c168a70445d98a33a3c7f80191f": {
     "views": [
      {
       "cell_index": 69
      }
     ]
    },
    "02374d71f3894bd5a3db53d347c6d47d": {
     "views": [
      {
       "cell_index": 117
      }
     ]
    },
    "03e4b81bd3e84886960256ddc7c5c3df": {
     "views": [
      {
       "cell_index": 105
      }
     ]
    },
    "03f199343b5e4a01904e802fcc7a83d5": {
     "views": [
      {
       "cell_index": 130
      }
     ]
    },
    "054d9eb4122646949f4d471732ae9038": {
     "views": [
      {
       "cell_index": 118
      }
     ]
    },
    "05d8873785c24113b750e5d02340e3da": {
     "views": [
      {
       "cell_index": 130
      }
     ]
    },
    "06b8499098114520bf19bc8dd3737baa": {
     "views": [
      {
       "cell_index": 127
      }
     ]
    },
    "071fdb47a7aa4097b5ceeeb9191286eb": {
     "views": [
      {
       "cell_index": 99
      }
     ]
    },
    "07f79a7455f7494c8e70bcc166387ed1": {
     "views": [
      {
       "cell_index": 69
      }
     ]
    },
    "088ec46dd6ad49c6a8e5c24410616ce0": {
     "views": [
      {
       "cell_index": 69
      }
     ]
    },
    "0a57efdc0576422aa561574c11142b31": {
     "views": [
      {
       "cell_index": 130
      }
     ]
    },
    "0ab26776efec4f35baeae216e17ed1d6": {
     "views": [
      {
       "cell_index": 99
      }
     ]
    },
    "0bc6a472da074fe7aa4045c326edad0e": {
     "views": [
      {
       "cell_index": 102
      }
     ]
    },
    "0c493563f39e45acafe3590f95e74ec2": {
     "views": [
      {
       "cell_index": 128
      }
     ]
    },
    "0dae2d7fa26c45098fca03f1bd402985": {
     "views": [
      {
       "cell_index": 69
      }
     ]
    },
    "0f2b770ea6f347bdbd8ec917f30a3f72": {
     "views": [
      {
       "cell_index": 121
      }
     ]
    },
    "101190038cde4a7fa39486411fb23950": {
     "views": [
      {
       "cell_index": 113
      }
     ]
    },
    "12e57c35b8cb4ddb80c5d7a569a9b3d6": {
     "views": [
      {
       "cell_index": 124
      }
     ]
    },
    "12efbb797fda48c193fd761d54eaafc1": {
     "views": [
      {
       "cell_index": 69
      }
     ]
    },
    "1665b9f1c7eb4c238ea1c7706432dd0e": {
     "views": [
      {
       "cell_index": 121
      }
     ]
    },
    "1780a243ce554edabd2f6d32f35bbb10": {
     "views": [
      {
       "cell_index": 102
      }
     ]
    },
    "1b4c0a5e91304060889fc219facfda7f": {
     "views": [
      {
       "cell_index": 85
      }
     ]
    },
    "1b87b76ca3c04a3faa75d6623d428bfe": {
     "views": [
      {
       "cell_index": 99
      }
     ]
    },
    "1bb8826d762d4485929e4041cccca72f": {
     "views": [
      {
       "cell_index": 118
      }
     ]
    },
    "1bc174322afb44e4829dadb850517bf8": {
     "views": [
      {
       "cell_index": 69
      }
     ]
    },
    "1c601c62614c495397c8938834c01f7b": {
     "views": [
      {
       "cell_index": 69
      }
     ]
    },
    "1d818ef0b0974085ac7262b5fef7538c": {
     "views": [
      {
       "cell_index": 105
      }
     ]
    },
    "1e3a8011793d49158a67ed5a24217845": {
     "views": [
      {
       "cell_index": 124
      }
     ]
    },
    "20ff15620480416cb3082749ba8d958e": {
     "views": [
      {
       "cell_index": 128
      }
     ]
    },
    "21509260f46f4a07b0fcb50cfb475b88": {
     "views": [
      {
       "cell_index": 69
      }
     ]
    },
    "215ec44a7a55464aa103a049550be87f": {
     "views": [
      {
       "cell_index": 124
      }
     ]
    },
    "2178fb78697b44e2b71fe14e9b97d2f9": {
     "views": [
      {
       "cell_index": 99
      }
     ]
    },
    "21cb418fd60445ecad1912972c825912": {
     "views": [
      {
       "cell_index": 85
      }
     ]
    },
    "2207b66256ec405f83b5d2b191584432": {
     "views": [
      {
       "cell_index": 69
      }
     ]
    },
    "2521511de73b4e03a3a8ea9e23ba775c": {
     "views": [
      {
       "cell_index": 105
      }
     ]
    },
    "254eb7dd8b7c4c4c9e8f1295a532cb1c": {
     "views": [
      {
       "cell_index": 69
      }
     ]
    },
    "256c94cd97d94cd0b5d968ce3b744396": {
     "views": [
      {
       "cell_index": 83
      }
     ]
    },
    "2587dc224a1f4385a2c5f82459a32b86": {
     "views": [
      {
       "cell_index": 85
      }
     ]
    },
    "25f6f55c9a654fa0830d59215e565ee5": {
     "views": [
      {
       "cell_index": 69
      }
     ]
    },
    "279188dc3e124a5d88c1863df377ea33": {
     "views": [
      {
       "cell_index": 69
      }
     ]
    },
    "280b9ea95c284163b98671912aa9f85b": {
     "views": [
      {
       "cell_index": 69
      }
     ]
    },
    "2825a128b9de4338b77ad694a3c159fb": {
     "views": [
      {
       "cell_index": 69
      }
     ]
    },
    "2841de934ff6447d87413bc771934f6d": {
     "views": [
      {
       "cell_index": 113
      }
     ]
    },
    "2a083ba2fc6e44ad837b05a2990e60b5": {
     "views": [
      {
       "cell_index": 69
      }
     ]
    },
    "2b5e4e02c3364e0c845df99122dd798d": {
     "views": [
      {
       "cell_index": 123
      }
     ]
    },
    "2be46071530e4ea4862c2bde79622ede": {
     "views": [
      {
       "cell_index": 113
      }
     ]
    },
    "2e0e00098f794fa487e91bd0e9585e4f": {
     "views": [
      {
       "cell_index": 69
      }
     ]
    },
    "2ea72c0d00ba4e66937460aa67153bfc": {
     "views": [
      {
       "cell_index": 128
      }
     ]
    },
    "2f6163cee02347aaa6f1b83b8542b936": {
     "views": [
      {
       "cell_index": 102
      }
     ]
    },
    "2fa48f7d23f04372b4326b4516f3018b": {
     "views": [
      {
       "cell_index": 102
      }
     ]
    },
    "32625c76950a4d9b862dd4a8e5a95d1c": {
     "views": [
      {
       "cell_index": 85
      }
     ]
    },
    "3303f7b3a0c646208c722019ac4d109e": {
     "views": [
      {
       "cell_index": 118
      }
     ]
    },
    "3455d928d72c4ef780857e1ddecb73ac": {
     "views": [
      {
       "cell_index": 69
      }
     ]
    },
    "34e102e2ed094794b8955bd48dd92c9e": {
     "views": [
      {
       "cell_index": 112
      }
     ]
    },
    "352e3a09ce944c118c8ce4a84734ab51": {
     "views": [
      {
       "cell_index": 128
      }
     ]
    },
    "35d735c21df7443fb8236333226da5bb": {
     "views": [
      {
       "cell_index": 124
      }
     ]
    },
    "35ff6232fb29414fbf9e17e33f1710b5": {
     "views": [
      {
       "cell_index": 69
      }
     ]
    },
    "3794f1fba8604d72b9b8f2ba2f0d49c8": {
     "views": [
      {
       "cell_index": 69
      }
     ]
    },
    "385cb1ffa36846ebb65fd1848ffed8ef": {
     "views": [
      {
       "cell_index": 117
      }
     ]
    },
    "38a348542dac4a0487efc0e8479f9cb4": {
     "views": [
      {
       "cell_index": 112
      }
     ]
    },
    "38b3e2ac4dc149d7855c95a9a74fe658": {
     "views": [
      {
       "cell_index": 83
      }
     ]
    },
    "38e6b10a0fce484d8dbab23064fe6196": {
     "views": [
      {
       "cell_index": 69
      }
     ]
    },
    "38f3f560605c44d4b10c5e2cdbe83786": {
     "views": [
      {
       "cell_index": 83
      }
     ]
    },
    "391ae9aaca444431919fed582b072c6d": {
     "views": [
      {
       "cell_index": 69
      }
     ]
    },
    "396949e5e7214e05a82ee838fd961a76": {
     "views": [
      {
       "cell_index": 128
      }
     ]
    },
    "3ac4b193c79940c4a879b2b425ce531b": {
     "views": [
      {
       "cell_index": 69
      }
     ]
    },
    "3c3e2df0b5384a779d35047585aa7e0a": {
     "views": [
      {
       "cell_index": 112
      }
     ]
    },
    "3d01cdcbd7fe463e86972a3ce0bd7677": {
     "views": [
      {
       "cell_index": 112
      }
     ]
    },
    "3f4260496e6e43f0979a86ac97ca085f": {
     "views": [
      {
       "cell_index": 112
      }
     ]
    },
    "3fa4b0daaef84542be06e9b1435acbea": {
     "views": [
      {
       "cell_index": 124
      }
     ]
    },
    "3feb01ce6a944d718f28bb7da1df417b": {
     "views": [
      {
       "cell_index": 117
      }
     ]
    },
    "410f7bac2c2e4573be14112bdcf82002": {
     "views": [
      {
       "cell_index": 121
      }
     ]
    },
    "41e10fb563a24160bb31fcc583f46835": {
     "views": [
      {
       "cell_index": 102
      }
     ]
    },
    "43b8e8edabe3471da4f4056354774b23": {
     "views": [
      {
       "cell_index": 128
      }
     ]
    },
    "452c2e2de00947dc81767f28d335df62": {
     "views": [
      {
       "cell_index": 81
      }
     ]
    },
    "46e429d252bd4fac859f158953cabf5b": {
     "views": [
      {
       "cell_index": 102
      }
     ]
    },
    "48740c8e365a4a15aae94a792b8b7002": {
     "views": [
      {
       "cell_index": 130
      }
     ]
    },
    "4a6430a800b14acda95c0938e79ae763": {
     "views": [
      {
       "cell_index": 69
      }
     ]
    },
    "4aefe8988c7e47499ffc4b5e381c02b4": {
     "views": [
      {
       "cell_index": 69
      }
     ]
    },
    "4bc9e185008b4c0ea8ef42a72d77d61c": {
     "views": [
      {
       "cell_index": 118
      }
     ]
    },
    "4c5d07ce5c6548b09ddfc59cdbcca485": {
     "views": [
      {
       "cell_index": 83
      }
     ]
    },
    "4ce0b11f2cfa446dbd5d1f14d63a8c12": {
     "views": [
      {
       "cell_index": 99
      }
     ]
    },
    "4d21b05e6b284488953b2460fe4fb203": {
     "views": [
      {
       "cell_index": 113
      }
     ]
    },
    "4da1bfc7ed694ed682c7da5f65151dc4": {
     "views": [
      {
       "cell_index": 85
      }
     ]
    },
    "4e83b34310f94539bf3fb770c9f99409": {
     "views": [
      {
       "cell_index": 128
      }
     ]
    },
    "4ea06c0555864cd4a82c8bbc302cb0b9": {
     "views": [
      {
       "cell_index": 113
      }
     ]
    },
    "4ece9a6c326b4397a645052ff5436b28": {
     "views": [
      {
       "cell_index": 69
      }
     ]
    },
    "4f5b6a444f8e4d4d8836754114975231": {
     "views": [
      {
       "cell_index": 102
      }
     ]
    },
    "4fe8d61cf19c450a8949fb446f18918b": {
     "views": [
      {
       "cell_index": 128
      }
     ]
    },
    "5031620e372a43dd9c5d736051a16abb": {
     "views": [
      {
       "cell_index": 124
      }
     ]
    },
    "50b4bc97c4f846df9cfb7a87a76048a8": {
     "views": [
      {
       "cell_index": 69
      }
     ]
    },
    "511a68874aa846c397a3f2f431254287": {
     "views": [
      {
       "cell_index": 105
      }
     ]
    },
    "513e22bd8767446099311ad8ff867675": {
     "views": [
      {
       "cell_index": 117
      }
     ]
    },
    "51fe70004d604055991ec921a2c01796": {
     "views": [
      {
       "cell_index": 113
      }
     ]
    },
    "553d947993ca406a812d4db59c15dcad": {
     "views": [
      {
       "cell_index": 81
      }
     ]
    },
    "55c3549e36ff40d980ecc33d76342170": {
     "views": [
      {
       "cell_index": 105
      }
     ]
    },
    "57056358d18c4579a32c69475d16019b": {
     "views": [
      {
       "cell_index": 69
      }
     ]
    },
    "577c3bf78e40444aa134b742cf323108": {
     "views": [
      {
       "cell_index": 119
      }
     ]
    },
    "5bc2733c30104c7492ece0004fdeb705": {
     "views": [
      {
       "cell_index": 69
      }
     ]
    },
    "5cc05a70638b4f408b0cc45009a5f58a": {
     "views": [
      {
       "cell_index": 128
      }
     ]
    },
    "5e08a7bebd9c4fd29ee4beeb4dec825d": {
     "views": [
      {
       "cell_index": 69
      }
     ]
    },
    "5e8b607d6217465fb77910223cd32280": {
     "views": [
      {
       "cell_index": 118
      }
     ]
    },
    "5e8db1dd6fa84a8891e159b24efbc0f9": {
     "views": [
      {
       "cell_index": 117
      }
     ]
    },
    "60e1ec701c9140dba4cf4775875e941a": {
     "views": [
      {
       "cell_index": 69
      }
     ]
    },
    "60ec9e95c1384bf6a15b6c9be503490e": {
     "views": [
      {
       "cell_index": 128
      }
     ]
    },
    "6139314c7a3f4bea981b69fb0a980be5": {
     "views": [
      {
       "cell_index": 113
      }
     ]
    },
    "623c9262abb4421f84ec0f9ac4f5913b": {
     "views": [
      {
       "cell_index": 121
      }
     ]
    },
    "62d95e2fdf4e44e7abb7f843395d0313": {
     "views": [
      {
       "cell_index": 87
      }
     ]
    },
    "6309ce2c7e044fb3a2feb288919e50f0": {
     "views": [
      {
       "cell_index": 69
      }
     ]
    },
    "63a7e401871d4fdaa37d560823791f91": {
     "views": [
      {
       "cell_index": 85
      }
     ]
    },
    "63e00e151148469ba68e7012150aacd5": {
     "views": [
      {
       "cell_index": 69
      }
     ]
    },
    "64041a7951d44d21ab9382d31bd7cc7d": {
     "views": [
      {
       "cell_index": 69
      }
     ]
    },
    "6548fc08e51f48ad85e87ef24ad24dfd": {
     "views": [
      {
       "cell_index": 69
      }
     ]
    },
    "6614278018ea40698942a4185a32203d": {
     "views": [
      {
       "cell_index": 69
      }
     ]
    },
    "66a55b8de1a64bc987b01fdf447b8c67": {
     "views": [
      {
       "cell_index": 87
      }
     ]
    },
    "67311e0f1dc04b5e9aa307ec5a4d194d": {
     "views": [
      {
       "cell_index": 123
      }
     ]
    },
    "673e707da98b4ae0ae30e4451d32f421": {
     "views": [
      {
       "cell_index": 87
      }
     ]
    },
    "69a2032734ac4247b19230a002238941": {
     "views": [
      {
       "cell_index": 112
      }
     ]
    },
    "6a28bd52c745447fb6aa85351492cdcb": {
     "views": [
      {
       "cell_index": 81
      }
     ]
    },
    "6a755d66b0b4470baf8800140bdcc3c6": {
     "views": [
      {
       "cell_index": 102
      }
     ]
    },
    "6cc0d9eade3348569839952313ad9d5f": {
     "views": [
      {
       "cell_index": 124
      }
     ]
    },
    "6d3ba07451b048289fd9dcc22dbe4621": {
     "views": [
      {
       "cell_index": 118
      }
     ]
    },
    "6d66c2e4ae7a4f2c9ca3cf5cddf52336": {
     "views": [
      {
       "cell_index": 69
      }
     ]
    },
    "6f541c21a60b4e76ab9fc91c056ff4dd": {
     "views": [
      {
       "cell_index": 69
      }
     ]
    },
    "6fe9d1aa7f944aaca23590c93a92698f": {
     "views": [
      {
       "cell_index": 113
      }
     ]
    },
    "70425ccc055b49ecb6b7228f04afbd07": {
     "views": [
      {
       "cell_index": 83
      }
     ]
    },
    "7141b662a1114e1ca1fa1ea422bd60d5": {
     "views": [
      {
       "cell_index": 112
      }
     ]
    },
    "718ebf60164a4b82a77b1254011bc153": {
     "views": [
      {
       "cell_index": 130
      }
     ]
    },
    "71aa438d5b4c49cab9bddf76444fe91c": {
     "views": [
      {
       "cell_index": 69
      }
     ]
    },
    "720efff37cfc4c36a6f8e321a8ecd259": {
     "views": [
      {
       "cell_index": 69
      }
     ]
    },
    "743c9f0fbcc348a3ba96fc8e81b2b849": {
     "views": [
      {
       "cell_index": 69
      }
     ]
    },
    "74b61a59c7474c0e8fb05651cf22cc3e": {
     "views": [
      {
       "cell_index": 69
      }
     ]
    },
    "75c4b562e2234c1fb24323d69c261acf": {
     "views": [
      {
       "cell_index": 81
      }
     ]
    },
    "7721c9e30939446186a0d05916d61d9b": {
     "views": [
      {
       "cell_index": 69
      }
     ]
    },
    "77a0e73d5d2248aeb18bd681a5448f2b": {
     "views": [
      {
       "cell_index": 105
      }
     ]
    },
    "782ebfaac68c4a6e80dff08b2eeabac4": {
     "views": [
      {
       "cell_index": 118
      }
     ]
    },
    "78c026c1747748b3adf90eb756c0e654": {
     "views": [
      {
       "cell_index": 105
      }
     ]
    },
    "79339b43c0074e298563826f47911765": {
     "views": [
      {
       "cell_index": 69
      }
     ]
    },
    "79ae57426924451ea4dba8f66e7aea52": {
     "views": [
      {
       "cell_index": 105
      }
     ]
    },
    "7a1386a72d8143f488e7127aac5d8646": {
     "views": [
      {
       "cell_index": 112
      }
     ]
    },
    "7acc3c79b2d84716a97e77240286575a": {
     "views": [
      {
       "cell_index": 69
      }
     ]
    },
    "7bbe6fb88d9e4f52a8711882fa3cd82e": {
     "views": [
      {
       "cell_index": 105
      }
     ]
    },
    "7bc8001696354b549d25649f0a164504": {
     "views": [
      {
       "cell_index": 121
      }
     ]
    },
    "7beddce58642433cbfa4866333ac34ea": {
     "views": [
      {
       "cell_index": 123
      }
     ]
    },
    "7c509581bbc14879a06315fc3b511154": {
     "views": [
      {
       "cell_index": 99
      }
     ]
    },
    "7cb8950c117448a9964860d492e4ded5": {
     "views": [
      {
       "cell_index": 69
      }
     ]
    },
    "7ceceab0174e4ffdaca9e985beb113fa": {
     "views": [
      {
       "cell_index": 130
      }
     ]
    },
    "7d28b6daec33409e8998327f6a0c1bb9": {
     "views": [
      {
       "cell_index": 118
      }
     ]
    },
    "7d9f93ea7616453ea388e9aa061251a2": {
     "views": [
      {
       "cell_index": 69
      }
     ]
    },
    "7ddb654636f8458d9037b2c2e96ec0cf": {
     "views": [
      {
       "cell_index": 119
      }
     ]
    },
    "7de23bd927af46beaccea04851e48324": {
     "views": [
      {
       "cell_index": 69
      }
     ]
    },
    "7defce6f710c4c2786e1516d67c33a5b": {
     "views": [
      {
       "cell_index": 69
      }
     ]
    },
    "7e25d048525248d892c5fa1711017cf0": {
     "views": [
      {
       "cell_index": 69
      }
     ]
    },
    "7e46c0fbdcf240b58eca9bf6e4e62876": {
     "views": [
      {
       "cell_index": 130
      }
     ]
    },
    "7eb71e52da6747618b16a2a983a2331a": {
     "views": [
      {
       "cell_index": 128
      }
     ]
    },
    "7efbc217bd424caebd3a729af28003fe": {
     "views": [
      {
       "cell_index": 105
      }
     ]
    },
    "81addaf499714e88b07a0aaef332d5f6": {
     "views": [
      {
       "cell_index": 117
      }
     ]
    },
    "81c4ab71599044a89c1145363906f417": {
     "views": [
      {
       "cell_index": 99
      }
     ]
    },
    "823af40669d448dea8f48910353b72f4": {
     "views": [
      {
       "cell_index": 124
      }
     ]
    },
    "84444b47a5614108ae5470086b33e774": {
     "views": [
      {
       "cell_index": 118
      }
     ]
    },
    "8555ab41428541909705f3baee9b67c8": {
     "views": [
      {
       "cell_index": 124
      }
     ]
    },
    "858b567f714642a78f77bb5ef83dfa8f": {
     "views": [
      {
       "cell_index": 102
      }
     ]
    },
    "87e45f03f9cf4afcb7682783e322e18a": {
     "views": [
      {
       "cell_index": 69
      }
     ]
    },
    "880d3b6c27984681b402f6430dc9ad07": {
     "views": [
      {
       "cell_index": 69
      }
     ]
    },
    "8879430152354107a8466756e2001860": {
     "views": [
      {
       "cell_index": 69
      }
     ]
    },
    "89b3ce3a06944141ac893602a5604838": {
     "views": [
      {
       "cell_index": 69
      }
     ]
    },
    "89defdbe3f9444c4a28ec9618a094331": {
     "views": [
      {
       "cell_index": 113
      }
     ]
    },
    "8a3deef9f82e4097ba940775b90d79d6": {
     "views": [
      {
       "cell_index": 83
      }
     ]
    },
    "8b452e2b97a94d1a97bd986d79bf6d06": {
     "views": [
      {
       "cell_index": 69
      }
     ]
    },
    "8b9dc79b1051448a9f6421d9f9947896": {
     "views": [
      {
       "cell_index": 123
      }
     ]
    },
    "8dc98821a4fd4228b5b043929a00adc8": {
     "views": [
      {
       "cell_index": 69
      }
     ]
    },
    "8dc9c518f6cb44e6a36c5eeb88f68f98": {
     "views": [
      {
       "cell_index": 105
      }
     ]
    },
    "8f289833667d4311a81b930016ca63c4": {
     "views": [
      {
       "cell_index": 87
      }
     ]
    },
    "8f34c5c3d9d4409bb4146bea2997845c": {
     "views": [
      {
       "cell_index": 69
      }
     ]
    },
    "8f420e6c48b9411bace96e716d036fae": {
     "views": [
      {
       "cell_index": 99
      }
     ]
    },
    "8f45e1f58dcd448387b30e03ef23d3d5": {
     "views": [
      {
       "cell_index": 112
      }
     ]
    },
    "8f4e4e0236ec4c4fb0889578b9b31fcd": {
     "views": [
      {
       "cell_index": 69
      }
     ]
    },
    "90f55c041dcc4f68910ca4c46f571df8": {
     "views": [
      {
       "cell_index": 85
      }
     ]
    },
    "91f7fb0ffa9e45a295a83122ecc0a7a7": {
     "views": [
      {
       "cell_index": 130
      }
     ]
    },
    "92c107021f934782ac38cc8b8f2603d6": {
     "views": [
      {
       "cell_index": 87
      }
     ]
    },
    "9363fe586d1e472191c8b26746ce39ae": {
     "views": [
      {
       "cell_index": 118
      }
     ]
    },
    "936d223c7cc54a40a1f11bc31379db53": {
     "views": [
      {
       "cell_index": 81
      }
     ]
    },
    "93fb709f6d8c44318b3eed51b4bd8242": {
     "views": [
      {
       "cell_index": 124
      }
     ]
    },
    "949a1e3410284581b0f15f1795ce4f2c": {
     "views": [
      {
       "cell_index": 128
      }
     ]
    },
    "958f7a3e437849249401ec219140ab4c": {
     "views": [
      {
       "cell_index": 118
      }
     ]
    },
    "9694afc7a3d14374b280db30d85d6533": {
     "views": [
      {
       "cell_index": 85
      }
     ]
    },
    "974e0f0c27ec493da054c8a452eaa3cd": {
     "views": [
      {
       "cell_index": 69
      }
     ]
    },
    "978c698c05ef429d9e4cd61029bf1646": {
     "views": [
      {
       "cell_index": 112
      }
     ]
    },
    "97c79e4b42dd4b3ab2cf87efe5a07e40": {
     "views": [
      {
       "cell_index": 112
      }
     ]
    },
    "9841cc2113ca4bc3a50498d36d14f361": {
     "views": [
      {
       "cell_index": 69
      }
     ]
    },
    "98557904b8c644ddb10589808c1c378e": {
     "views": [
      {
       "cell_index": 81
      }
     ]
    },
    "985664cdc615489dbfe9f7e37f24f2ae": {
     "views": [
      {
       "cell_index": 126
      }
     ]
    },
    "98bd428a4ccf45dd85e70e5ced8a1b69": {
     "views": [
      {
       "cell_index": 69
      }
     ]
    },
    "98f1b74ba2564a3ebc293aaed1b31526": {
     "views": [
      {
       "cell_index": 99
      }
     ]
    },
    "99e8e8843dcb4fdb88026ddf30716a6d": {
     "views": [
      {
       "cell_index": 83
      }
     ]
    },
    "9a0e666801304c7c969906a524e6a9f6": {
     "views": [
      {
       "cell_index": 87
      }
     ]
    },
    "9a422710f5b24941970bd868de3fac37": {
     "views": [
      {
       "cell_index": 69
      }
     ]
    },
    "9a4364f195124fd3a355b28f3a9f0e56": {
     "views": [
      {
       "cell_index": 128
      }
     ]
    },
    "9ac447c811e14235b414110a08989fec": {
     "views": [
      {
       "cell_index": 81
      }
     ]
    },
    "9bd42501b84a403c9fa01ecb2280dbc7": {
     "views": [
      {
       "cell_index": 69
      }
     ]
    },
    "9bed8f9ddb314f3981f7845937734ab9": {
     "views": [
      {
       "cell_index": 87
      }
     ]
    },
    "9ccceb976f4d40dab4123c2e58b4c398": {
     "views": [
      {
       "cell_index": 126
      }
     ]
    },
    "9da5764cb7c343b1a82f3596d08b19d0": {
     "views": [
      {
       "cell_index": 124
      }
     ]
    },
    "9e131261a3f1456a9eb8cf382a881139": {
     "views": [
      {
       "cell_index": 85
      }
     ]
    },
    "9f0923526ce24d91ab217374b1043a87": {
     "views": [
      {
       "cell_index": 83
      }
     ]
    },
    "9f0df2ce5a444902bcebea249e508ea0": {
     "views": [
      {
       "cell_index": 99
      }
     ]
    },
    "9f1e9e57aca54bf69f974d5bd3b40030": {
     "views": [
      {
       "cell_index": 81
      }
     ]
    },
    "a267060fac9040cc9937404d9f569380": {
     "views": [
      {
       "cell_index": 112
      }
     ]
    },
    "a2d1292cd9e4423d96b501b0f1138b03": {
     "views": [
      {
       "cell_index": 69
      }
     ]
    },
    "a317f7c2948249378d115915e8f69eaf": {
     "views": [
      {
       "cell_index": 81
      }
     ]
    },
    "a32d4690028a4bc3be63be32bffb2954": {
     "views": [
      {
       "cell_index": 124
      }
     ]
    },
    "a335330db7214302ba9cd94d79b4df41": {
     "views": [
      {
       "cell_index": 112
      }
     ]
    },
    "a3b36ac048d045a8a2269cbe97f6ca3a": {
     "views": [
      {
       "cell_index": 81
      }
     ]
    },
    "a3d35c95ba7e42c38cccee326db9802f": {
     "views": [
      {
       "cell_index": 126
      }
     ]
    },
    "a3ea2678e09e4a3ca971c73c5c49de87": {
     "views": [
      {
       "cell_index": 69
      }
     ]
    },
    "a41c1fc5a31741faacebffbec7734101": {
     "views": [
      {
       "cell_index": 118
      }
     ]
    },
    "a4e1351b382d4f61b31275e8fb473e0a": {
     "views": [
      {
       "cell_index": 69
      }
     ]
    },
    "a65badbfad5947d8b2e38a315ef6bb97": {
     "views": [
      {
       "cell_index": 105
      }
     ]
    },
    "a709df4162184e80b41a747157fa31f7": {
     "views": [
      {
       "cell_index": 69
      }
     ]
    },
    "a9fe52727fe7433bb9968ad34afde229": {
     "views": [
      {
       "cell_index": 130
      }
     ]
    },
    "ab69236011ae4febbe64b11e68a5ffd6": {
     "views": [
      {
       "cell_index": 112
      }
     ]
    },
    "ac7948d50b424654a09aed50c68b004a": {
     "views": [
      {
       "cell_index": 126
      }
     ]
    },
    "ac7e22b52ca14d7d9437ff13601085d3": {
     "views": [
      {
       "cell_index": 118
      }
     ]
    },
    "aca1a979b5524a8b94d3060421206974": {
     "views": [
      {
       "cell_index": 99
      }
     ]
    },
    "acec272fbb7747858ef378ad184f7a7e": {
     "views": [
      {
       "cell_index": 69
      }
     ]
    },
    "ae2f27eea43a44c4ab212064a63e166d": {
     "views": [
      {
       "cell_index": 81
      }
     ]
    },
    "aec814b6e0cf4a2288cb7dea6b216937": {
     "views": [
      {
       "cell_index": 85
      }
     ]
    },
    "af05e22782e74c61aed7b5bfac6a0b75": {
     "views": [
      {
       "cell_index": 112
      }
     ]
    },
    "af140a8f7a2c4184b58d9ad458f4fabf": {
     "views": [
      {
       "cell_index": 118
      }
     ]
    },
    "af1e5c29de194aedb5bb360c4e59cc4a": {
     "views": [
      {
       "cell_index": 69
      }
     ]
    },
    "af74b67fb17d4e82a59f53b4a185d1d2": {
     "views": [
      {
       "cell_index": 85
      }
     ]
    },
    "af7d2d9b53cf446797977e4cfb3d52a0": {
     "views": [
      {
       "cell_index": 69
      }
     ]
    },
    "afa6a2057ad043a5bb11816468290326": {
     "views": [
      {
       "cell_index": 102
      }
     ]
    },
    "b10ae4f7b9d74203b0459435ed8975f2": {
     "views": [
      {
       "cell_index": 69
      }
     ]
    },
    "b133294775874a008e784a50f2679e78": {
     "views": [
      {
       "cell_index": 112
      }
     ]
    },
    "b28ae61688aa4b26a245f8db1b188ec8": {
     "views": [
      {
       "cell_index": 99
      }
     ]
    },
    "b48d1909317446fba4b716b0ff39c96e": {
     "views": [
      {
       "cell_index": 118
      }
     ]
    },
    "b4bc965b25174fd88035b7c7905e9885": {
     "views": [
      {
       "cell_index": 69
      }
     ]
    },
    "b5e446ca67284b18907b9db99a3b6671": {
     "views": [
      {
       "cell_index": 87
      }
     ]
    },
    "b71391a3259e4f12bf19580663a804f6": {
     "views": [
      {
       "cell_index": 113
      }
     ]
    },
    "b73cff5a3a0c4978849e869eea448085": {
     "views": [
      {
       "cell_index": 112
      }
     ]
    },
    "ba11b6fc5e9c455ca69544aa06b334a0": {
     "views": [
      {
       "cell_index": 85
      }
     ]
    },
    "bd1834e34b9d48ed891b3965a8bdb8fa": {
     "views": [
      {
       "cell_index": 69
      }
     ]
    },
    "bd78af650f0e4ebdad4e4736854aa4f8": {
     "views": [
      {
       "cell_index": 127
      }
     ]
    },
    "bdf5148d0dbf408caabbb83b9e5e108b": {
     "views": [
      {
       "cell_index": 121
      }
     ]
    },
    "be42d40ae21e428f868ff642c84c9a9e": {
     "views": [
      {
       "cell_index": 69
      }
     ]
    },
    "beca91862a3f4f2583fef2341b038e7d": {
     "views": [
      {
       "cell_index": 102
      }
     ]
    },
    "befb439b70684e6999e9b3c9cf70b692": {
     "views": [
      {
       "cell_index": 112
      }
     ]
    },
    "c033c340770a462186dacfcede1a6974": {
     "views": [
      {
       "cell_index": 69
      }
     ]
    },
    "c0a1bb1f6c714c07b101d69eb37da899": {
     "views": [
      {
       "cell_index": 118
      }
     ]
    },
    "c21d2b9f81584c1fb1c95f3be5ba043c": {
     "views": [
      {
       "cell_index": 117
      }
     ]
    },
    "c3e9d6e361e84e2e84ca77d753a521fa": {
     "views": [
      {
       "cell_index": 113
      }
     ]
    },
    "c4ad76aafae44e2fbbb2f2051e352560": {
     "views": [
      {
       "cell_index": 121
      }
     ]
    },
    "c536584da7b643eda7974bef3f47e34e": {
     "views": [
      {
       "cell_index": 112
      }
     ]
    },
    "c67fed7ccb834c29bc1f609b12260a53": {
     "views": [
      {
       "cell_index": 124
      }
     ]
    },
    "c6b956e918c14d13a6123e891be2f2a7": {
     "views": [
      {
       "cell_index": 69
      }
     ]
    },
    "c6f7d8eea4ad4bf0bc5141bb9dafdd1b": {
     "views": [
      {
       "cell_index": 130
      }
     ]
    },
    "c85229c21bea449ca6d27d057778cbe4": {
     "views": [
      {
       "cell_index": 69
      }
     ]
    },
    "c8b9bc68df4c40f99c008b324646ce5b": {
     "views": [
      {
       "cell_index": 112
      }
     ]
    },
    "c961f7bf4a874a00bef3b935d603e222": {
     "views": [
      {
       "cell_index": 83
      }
     ]
    },
    "c9911357880d42c0b45db135d8f86564": {
     "views": [
      {
       "cell_index": 69
      }
     ]
    },
    "c9de2249ae1d41ec8fbf547c296b8264": {
     "views": [
      {
       "cell_index": 69
      }
     ]
    },
    "cb7a083a04154771abfe8505ee30d386": {
     "views": [
      {
       "cell_index": 130
      }
     ]
    },
    "cb9c004160194869bd83cf9431472edf": {
     "views": [
      {
       "cell_index": 69
      }
     ]
    },
    "cce59072c1494b28b55f687392357fbe": {
     "views": [
      {
       "cell_index": 85
      }
     ]
    },
    "cd1d8390edff464d889eebb296d2be03": {
     "views": [
      {
       "cell_index": 105
      }
     ]
    },
    "cd46c1b828f647bcbc67974777d5ebf4": {
     "views": [
      {
       "cell_index": 119
      }
     ]
    },
    "cdf36990e1354bfcb3218c5f8312ea4d": {
     "views": [
      {
       "cell_index": 118
      }
     ]
    },
    "ce08f7bca87b467792656b3568a0880e": {
     "views": [
      {
       "cell_index": 69
      }
     ]
    },
    "ce1ffbb96cd94b08846fc1d741b65531": {
     "views": [
      {
       "cell_index": 85
      }
     ]
    },
    "ce24b08ab529450485cefa2b20906144": {
     "views": [
      {
       "cell_index": 113
      }
     ]
    },
    "cee4f26f30a54af38cb02a030b6da8aa": {
     "views": [
      {
       "cell_index": 83
      }
     ]
    },
    "cf05df1e4b7f4195b87535bde0dff8f6": {
     "views": [
      {
       "cell_index": 69
      }
     ]
    },
    "d0573ca598f545d7bb0ac5453419d92a": {
     "views": [
      {
       "cell_index": 130
      }
     ]
    },
    "d05b1fca216e4dc0a3e5a68a4978991d": {
     "views": [
      {
       "cell_index": 102
      }
     ]
    },
    "d0c53f2b4f264122a0f8b15db67733bd": {
     "views": [
      {
       "cell_index": 121
      }
     ]
    },
    "d12241b218894081a31b7ecf54e33a24": {
     "views": [
      {
       "cell_index": 69
      }
     ]
    },
    "d145adee75c743618d0cdc1627ea2c6c": {
     "views": [
      {
       "cell_index": 124
      }
     ]
    },
    "d1c7f60cd89446219eece9e51ab90203": {
     "views": [
      {
       "cell_index": 69
      }
     ]
    },
    "d1ce31b9b6744c6da6b9f4482d09db61": {
     "views": [
      {
       "cell_index": 121
      }
     ]
    },
    "d1f92dc5a87444c0a658f8fd60104cd2": {
     "views": [
      {
       "cell_index": 69
      }
     ]
    },
    "d24f6e2f53344c438f003a33dedab097": {
     "views": [
      {
       "cell_index": 69
      }
     ]
    },
    "d29160ca43e3475d93dd5b7e2cf3130a": {
     "views": [
      {
       "cell_index": 113
      }
     ]
    },
    "d2a186f0e4114ebebd825aaf3cd0b256": {
     "views": [
      {
       "cell_index": 69
      }
     ]
    },
    "d2cd49c36e294064af5ceec6da559c14": {
     "views": [
      {
       "cell_index": 83
      }
     ]
    },
    "d49a621848564708abdd5958445a41ab": {
     "views": [
      {
       "cell_index": 128
      }
     ]
    },
    "d4ea0094cdb747958f78a2da668246d7": {
     "views": [
      {
       "cell_index": 69
      }
     ]
    },
    "d6bb197d56ad4f17b5f01309f4b8a6da": {
     "views": [
      {
       "cell_index": 81
      }
     ]
    },
    "d844ef070cf3469d92506f712bc5da41": {
     "views": [
      {
       "cell_index": 102
      }
     ]
    },
    "d93b7e7fb9144c8c8182ec46429ee7e2": {
     "views": [
      {
       "cell_index": 112
      }
     ]
    },
    "da15e9a034f043de9d44780f8d80b641": {
     "views": [
      {
       "cell_index": 69
      }
     ]
    },
    "da2e02b46f314df9af2496b15eedbd52": {
     "views": [
      {
       "cell_index": 81
      }
     ]
    },
    "dad4372c9a824d1c8c4936b26c4c7027": {
     "views": [
      {
       "cell_index": 124
      }
     ]
    },
    "dc43eb1c142e4ba0a4d3bcae4c2c0d22": {
     "views": [
      {
       "cell_index": 69
      }
     ]
    },
    "dc4f3997d31b45159f11c6ac25abb623": {
     "views": [
      {
       "cell_index": 124
      }
     ]
    },
    "dc86a6ad3a2348b5a5c2abdb20ebf720": {
     "views": [
      {
       "cell_index": 69
      }
     ]
    },
    "dd6be375b487465ab934371beea00cff": {
     "views": [
      {
       "cell_index": 87
      }
     ]
    },
    "ddad9dd4847d468f89b1e8e8cbaabbb2": {
     "views": [
      {
       "cell_index": 83
      }
     ]
    },
    "dde951698521408b84e6421196226e16": {
     "views": [
      {
       "cell_index": 69
      }
     ]
    },
    "e032ec2aa4ce45b899beaafee726db28": {
     "views": [
      {
       "cell_index": 124
      }
     ]
    },
    "e0703464751e4f24a4da92affa4387a1": {
     "views": [
      {
       "cell_index": 112
      }
     ]
    },
    "e0e9e1bbf8e644a591b198d36eda169c": {
     "views": [
      {
       "cell_index": 87
      }
     ]
    },
    "e238df22b4af45e8bec19103ba3385f2": {
     "views": [
      {
       "cell_index": 69
      }
     ]
    },
    "e25a4f5ca6a24c18a28217d3d86c8ea8": {
     "views": [
      {
       "cell_index": 69
      }
     ]
    },
    "e3dcfe0fccc84ec38738ebfcd0e72d39": {
     "views": [
      {
       "cell_index": 118
      }
     ]
    },
    "e47fbc38ce304036aac74ada2af07d6e": {
     "views": [
      {
       "cell_index": 124
      }
     ]
    },
    "e56896f2f0ac4e7da9eab86b3e64f979": {
     "views": [
      {
       "cell_index": 128
      }
     ]
    },
    "e79ce2f85f78470e9f0ca9f50d330f1f": {
     "views": [
      {
       "cell_index": 130
      }
     ]
    },
    "e7a80d6aae754a17b8d1d596e3858f7f": {
     "views": [
      {
       "cell_index": 105
      }
     ]
    },
    "ea230a15b9694a31850ab7b46c112ec6": {
     "views": [
      {
       "cell_index": 112
      }
     ]
    },
    "ea234b947e124995ae10869b599fb4df": {
     "views": [
      {
       "cell_index": 83
      }
     ]
    },
    "eba98c19679e480f9e2f353ade91b7ae": {
     "views": [
      {
       "cell_index": 130
      }
     ]
    },
    "ec12d0fc7c0148d89ba9b736b1b54af3": {
     "views": [
      {
       "cell_index": 85
      }
     ]
    },
    "ec4bcfce3e5c4bb4ba8de5ac3b21a711": {
     "views": [
      {
       "cell_index": 102
      }
     ]
    },
    "eccd6d46c5784673bef6d118f7e21d70": {
     "views": [
      {
       "cell_index": 69
      }
     ]
    },
    "ed6d35e72ede4c06ae3a83b3062fd4a3": {
     "views": [
      {
       "cell_index": 99
      }
     ]
    },
    "ed9f6780f1b846238e868fb4c564d5bb": {
     "views": [
      {
       "cell_index": 69
      }
     ]
    },
    "ee8f2daefe9841cfa4833cb6126f803a": {
     "views": [
      {
       "cell_index": 124
      }
     ]
    },
    "ef9ba959f92e4d33b12b34da948e6594": {
     "views": [
      {
       "cell_index": 69
      }
     ]
    },
    "efe458bcceb548118a6c2a576790b55c": {
     "views": [
      {
       "cell_index": 69
      }
     ]
    },
    "eff0db2f71594b6c9a7cecfc91306242": {
     "views": [
      {
       "cell_index": 69
      }
     ]
    },
    "f023c3803ade4f5ba58f6ecc881f044c": {
     "views": [
      {
       "cell_index": 69
      }
     ]
    },
    "f18094db8d4c4536babee02ab8b17ea1": {
     "views": [
      {
       "cell_index": 83
      }
     ]
    },
    "f19a5f4578e8440c964177a1f9a254d2": {
     "views": [
      {
       "cell_index": 99
      }
     ]
    },
    "f2cda2ddd3a24909a2fc07e271ee753c": {
     "views": [
      {
       "cell_index": 69
      }
     ]
    },
    "f53ba438eef341629482cf3bb4620d1b": {
     "views": [
      {
       "cell_index": 69
      }
     ]
    },
    "f675958e24684e299e29150d77ab48ad": {
     "views": [
      {
       "cell_index": 69
      }
     ]
    },
    "f6e35e8473b54f6a9c565401935d23a8": {
     "views": [
      {
       "cell_index": 69
      }
     ]
    },
    "f8de192da15442fbb3dd00b0f23ee6e5": {
     "views": [
      {
       "cell_index": 81
      }
     ]
    },
    "f9740905852049e497ab1ef9989e88a8": {
     "views": [
      {
       "cell_index": 69
      }
     ]
    },
    "f9bc86a605dd4cb48c867c531190a0db": {
     "views": [
      {
       "cell_index": 118
      }
     ]
    },
    "fbfd18f5aecd46aa92f1ba7a400e6d84": {
     "views": [
      {
       "cell_index": 81
      }
     ]
    },
    "fc13de9e47424ddc8137d9ebfcf971df": {
     "views": [
      {
       "cell_index": 83
      }
     ]
    },
    "fcbef628bcb24c909bfe04411efdb906": {
     "views": [
      {
       "cell_index": 128
      }
     ]
    },
    "fd17bf12047942969d4293cedbe30304": {
     "views": [
      {
       "cell_index": 102
      }
     ]
    },
    "fd7d90a3e1154de29cf26e126c6ac2f5": {
     "views": [
      {
       "cell_index": 69
      }
     ]
    },
    "ff7d7ebe472b48c8a50bdd1daa1f138f": {
     "views": [
      {
       "cell_index": 105
      }
     ]
    }
   },
   "version": "1.2.0"
  }
 },
 "nbformat": 4,
 "nbformat_minor": 2
}
