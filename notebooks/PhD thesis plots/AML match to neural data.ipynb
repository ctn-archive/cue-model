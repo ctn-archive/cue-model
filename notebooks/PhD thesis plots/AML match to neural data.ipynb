{
 "cells": [
  {
   "cell_type": "code",
   "execution_count": 1,
   "metadata": {},
   "outputs": [],
   "source": [
    "%matplotlib inline"
   ]
  },
  {
   "cell_type": "code",
   "execution_count": 2,
   "metadata": {},
   "outputs": [],
   "source": [
    "from collections import defaultdict\n",
    "import random"
   ]
  },
  {
   "cell_type": "code",
   "execution_count": 3,
   "metadata": {},
   "outputs": [],
   "source": [
    "import matplotlib.pyplot as plt\n",
    "import nengo_spa as spa\n",
    "from scipy.stats import sem\n",
    "import seaborn as sns\n",
    "import xarray as xr"
   ]
  },
  {
   "cell_type": "code",
   "execution_count": 4,
   "metadata": {},
   "outputs": [],
   "source": [
    "from cue.model.amlearn import AML\n",
    "from cue.aml_rapenc import Protocol, Trial, eval_pop_responses, slice_by_stim\n",
    "from cue.utils.plotting import *"
   ]
  },
  {
   "cell_type": "code",
   "execution_count": 5,
   "metadata": {},
   "outputs": [],
   "source": [
    "style()"
   ]
  },
  {
   "cell_type": "markdown",
   "metadata": {},
   "source": [
    "## Demonstrating rapid encoding by individual neurons"
   ]
  },
  {
   "cell_type": "code",
   "execution_count": 6,
   "metadata": {},
   "outputs": [],
   "source": [
    "cache_file = 'aml_rapenc.npz'\n",
    "try:\n",
    "    data = np.load(cache_file)\n",
    "except FileNotFoundError:\n",
    "    data = defaultdict(list)\n",
    "    for seed in list(range(1)):\n",
    "        protocol = Protocol(seed=seed)\n",
    "        trial = Trial(protocol, seed + 1)\n",
    "        trial.run()\n",
    "        for k, v in eval_pop_responses(protocol, trial).items():\n",
    "            data[k].append(v)\n",
    "    data = {k: xr.concat(v, dim='spikes') for k, v in data.items()}\n",
    "    np.savez(cache_file, **data)"
   ]
  },
  {
   "cell_type": "code",
   "execution_count": 7,
   "metadata": {},
   "outputs": [],
   "source": [
    "def plot_with_sem(data, ax=None, label=None, **kwargs):\n",
    "    if ax is None:\n",
    "        ax = plt.gca()\n",
    "    \n",
    "    dt = 0.05\n",
    "    x = (np.arange(-.75, 1., dt) + dt) * 1e3\n",
    "    m = np.mean(data, axis=1)\n",
    "    s = sem(data, axis=1)\n",
    "    ax.fill_between(x, m - s, m + s, alpha=0.3, **kwargs)\n",
    "    ax.plot(x, m, label=label, **kwargs)"
   ]
  },
  {
   "cell_type": "code",
   "execution_count": 8,
   "metadata": {},
   "outputs": [
    {
     "data": {
      "image/png": "[encoded data removed]",
      "text/plain": [
       "<Figure size 389.102x162.126 with 3 Axes>"
      ]
     },
     "metadata": {},
     "output_type": "display_data"
    }
   ],
   "source": [
    "fig = plt.figure(figsize=(textwidth, row_height))\n",
    "\n",
    "ax1 = fig.add_subplot(1, 3, 1)\n",
    "plot_with_sem(data['p_bl'], ax1, label=\"Before learning\", color='tab:blue')\n",
    "plot_with_sem(data['p_al'], ax1, label=\"After learning\", color='tab:red')\n",
    "ax1.set_title(\"Preferred (P)\")\n",
    "ax1.set_ylabel(\"Normalized population activity\")\n",
    "ax1.set_xlabel(\"Time (ms)\")\n",
    "ax1.legend()\n",
    "\n",
    "ax2 = fig.add_subplot(1, 3, 2, sharex=ax1, sharey=ax1)\n",
    "plot_with_sem(data['np_bl'], ax2, label=\"Before learning\", color='tab:gray')\n",
    "plot_with_sem(data['np_al'], ax2, label=\"After learning\", color='tab:green')\n",
    "ax2.set_title(\"Non-Preferred (NP)\")\n",
    "ax2.set_xlabel(\"Time (ms)\")\n",
    "ax2.legend()\n",
    "\n",
    "ax3 = fig.add_subplot(1, 3, 3, sharex=ax1, sharey=ax1)\n",
    "plot_with_sem(data['na_bl'], ax3, label=\"Before learning\", color='tab:cyan')\n",
    "plot_with_sem(data['na_al'], ax3, label=\"After learning\", color='tab:pink')\n",
    "ax3.set_title(\"Non-Associated (NA)\")\n",
    "ax3.set_xlabel(\"Time (ms)\")\n",
    "ax3.legend()\n",
    "ax3.set_ylim(top=10)\n",
    "\n",
    "for ax in fig.axes:\n",
    "    ax.label_outer()\n",
    "\n",
    "sns.despine(fig)\n",
    "fig.tight_layout()"
   ]
  },
  {
   "cell_type": "code",
   "execution_count": 9,
   "metadata": {},
   "outputs": [],
   "source": [
    "save_tight_fig(fig, '../../../phd-thesis/figures/aml-population-response.pdf')"
   ]
  },
  {
   "cell_type": "markdown",
   "metadata": {},
   "source": [
    "### Spike plot"
   ]
  },
  {
   "cell_type": "code",
   "execution_count": 10,
   "metadata": {},
   "outputs": [
    {
     "name": "stderr",
     "output_type": "stream",
     "text": [
      "/home/jgosmann/Documents/projects/nengo_spa/nengo_spa/vocab.py:132: UserWarning: Could not create a semantic pointer with max_similarity=0.10 (D=32, M=8)\n",
      "  len(self._key2idx)))\n",
      "/home/jgosmann/Documents/projects/nengo_spa/nengo_spa/vocab.py:132: UserWarning: Could not create a semantic pointer with max_similarity=0.10 (D=32, M=11)\n",
      "  len(self._key2idx)))\n",
      "/home/jgosmann/Documents/projects/nengo_spa/nengo_spa/vocab.py:132: UserWarning: Could not create a semantic pointer with max_similarity=0.10 (D=32, M=12)\n",
      "  len(self._key2idx)))\n",
      "/home/jgosmann/Documents/projects/nengo_spa/nengo_spa/vocab.py:132: UserWarning: Could not create a semantic pointer with max_similarity=0.10 (D=32, M=13)\n",
      "  len(self._key2idx)))\n",
      "/home/jgosmann/Documents/projects/nengo_spa/nengo_spa/vocab.py:132: UserWarning: Could not create a semantic pointer with max_similarity=0.10 (D=32, M=14)\n",
      "  len(self._key2idx)))\n"
     ]
    },
    {
     "name": "stdout",
     "output_type": "stream",
     "text": [
      "Building finished in 0:00:03.                                                                                           \n",
      "Simulating finished in 0:07:45.                                                                                         \n"
     ]
    }
   ],
   "source": [
    "protocol = Protocol(seed=0)\n",
    "trial = Trial(protocol, 1)\n",
    "trial.run()"
   ]
  },
  {
   "cell_type": "code",
   "execution_count": 11,
   "metadata": {},
   "outputs": [],
   "source": [
    "mask = protocol.mask_screen(trial.trange)\n",
    "long_sliced_bl = slice_by_stim(\n",
    "    trial.trange[mask], trial.spikes[mask], protocol.screen_stimuli, protocol.onsets_screen,\n",
    "    intervals=((-1., 1.),))\n",
    "mask = protocol.mask_test(trial.trange)\n",
    "long_sliced_al = slice_by_stim(\n",
    "    trial.trange[mask], trial.spikes[mask], protocol.test_stimuli, protocol.onsets_test,\n",
    "    intervals=((-1., 1.),))"
   ]
  },
  {
   "cell_type": "code",
   "execution_count": 12,
   "metadata": {},
   "outputs": [],
   "source": [
    "pair_coding = eval_pop_responses(protocol, trial)['pair_coding']"
   ]
  },
  {
   "cell_type": "code",
   "execution_count": 13,
   "metadata": {},
   "outputs": [
    {
     "data": {
      "text/plain": [
       "['L0', 'P0', 'L1']"
      ]
     },
     "execution_count": 13,
     "metadata": {},
     "output_type": "execute_result"
    }
   ],
   "source": [
    "[k for k, v in pair_coding.items() if len(v) > 0]"
   ]
  },
  {
   "cell_type": "code",
   "execution_count": 14,
   "metadata": {},
   "outputs": [],
   "source": [
    "def events_for_stim(t, sliced_spikes, p_stim, stim):\n",
    "    return [t[np.where(onset[0][:, pair_coding[p_stim]][:, 0])[0]] for onset in sliced_spikes[stim]]"
   ]
  },
  {
   "cell_type": "code",
   "execution_count": 15,
   "metadata": {},
   "outputs": [
    {
     "data": {
      "image/png": "[encoded data removed]",
      "text/plain": [
       "<Figure size 389.102x202.657 with 4 Axes>"
      ]
     },
     "metadata": {},
     "output_type": "display_data"
    }
   ],
   "source": [
    "i = 1\n",
    "p_stim = 'L' + str(i)\n",
    "np_stim = 'P' + str(i)\n",
    "\n",
    "dt = 1e-3\n",
    "t = (np.arange(-1., 1., dt) + dt) * 1e3\n",
    "\n",
    "fig = plt.figure(figsize=(textwidth, 1.25 * row_height))\n",
    "\n",
    "ax1 = fig.add_subplot(2, 2, 1)\n",
    "ax1.eventplot(events_for_stim(t, long_sliced_bl, p_stim, p_stim), lw=0.75)\n",
    "ax1.set_title(\"Preferred (P)\")\n",
    "ax1.set_ylabel(\"Before learning (BL)\")\n",
    "\n",
    "ax2 = fig.add_subplot(2, 2, 2)\n",
    "ax2.eventplot(events_for_stim(t, long_sliced_bl, p_stim, np_stim), lw=0.75)\n",
    "ax2.set_title(\"Non-preferred (NP)\")\n",
    "\n",
    "ax3 = fig.add_subplot(2, 2, 3)\n",
    "ax3.eventplot(events_for_stim(t, long_sliced_al, p_stim, p_stim), lw=0.75)\n",
    "ax3.set_xlabel(\"Time (ms)\")\n",
    "ax3.set_ylabel(\"After learning (AL)\")\n",
    "\n",
    "ax4 = fig.add_subplot(2, 2, 4)\n",
    "ax4.eventplot(events_for_stim(t, long_sliced_al, p_stim, np_stim), lw=0.75)\n",
    "ax4.set_xlabel(\"Time (ms)\")\n",
    "\n",
    "for ax in fig.axes:\n",
    "    ax.yaxis.set_ticks([])\n",
    "    ax.axvline(x=0., color='gray', lw=0.75)\n",
    "    ax.set_xlim(-1e3, 1e3)\n",
    "    ax.label_outer()\n",
    "sns.despine(fig, left=True)\n",
    "fig.tight_layout()"
   ]
  },
  {
   "cell_type": "code",
   "execution_count": 16,
   "metadata": {},
   "outputs": [],
   "source": [
    "save_tight_fig(fig, '../../../phd-thesis/figures/aml-spikes.pdf')"
   ]
  },
  {
   "cell_type": "code",
   "execution_count": null,
   "metadata": {},
   "outputs": [],
   "source": []
  }
 ],
 "metadata": {
  "kernelspec": {
   "display_name": "Python 3",
   "language": "python",
   "name": "python3"
  },
  "language_info": {
   "codemirror_mode": {
    "name": "ipython",
    "version": 3
   },
   "file_extension": ".py",
   "mimetype": "text/x-python",
   "name": "python",
   "nbconvert_exporter": "python",
   "pygments_lexer": "ipython3",
   "version": "3.6.1"
  }
 },
 "nbformat": 4,
 "nbformat_minor": 2
}
