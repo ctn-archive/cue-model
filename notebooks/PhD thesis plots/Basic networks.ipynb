{
 "cells": [
  {
   "cell_type": "code",
   "execution_count": 1,
   "metadata": {},
   "outputs": [],
   "source": [
    "%matplotlib inline"
   ]
  },
  {
   "cell_type": "code",
   "execution_count": 2,
   "metadata": {},
   "outputs": [],
   "source": [
    "import matplotlib.pyplot as plt\n",
    "import nengo\n",
    "import numpy as np\n",
    "import pandas as pd\n",
    "import seaborn as sns"
   ]
  },
  {
   "cell_type": "code",
   "execution_count": 3,
   "metadata": {},
   "outputs": [],
   "source": [
    "from cue.utils.plotting import row_height, save_tight_fig, single_fig_size, style, textwidth"
   ]
  },
  {
   "cell_type": "code",
   "execution_count": 4,
   "metadata": {},
   "outputs": [],
   "source": [
    "style()"
   ]
  },
  {
   "cell_type": "markdown",
   "metadata": {},
   "source": [
    "# Differentiator"
   ]
  },
  {
   "cell_type": "code",
   "execution_count": 5,
   "metadata": {},
   "outputs": [],
   "source": [
    "class Differentiator(object):\n",
    "    def __init__(self, tau1, tau2):\n",
    "        assert tau1 < tau2\n",
    "        self.tau1 = tau1\n",
    "        self.tau2 = tau2\n",
    "        \n",
    "    def h1(self, t):\n",
    "        assert np.all(t >= 0.)\n",
    "        return np.exp(-t / self.tau1) / self.tau1\n",
    "    \n",
    "    def h2(self, t):\n",
    "        assert np.all(t >= 0.)\n",
    "        return np.exp(-t / self.tau2) / self.tau2\n",
    "    \n",
    "    def __call__(self, x, t):\n",
    "        t_long = np.arange(0., 100. * max(self.tau1, self.tau2), t[1] - t[0])\n",
    "        a = self.h1(t)\n",
    "        a /= np.sum(a) * (t_long[1] - t_long[0])\n",
    "        b = self.h2(t)\n",
    "        b /= np.sum(b) * (t_long[1] - t_long[0])\n",
    "        return np.convolve(x(t), a - b, 'full')[:len(t)]\n",
    "    \n",
    "    def mag_response(self, ω):\n",
    "        return ω * (self.tau2 - self.tau1) / np.sqrt(\n",
    "            1. + (self.tau1 * self.tau2 * ω**2)**2 + ω**2 * (self.tau1**2 + self.tau2**2))"
   ]
  },
  {
   "cell_type": "code",
   "execution_count": 6,
   "metadata": {},
   "outputs": [],
   "source": [
    "class UnitStep(object):\n",
    "    def __init__(self, step_t):\n",
    "        self.step_t = step_t\n",
    "        \n",
    "    def __call__(self, t):\n",
    "        return np.asfarray(t >= self.step_t)"
   ]
  },
  {
   "cell_type": "code",
   "execution_count": 7,
   "metadata": {},
   "outputs": [],
   "source": [
    "t = np.linspace(0., .6, 300)\n",
    "u = UnitStep(0.1)\n",
    "diff = Differentiator(0.005, 0.05)\n",
    "y = diff(u, t)"
   ]
  },
  {
   "cell_type": "code",
   "execution_count": 8,
   "metadata": {},
   "outputs": [],
   "source": [
    "f = np.logspace(-2, 3)\n",
    "ω = 2. * np.pi * f"
   ]
  },
  {
   "cell_type": "code",
   "execution_count": 9,
   "metadata": {},
   "outputs": [
    {
     "data": {
      "image/png": "[encoded data removed]",
      "text/plain": [
       "<Figure size 389.102x137.807 with 2 Axes>"
      ]
     },
     "metadata": {},
     "output_type": "display_data"
    }
   ],
   "source": [
    "fig = plt.figure(figsize=(textwidth, 0.85 * row_height))\n",
    "\n",
    "ax1 = fig.add_subplot(1, 2, 1)\n",
    "ax1.plot(t, u(t), '--', label=\"Input $x(t)$\")\n",
    "ax1.plot(t, y / np.max(y), label=\"Output $y(t)$\")\n",
    "ax1.set_title(\"(a) Unit step response\")\n",
    "ax1.set_xlabel(\"Time $t$ (s)\")\n",
    "ax1.legend(loc='best')\n",
    "sns.despine(ax=ax1)\n",
    "\n",
    "with sns.axes_style('whitegrid'):\n",
    "    ax2 = fig.add_subplot(1, 2, 2)\n",
    "    ax2.plot(f, 10 * np.log10(diff.mag_response(ω)))\n",
    "    ax2.semilogx()\n",
    "    ax2.set_title(\"(b) Magnitude response\")\n",
    "    ax2.set_xlabel(\"Frequency $f$ (Hz)\")\n",
    "    ax2.set_ylabel(\"Magnitude (dB)\")\n",
    "\n",
    "fig.tight_layout()"
   ]
  },
  {
   "cell_type": "code",
   "execution_count": 10,
   "metadata": {},
   "outputs": [],
   "source": [
    "save_tight_fig(fig, '../../../phd-thesis/figures/differentiator.pdf')"
   ]
  },
  {
   "cell_type": "markdown",
   "metadata": {},
   "source": [
    "# Integrator"
   ]
  },
  {
   "cell_type": "code",
   "execution_count": 11,
   "metadata": {},
   "outputs": [],
   "source": [
    "def u(t):\n",
    "    if t < 1.:\n",
    "        return 0.\n",
    "    elif t < 3.:\n",
    "        return 0.2\n",
    "    elif t < 4.:\n",
    "        return 0.\n",
    "    elif t < 5.:\n",
    "        return 0.4\n",
    "    else:\n",
    "        return 0."
   ]
  },
  {
   "cell_type": "code",
   "execution_count": 12,
   "metadata": {},
   "outputs": [],
   "source": [
    "tau = 0.1\n",
    "with nengo.Network(seed=1) as model:\n",
    "    ens = nengo.Ensemble(100, 1)\n",
    "    u_node = nengo.Node(u)\n",
    "    nengo.Connection(u_node, ens[0], transform=tau)\n",
    "    c = nengo.Connection(ens, ens, synapse=tau)\n",
    "    p_u = nengo.Probe(u_node)\n",
    "    p_ens = nengo.Probe(ens[0], synapse=0.01)"
   ]
  },
  {
   "cell_type": "code",
   "execution_count": 13,
   "metadata": {},
   "outputs": [
    {
     "name": "stdout",
     "output_type": "stream",
     "text": [
      "Building finished in 0:00:01.                                                                                                                                                                                                                \n",
      "Simulating finished in 0:00:02.                                                                                                                                                                                                              \n"
     ]
    }
   ],
   "source": [
    "with nengo.Simulator(model) as sim:\n",
    "    sim.run(10.)"
   ]
  },
  {
   "cell_type": "code",
   "execution_count": 14,
   "metadata": {},
   "outputs": [],
   "source": [
    "from nengo.builder.ensemble import get_activities"
   ]
  },
  {
   "cell_type": "code",
   "execution_count": 15,
   "metadata": {},
   "outputs": [
    {
     "data": {
      "image/png": "[encoded data removed]",
      "text/plain": [
       "<Figure size 389.102x137.807 with 2 Axes>"
      ]
     },
     "metadata": {},
     "output_type": "display_data"
    }
   ],
   "source": [
    "fig = plt.figure(figsize=(textwidth, 0.85 * row_height))\n",
    "\n",
    "ax1 = fig.add_subplot(1, 2, 1)\n",
    "ax1.plot(sim.trange(), sim.data[p_u], '--', label=\"$u(t)$\")\n",
    "ax1.plot(sim.trange(), sim.data[p_ens], label=\"$x(t)$\")\n",
    "ax1.legend(loc='best')\n",
    "ax1.set_title(\"(a) Neural integrator\")\n",
    "ax1.set_xlabel(\"Time $t$ (s)\")\n",
    "\n",
    "x = np.linspace(-1., 1., 100)\n",
    "y = get_activities(sim.data[ens], ens, np.atleast_2d(x).T) @ np.squeeze(sim.data[c].weights) - x\n",
    "assert np.all(np.sign(y) != 0.), \"Zeros not handled correctly\"\n",
    "crossings = np.diff(np.sign(y))\n",
    "interp = x[:-1] + 0.5 * np.diff(x)\n",
    "stable = interp[crossings < 0]\n",
    "unstable = interp[crossings > 0]\n",
    "\n",
    "ax2 = fig.add_subplot(1, 2, 2)\n",
    "ax2.plot(x, np.zeros_like(x), '--', c='gray')\n",
    "ax2.plot(x, y)\n",
    "ax2.scatter(stable, np.zeros_like(stable), c='gray', s=50, label=\"stable\")\n",
    "ax2.scatter(\n",
    "    unstable, np.zeros_like(unstable), marker='o', edgecolors='gray', s=50,\n",
    "    facecolors='none', lw=1, label=\"unstable\")\n",
    "ax2.legend(loc='best')\n",
    "ax2.set_title(\"(b) Fixed points\")\n",
    "ax2.set_xlabel(\"$x$\")\n",
    "ax2.set_ylabel(\"Distortion error\")\n",
    "\n",
    "sns.despine(fig)\n",
    "fig.tight_layout()"
   ]
  },
  {
   "cell_type": "code",
   "execution_count": 16,
   "metadata": {},
   "outputs": [],
   "source": [
    "save_tight_fig(fig, '../../../phd-thesis/figures/integrator.pdf')"
   ]
  },
  {
   "cell_type": "markdown",
   "metadata": {},
   "source": [
    "# Thresholding ensemble"
   ]
  },
  {
   "cell_type": "code",
   "execution_count": 17,
   "metadata": {},
   "outputs": [],
   "source": [
    "with nengo.Network(seed=1) as model:\n",
    "    with nengo.presets.ThresholdingEnsembles(0.):\n",
    "        ens = nengo.Ensemble(25, 1, neuron_type=nengo.LIFRate())\n",
    "        \n",
    "    inp = nengo.Node(lambda t: t / 10. - 1.)\n",
    "    nengo.Connection(inp, ens, synapse=None)\n",
    "    \n",
    "    rect = nengo.Node(size_in=1)\n",
    "    nengo.Connection(ens, rect, synapse=None, function=lambda x: x if x > 0. else 0.)\n",
    "    \n",
    "    heavi = nengo.Node(size_in=1)\n",
    "    nengo.Connection(ens, heavi, synapse=None, function=lambda x: x > 0.)\n",
    "    \n",
    "    p_inp = nengo.Probe(inp)\n",
    "    p_rect = nengo.Probe(rect)\n",
    "    p_heavi = nengo.Probe(heavi)"
   ]
  },
  {
   "cell_type": "code",
   "execution_count": 18,
   "metadata": {},
   "outputs": [
    {
     "name": "stdout",
     "output_type": "stream",
     "text": [
      "Building finished in 0:00:01.                                                                                                                                                                                                                \n",
      "Simulating finished in 0:00:03.                                                                                                                                                                                                              \n"
     ]
    }
   ],
   "source": [
    "with nengo.Simulator(model) as sim:\n",
    "    sim.run(20.)"
   ]
  },
  {
   "cell_type": "code",
   "execution_count": 19,
   "metadata": {},
   "outputs": [],
   "source": [
    "from nengo.utils.ensemble import tuning_curves\n",
    "from matplotlib import gridspec"
   ]
  },
  {
   "cell_type": "code",
   "execution_count": 20,
   "metadata": {},
   "outputs": [
    {
     "data": {
      "image/png": "[encoded data removed]",
      "text/plain": [
       "<Figure size 389.102x137.807 with 3 Axes>"
      ]
     },
     "metadata": {},
     "output_type": "display_data"
    }
   ],
   "source": [
    "fig = plt.figure(figsize=(textwidth, 0.85 * row_height))\n",
    "\n",
    "gs = gridspec.GridSpec(1, 2)\n",
    "ax1 = fig.add_subplot(plt.Subplot(fig, gs[0]))\n",
    "ax1.plot(sim.data[p_inp], sim.data[p_rect], label='rectified')\n",
    "ax1.plot(sim.data[p_inp], sim.data[p_heavi], label='Heaviside')\n",
    "sns.despine(ax=ax1)\n",
    "ax1.set_title(\"(a) Thresholding ensemble\")\n",
    "ax1.set_xlabel(\"Input $x$\")\n",
    "ax1.set_ylabel(\"Output\")\n",
    "ax1.legend(loc='best')\n",
    "\n",
    "gs_inner = gridspec.GridSpecFromSubplotSpec(2, 1, subplot_spec=gs[1], hspace=0., height_ratios=(4., 1.))\n",
    "ax2 = fig.add_subplot(plt.Subplot(fig, gs_inner[0]))\n",
    "ax2.plot(*tuning_curves(ens, sim), lw=.75, alpha=0.8);\n",
    "ax2.set_ylim(bottom=0.)\n",
    "sns.despine(ax=ax2)\n",
    "ax2.xaxis.set_visible(False)\n",
    "ax2.set_title(\"(b) Tuning curves\")\n",
    "ax2.set_ylabel(\"Firing rate / $\\mathrm{s}^{-1}$\")\n",
    "\n",
    "ax3 = fig.add_subplot(plt.Subplot(fig, gs_inner[1], sharex=ax2))\n",
    "x = np.linspace(0., 1., 100)\n",
    "y = -1. / 0.15 * np.exp(-x / 0.15)\n",
    "x = np.concatenate(((-1., 0.), x))\n",
    "y = np.concatenate(((0., 0.), y))\n",
    "ax3.fill_between(x, y, alpha=0.5)\n",
    "ax3.plot(x, y)\n",
    "ax3.set_ylim(top=0., bottom=1.3 * np.min(y))\n",
    "sns.despine(ax=ax3, left=True)\n",
    "ax3.yaxis.set_visible(False)\n",
    "ax3.set_xlabel(\"Input $x$\")\n",
    "\n",
    "fig.tight_layout()"
   ]
  },
  {
   "cell_type": "code",
   "execution_count": 21,
   "metadata": {},
   "outputs": [],
   "source": [
    "save_tight_fig(fig, '../../../phd-thesis/figures/thresholding.pdf')"
   ]
  },
  {
   "cell_type": "code",
   "execution_count": null,
   "metadata": {},
   "outputs": [],
   "source": []
  }
 ],
 "metadata": {
  "kernelspec": {
   "display_name": "Python 3",
   "language": "python",
   "name": "python3"
  },
  "language_info": {
   "codemirror_mode": {
    "name": "ipython",
    "version": 3
   },
   "file_extension": ".py",
   "mimetype": "text/x-python",
   "name": "python",
   "nbconvert_exporter": "python",
   "pygments_lexer": "ipython3",
   "version": "3.6.1"
  }
 },
 "nbformat": 4,
 "nbformat_minor": 2
}
