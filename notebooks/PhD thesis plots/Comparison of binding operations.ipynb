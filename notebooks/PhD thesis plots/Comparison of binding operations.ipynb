{
 "cells": [
  {
   "cell_type": "markdown",
   "metadata": {},
   "source": [
    "# Comparison of compressed binding operations\n",
    "\n",
    "*Jan Gosmann*"
   ]
  },
  {
   "cell_type": "code",
   "execution_count": 1,
   "metadata": {},
   "outputs": [],
   "source": [
    "%matplotlib inline"
   ]
  },
  {
   "cell_type": "code",
   "execution_count": 2,
   "metadata": {},
   "outputs": [],
   "source": [
    "from functools import partial\n",
    "import os.path"
   ]
  },
  {
   "cell_type": "code",
   "execution_count": 3,
   "metadata": {},
   "outputs": [],
   "source": [
    "import matplotlib.pyplot as plt\n",
    "import nengo_spa as spa\n",
    "import numpy as np\n",
    "import pandas as pd\n",
    "from psyrun import map_pspace, map_pspace_parallel, Param\n",
    "import seaborn as sns\n",
    "from statsmodels.stats.proportion import proportion_confint"
   ]
  },
  {
   "cell_type": "code",
   "execution_count": 4,
   "metadata": {},
   "outputs": [],
   "source": [
    "from cue.analysis.analysis import bootstrap_ci\n",
    "from cue.utils.plotting import row_height, save_tight_fig, single_fig_size, style, textwidth"
   ]
  },
  {
   "cell_type": "code",
   "execution_count": 5,
   "metadata": {},
   "outputs": [],
   "source": [
    "style()"
   ]
  },
  {
   "cell_type": "code",
   "execution_count": 6,
   "metadata": {},
   "outputs": [],
   "source": [
    "def ci_l(x, func):\n",
    "    return bootstrap_ci(x, func)[0]\n",
    "\n",
    "def ci_u(x, func):\n",
    "    return bootstrap_ci(x, func)[1]\n",
    "\n",
    "statistic = lambda func: (func, partial(ci_l, func=func), partial(ci_u, func=func))"
   ]
  },
  {
   "cell_type": "code",
   "execution_count": 7,
   "metadata": {},
   "outputs": [],
   "source": [
    "def flatten(data):\n",
    "    sizes = [len(d) for k in data for d in data[k] if hasattr(d, '__len__')]\n",
    "    assert all(s == sizes[0] for s in sizes)\n",
    "    return {k: sum((sizes[0] * [d] if not hasattr(d, '__len__') else d for d in data[k]), []) for k in data}"
   ]
  },
  {
   "cell_type": "markdown",
   "metadata": {},
   "source": [
    "## Introduction\n",
    "\n",
    "In models based on the Semantic Pointer Architecture (SPA), circular convolution has been classically used as binding operation. However, other operations like tensor products [1] and random permutations have been proposed (e.g. [2]). Furthermore, I propose a new binding method : vector-derived transformation matrices. This warrants a closer comparison of these operations. In the first part of this report definitions are provided and theoretical properties of these approaches are discussed. In the second part, a number of experiments are presented to further compare the binding operations.\n",
    "\n",
    "[1]: Smolensky, Paul. “Tensor Product Variable Binding and the Representation of Symbolic Structures in Connectionist Systems.” Artificial Intelligence 46, no. 1 (November 1, 1990): 159–216. https://doi.org/10.1016/0004-3702(90)90007-M.\n",
    "\n",
    "[2]: Gabriel Recchia, Magnus Sahlgren, Pentti Kanerva, and Michael N. Jones, “Encoding Sequential Information in Semantic Space Models: Comparing Holographic Reduced Representation and Random Permutation,” Computational Intelligence and Neuroscience, vol. 2015, Article ID 986574, 18 pages, 2015. doi:10.1155/2015/986574"
   ]
  },
  {
   "cell_type": "markdown",
   "metadata": {},
   "source": [
    "## Binding operators\n",
    "\n",
    "**Definition (compressed binding operator and approximate inverse)** A (compressed) binding operator is a function $\\mathcal{B}: \\mathbb{R}^{d} \\times \\mathbb{R}^{d} \\rightarrow \\mathbb{R}^{d}$ with an *approximate inverse* $\\mathcal{B}^+: \\mathbb{R}^{d} \\times \\mathbb{R}^{d} \\rightarrow \\mathbb{R}^{d}$ that satisfies $\\mathcal{B}^+(\\mathcal{B}(x, y), y) \\approx x$.\n",
    "\n",
    "We exclude non-compressed binding operations, like the tensor-product, here as they increase the dimensionality of the space with each binding. This gives scaling problems discussed elsewhere [2]. I will use *binding operator* and *compressed binding operator* interchangeably in this report.\n",
    "\n",
    "**Definition (exact inverse)** The exact inverse $\\mathcal{B}^{-1}: \\mathbb{R}^{d} \\times \\mathbb{R}^{d} \\rightarrow \\mathbb{R}^{d}$ of a binding operator $\\mathcal{B}$ is a function satisfying $\\mathcal{B}^{-1}(\\mathcal{B}(x, y), y) = x$.\n",
    "\n",
    "**Definition (identity)** Any vector $y$ with the property $\\mathcal{B}(x, y) = x$ is called *identity* under $\\mathcal{B}$ and denoted with the symbol $I_{\\mathcal{B}}$.\n",
    "\n",
    "**Definition (unitary vector)** Any vector $u$ with the property $\\langle\\mathcal{B}(x, u), \\mathcal{B}(y, u)\\rangle = \\langle x, y \\rangle$ is called *unitary*. ($\\langle x, y \\rangle$ denotes the dot product of $x$ with $y$.)\n",
    "\n",
    "Given a binding operator it can be used to encode pairs into trace $m$.\n",
    "\n",
    "**Definition (encoding with binding)** Given $k$ pairs $(x_i, y_i) \\in \\mathbb{R}^d \\times \\mathbb{R}^d$, the encoding into a trace $m$ with binding is given by\n",
    "$$ m = \\sum_{i=1}^k \\mathcal{B}(x_i, y_i) \\text{.}$$\n",
    "\n",
    "We usually want the binding operation to be *distributive*, i.e. $\\mathcal{B}(x_1 + x_2, y) = \\mathcal{B}(x_1, y) + \\mathcal{B}(x_2, y)$, to allow to *recall* individual items from the trace. An $x_i$ can be *recalled* from such a trace with a distributive binding function as $x_i \\approx \\hat{x}_i := \\mathcal{B}^+(m, x_i) = x_i + \\mathit{noise}$."
   ]
  },
  {
   "cell_type": "code",
   "execution_count": 8,
   "metadata": {},
   "outputs": [],
   "source": [
    "class Binding(object):\n",
    "    def identity(self, d):\n",
    "        raise NotImplementedError()\n",
    "        \n",
    "    def bind(self, x, y):\n",
    "        raise NotImplementedError()\n",
    "        \n",
    "    def unbind(self, x, y):\n",
    "        raise NotImplementedError()\n",
    "        \n",
    "    def __hash__(self):\n",
    "        return hash(type(self))\n",
    "        \n",
    "    def __eq__(self, other):\n",
    "        return type(self) is type(other)"
   ]
  },
  {
   "cell_type": "code",
   "execution_count": 9,
   "metadata": {},
   "outputs": [],
   "source": [
    "class Encoding(object):\n",
    "    def __init__(self, d):\n",
    "        super(Encoding, self).__init__()\n",
    "        self.d = d\n",
    "        \n",
    "    def bind(self, xs, ys):\n",
    "        \"\"\"Return SemanticPointer of bound pairs created from *xs* and *ys*.\"\"\"\n",
    "        raise NotImplementedError()\n",
    "        \n",
    "    def retrieve(self, pointer, cue, vocab):\n",
    "        \"\"\"Retrieve vector bound to *cue* in *pointer* and return its index in *vocab*.\"\"\"\n",
    "        raise NotImplementedError()"
   ]
  },
  {
   "cell_type": "code",
   "execution_count": 10,
   "metadata": {},
   "outputs": [],
   "source": [
    "def vocab_cosines(vocab, p):\n",
    "    return vocab.dot(p.normalized()) / np.linalg.norm(vocab.vectors, axis=1)\n",
    "\n",
    "class EncodeWithBinding(Encoding):\n",
    "    def __init__(self, binding, d):\n",
    "        super(EncodeWithBinding, self).__init__(d)\n",
    "        self.binding = binding\n",
    "        \n",
    "    def bind(self, xs, ys):\n",
    "        return sum((self.binding.bind(x, y) for x, y in zip(xs, ys)), spa.pointer.Zero(self.d))\n",
    "    \n",
    "    def retrieve(self, pointer, cue, vocab):\n",
    "        return np.argmax(vocab_cosines(vocab, self.binding.unbind(pointer, cue)))"
   ]
  },
  {
   "cell_type": "markdown",
   "metadata": {},
   "source": [
    "### Circular convolution\n",
    "\n",
    "**Definition (circular convolution)** Circular convolution is a binding operater $\\mathcal{B}_{\\circledast}$ defined by\n",
    "$$ \\mathcal{B}_{\\circledast}(x, y) := x \\circledast y\\quad\\text{and}\\quad (x \\circledast y)[i] = \\sum_{j=0}^{d-1} x\\left[j\\right]\\, y\\left[(i-j)\\ \\mathrm{mod}\\ d\\right] \\text{.}$$\n",
    "The approximate inverse is given by\n",
    "$$ \\mathcal{B}_{\\circledast}^+(x, y) = x \\circledast y^+\\quad\\text{with}\\quad y^+ = (y[0], y[d-1], y[d-2], \\dots, y[1])^T \\text{.}$$\n",
    "\n",
    "Circular convolution as a binding operation has been [discussed in detail elsewhere](https://github.com/ctn-waterloo/internal_tech_reports/blob/master/Semantic%20Pointers%20and%20convolutions.ipynb). Nevertheless, it is worth to restate some important properties here.\n",
    "\n",
    "* Circular convolution is distributive: $(x_1 + x_2) \\circledast y = x_1 \\circledast y + x_2 \\circledast y$\n",
    "* Circular convolution is associative: $(x \\circledast y) \\circledast z = x \\circledast (y \\circledast z)$\n",
    "* Circular convolution is commutative: $x \\circledast y = y \\circledast x$\n",
    "* There exist unitary vectors under circular convolution.\n",
    "* The approximate inverse of any unitary vectors under circular convolution is equal to its exact inverse."
   ]
  },
  {
   "cell_type": "code",
   "execution_count": 11,
   "metadata": {},
   "outputs": [],
   "source": [
    "class CircularConvolution(Binding):\n",
    "    def identity(self, d):\n",
    "        return spa.pointer.Identity(d)\n",
    "    \n",
    "    def unitary(self, d, rng=None):\n",
    "        return spa.pointer.SemanticPointer(d, rng=rng).unitary()\n",
    "        \n",
    "    def bind(self, x, y):\n",
    "        return x * y\n",
    "    \n",
    "    def unbind(self, x, y):\n",
    "        return x * ~y\n",
    "    \n",
    "    def __str__(self):\n",
    "        return \"Circular convolution\""
   ]
  },
  {
   "cell_type": "markdown",
   "metadata": {},
   "source": [
    "### Vector-derived transformation binding (VTB)\n",
    "\n",
    "**Definition (vector-derived transformation binding, VTB)** Vector-derived transformation binding is a binding operator $\\mathcal{V}: \\mathbb{R}^{d} \\times \\mathbb{R}^{d} \\rightarrow \\mathbb{R}^{d}$ with $d = \\delta^2$ and $\\delta \\in \\mathbb{N}_{>0}$ defined by\n",
    "$$ \\mathcal{V}(x, y) = \\bar{V}_y x = \\left[ \\begin{array}{ccc} V_y & 0 & 0 \\\\ 0 & V_y & 0 \\\\ 0 & 0 & \\ddots \\end{array} \\right] x$$\n",
    "with\n",
    "$$ V_y = d^{\\frac{1}{4}} \\left[ \\begin{array}{cccc}\n",
    "y_1 & y_2 & \\dots & y_{\\delta} \\\\\n",
    "y_{\\delta+1} & y_{\\delta+2} & \\dots & y_{2\\delta} \\\\\n",
    "\\vdots & \\vdots & \\ddots & \\vdots \\\\\n",
    "y_{d - \\delta + 1} & y_{d - \\delta + 2} & \\dots & y_d\n",
    "\\end{array} \\right] \\text{.} $$\n",
    "The approximate inverse $\\mathcal{V}^+$ is given by\n",
    "$$ \\mathcal{V}^+(x, y) = \\left[ \\begin{array}{ccc} V_y^T & 0 & 0 \\\\ 0 & V_y^T & 0 \\\\ 0 & 0 & \\ddots \\end{array} \\right] x \\text{.}$$\n",
    "\n",
    "For randomly generated and uniformly distributed vectors with identically (but not necessarily indepentently) distributed component, each row (or column) in $V_y$ can be treated also as a randomly generated and uniformly distributed vector with identically distributed components. Given a sufficiently high-dimensional space pairs of random vectors will be almost always almost orthogonal. Thus, $\\bar{V}_y$ is almost orthogonal and $\\bar{V}_y^T \\bar{V}_y \\approx I$.\n",
    "\n",
    "If and only if $V_y$ is perfectly orthogonal, $y$ will be unitary und VTB. If $y$ is unitary, the approximate inverse under VTB become the exact inverse.\n",
    "\n",
    "**Corollary (VTB distributivity)** VTB is distributive: $\\mathcal{V}(x_1 + x_2, y) = \\mathcal{V}(x_1, y) + \\mathcal{V}(x_2, y)$.\n",
    "\n",
    "*Proof:* $\\mathcal{V}(x_1 + x_2, y) = \\bar{V}_y (x_1 + x_2) = \\bar{V}_y x_1 + \\bar{V}_y x_2 = \\mathcal{V}(x_1, y) + \\mathcal{V}(x_2, y)$ (q.e.d.)\n",
    "\n",
    "**Corollary (VTB identity)** The identity vector under VTB is given by\n",
    "$$I_{\\mathcal{V}}[i] = \\left\\{ \\begin{array}{ll} d^{-\\frac{1}{4}} & \\text{if}\\ i \\in \\left\\{ (k-1)\\delta + k : k \\leq \\delta, k \\in \\mathbb{N}_{>0} \\right\\} \\\\ 0 & \\text{otherwise} \\end{array} \\right. \\text{.}$$\n",
    "\n",
    "*Proof:* $V_{I_{\\mathcal{V}}} = I \\Rightarrow \\bar{V}_{I_{\\mathcal{V}}} = I$ (q.e.d.)\n",
    "\n",
    "Note some important differences to circular convolution:\n",
    "\n",
    "* VTB is **not** associative.\n",
    "* VTB is **not** commutative.\n",
    "\n",
    "This means that in contrast to circular convolution, multiple bindings cannot be undone in a single step, but one \n",
    "step for each binding is required."
   ]
  },
  {
   "cell_type": "code",
   "execution_count": 12,
   "metadata": {},
   "outputs": [],
   "source": [
    "class VTB(Binding):\n",
    "    def identity(self, d):\n",
    "        return spa.pointer.SemanticPointer((np.eye(self._get_sub_d(d)) / d**0.25).flat)\n",
    "    \n",
    "    def unitary(self, d, rng):\n",
    "        sub_d = self._get_sub_d(d)\n",
    "        transformation = np.random.randn(sub_d, sub_d)\n",
    "        for i in range(1, sub_d):\n",
    "            y = -np.dot(transformation[:i, i:], transformation[i, i:])\n",
    "            A = transformation[:i, :i]\n",
    "            transformation[i, :i] = np.linalg.solve(A, y)\n",
    "        transformation /= np.linalg.norm(transformation, axis=1)[:, None]\n",
    "        transformation /= d**0.25\n",
    "        return spa.pointer.SemanticPointer(transformation.flat)\n",
    "\n",
    "    def bind(self, x, y):\n",
    "        assert len(x.v) == len(y.v)\n",
    "        sub_d = self._get_sub_d(len(x))\n",
    "        vy = np.kron(np.eye(sub_d), y.v.reshape((sub_d, sub_d)))\n",
    "        return spa.pointer.SemanticPointer(np.sqrt(sub_d) * np.dot(vy, x.v))\n",
    "    \n",
    "    def unbind(self, x, y):\n",
    "        sub_d = self._get_sub_d(len(x))\n",
    "        return self.bind(x, spa.pointer.SemanticPointer(y.v.reshape((sub_d, sub_d)).T.flat))\n",
    "    \n",
    "    def _get_sub_d(self, d):\n",
    "        sub_d = int(np.sqrt(d))\n",
    "        assert sub_d * sub_d == d\n",
    "        return sub_d\n",
    "    \n",
    "    def __str__(self):\n",
    "        return \"VTB\"\n",
    "\n",
    "# Test identity\n",
    "b = VTB()\n",
    "x = spa.pointer.SemanticPointer(256)\n",
    "assert np.all(b.bind(x, b.identity(256)).v == x.v)"
   ]
  },
  {
   "cell_type": "markdown",
   "metadata": {},
   "source": [
    "## Binding by tagging\n",
    "\n",
    "**Definition (encoding by tagging)** Given $k$ pairs $(x_i, y_i) \\in \\mathbb{R}^d \\times \\mathbb{R}^d$ and a matrix $M \\in \\mathbb{R}^{d \\times d}$, the encoding into a trace $m$ with tagging is given by\n",
    "$$ m = \\sum_{i=1}^k M^{2i - 1} \\left(y_i + M x_i\\right) = \\sum_{i=1}^k M^{2i - 1} y_i + M^{2i} x_i \\text{.}$$\n",
    "\n",
    "In this encoding each vector basically gets a position tag. The binding of $(x_i, y_i)$ is encoding by tagging $x_i$ with the next position after $y_i$. Recalling items from this encoding is slightly more complicated than for the binding encoding. It is accomplished by $x_i \\approx \\hat{x}_i := (M^{2c})^+ m = x_i + \\mathrm{noise}$ with\n",
    "$$c = \\mathrm{arg\\,max}_{j \\in [1, k]} \\frac{\\langle y_j, (M^{2j - 1})^+ m \\rangle}{||y_j|| \\cdot ||(M^{2j - 1})^+ m||}$$\n",
    "with an approximate inverse $M^+$ that satisfies $M^+ M \\approx I$."
   ]
  },
  {
   "cell_type": "code",
   "execution_count": 13,
   "metadata": {},
   "outputs": [],
   "source": [
    "class EncodeWithTagging(Encoding):\n",
    "    def __init__(self, tagging_matrix, max_n):\n",
    "        super(EncodeWithTagging, self).__init__(len(tagging_matrix))\n",
    "        self.tagging_matrix = tagging_matrix\n",
    "        self.max_n = max_n\n",
    "        \n",
    "    def bind(self, xs, ys):\n",
    "        v = np.zeros(self.d)\n",
    "        for x, y in reversed(list(zip(xs, ys))):\n",
    "            v = np.dot(self.tagging_matrix, y.v + np.dot(self.tagging_matrix, x.v + v))\n",
    "        return spa.pointer.SemanticPointer(v)\n",
    "    \n",
    "    def retrieve(self, pointer, cue, vocab):\n",
    "        v = np.array(pointer.v)\n",
    "        vectors = []\n",
    "        cue_similarities = []\n",
    "        for i in range(self.max_n):\n",
    "            v = np.dot(self.tagging_matrix.T, v)\n",
    "            vectors.append(v)\n",
    "            cue_similarities.append(cue.dot(v))\n",
    "            v = np.dot(self.tagging_matrix.T, v)\n",
    "        return np.argmax(vocab_cosines(\n",
    "            vocab,\n",
    "            spa.pointer.SemanticPointer(\n",
    "                np.dot(self.tagging_matrix.T, vectors[np.argmax(cue_similarities)]))))"
   ]
  },
  {
   "cell_type": "markdown",
   "metadata": {},
   "source": [
    "### Tagging with a fixed binding\n",
    "\n",
    "Both the circular convolution and VTB operations can be used for tagging with a fixed a fixed vector $t$. $I_{\\circledast} \\circledast t$ gives a circulant matrix $M_{\\circledast t}$ with an approximate inverse given by $M_{\\circledast t}^+ = M_{\\circledast t}^T$. For VTB we get $M_{\\mathcal{V}(\\cdot, t)} := \\mathcal{V}(I, t) = \\bar{V}_t$ with the approximate inverse $M_{\\mathcal{V}(\\cdot, t)}^+ = M_{\\mathcal{V}(\\cdot, t)}^T$.\n",
    "\n",
    "In both cases, the matrix $M$ will be unitary, iff the vector $t$ is unitary under the binding operation.\n",
    "\n",
    "### Permutation tagging\n",
    "\n",
    "A common choice for $M$ are permutation matrices. These are unitary. An exact inverse for a permutation matrix is given by the transpose.\n",
    "\n",
    "### Shift by one\n",
    "\n",
    "The shift by one (with wrap-around) is a special permutation matrix. If only one permutation tagging matrix $M$ is used, the vector space dimensions can be reordered to make $M$ the shift by one.\n",
    "\n",
    "The shift by one permutation is also a circular convolution by the vector $(0, 1, 0, 0, \\dots)^T$ (or $(0, \\dots, 0, 1)^T$ for shifting in the other direction).\n",
    "\n",
    "### Orthonormal transformation tagging\n",
    "\n",
    "Orthogononal matrices are the unitary operators on $\\mathbb{R}^d$. This makes them a good candidate for the encoding by tagging. Like permutation matrices, orthogonal matrices have an exact inverse given by the transpose.\n",
    "\n",
    "### Relation of tagging methods\n",
    "\n",
    "The following Venn diagramm visualizes how the different classes of tagging matrices are related to each other"
   ]
  },
  {
   "cell_type": "markdown",
   "metadata": {},
   "source": [
    "## How important is the property of being unitary?\n",
    "\n",
    "Binding with non-unitary vectors will change the length of the output vector. This can be a problem when doing repeated bindings. The following demonstrates how the length of random vectors changes on average with repeated bindings of the vector with itself. Besides the length, the cosine angle of the original vector and the vector after binding it $n$-times with itself and then unbinding it $n$-times is plotted."
   ]
  },
  {
   "cell_type": "code",
   "execution_count": 14,
   "metadata": {},
   "outputs": [],
   "source": [
    "def autobind_len(binding, d, n, seed=None):\n",
    "    p = spa.pointer.SemanticPointer(d, rng=np.random.RandomState(seed))\n",
    "    bound = [binding.identity(d)]\n",
    "    unbound = [binding.identity(d)]\n",
    "    for i in range(1, n + 1):\n",
    "        bound.append(binding.bind(bound[-1], p))\n",
    "        inv = bound[-1]\n",
    "        for j in range(i):\n",
    "            inv = binding.unbind(inv, p)\n",
    "        unbound.append(inv)\n",
    "    return {\n",
    "        '#bindings': list(range(n + 1)),\n",
    "        'lengths': [x.length() for x in bound],\n",
    "        'recall_cosines': [binding.identity(d).dot(x) / x.length() for x in unbound]\n",
    "    }"
   ]
  },
  {
   "cell_type": "code",
   "execution_count": 15,
   "metadata": {},
   "outputs": [],
   "source": [
    "pspace = Param(binding=(CircularConvolution(), VTB()), d=256, n=15) * Param(seed=range(15))"
   ]
  },
  {
   "cell_type": "code",
   "execution_count": 16,
   "metadata": {},
   "outputs": [],
   "source": [
    "df = pd.DataFrame(flatten(map_pspace(autobind_len, pspace)))"
   ]
  },
  {
   "cell_type": "code",
   "execution_count": 17,
   "metadata": {},
   "outputs": [],
   "source": [
    "df = df[df['d'] == 256].groupby(('binding', '#bindings'), sort=False).agg(\n",
    "    {'lengths': statistic(np.mean), 'recall_cosines': statistic(np.mean)})"
   ]
  },
  {
   "cell_type": "code",
   "execution_count": 18,
   "metadata": {},
   "outputs": [
    {
     "data": {
      "image/png": "[encoded data removed]",
      "text/plain": [
       "<matplotlib.figure.Figure at 0x7fcc86ff42b0>"
      ]
     },
     "metadata": {},
     "output_type": "display_data"
    }
   ],
   "source": [
    "fig = plt.figure(figsize=(textwidth, row_height))\n",
    "\n",
    "ax1 = fig.add_subplot(1, 2, 1)\n",
    "ax2 = fig.add_subplot(1, 2, 2)\n",
    "\n",
    "for n, g in df.groupby('binding'):\n",
    "    x = g.index.get_level_values('#bindings')\n",
    "    ax1.plot(x, g['lengths', 'mean'], label=n)\n",
    "    ax1.fill_between(x, g['lengths', 'ci_l'], g['lengths', 'ci_u'], alpha=0.3)\n",
    "    ax2.plot(x, g['recall_cosines', 'mean'], label=n)\n",
    "    ax2.fill_between(x, g['recall_cosines', 'ci_l'], g['recall_cosines', 'ci_u'], alpha=0.5)\n",
    "    \n",
    "ax1.semilogy()\n",
    "ax1.set_title(\"(a) Length under auto-binding\")\n",
    "ax1.set_xlabel(\"Repeated auto-bindings\")\n",
    "ax1.set_ylabel(\"Length\")\n",
    "\n",
    "ax2.set_ylim(bottom=0.)\n",
    "ax2.set_title(\"(b) Similarity of unbound vector\")\n",
    "ax2.set_xlabel(\"Repeated auto-bindings\")\n",
    "ax2.set_ylabel(r\"$s(\\mathrm{original}, \\mathrm{unbound})$\")\n",
    "ax2.legend()\n",
    "\n",
    "sns.despine(fig)\n",
    "fig.tight_layout()"
   ]
  },
  {
   "cell_type": "code",
   "execution_count": 19,
   "metadata": {},
   "outputs": [],
   "source": [
    "save_tight_fig(fig, '../../../phd-thesis/figures/bindings-autoconv.pdf')"
   ]
  },
  {
   "cell_type": "markdown",
   "metadata": {
    "collapsed": true
   },
   "source": [
    "The length of the vector grows exponentially under circular convolution, but much slower with VTB. Similarly, the cosine angle of the original and recovered vector quickly approaches zero for the circular convolution binding, but stays slightly below 0.4 with VTB.\n",
    "\n",
    "The next experiment looks at the same things, but binds random vectors together."
   ]
  },
  {
   "cell_type": "code",
   "execution_count": 20,
   "metadata": {},
   "outputs": [],
   "source": [
    "def random_bind_len(binding, d, n, seed=None):\n",
    "    rng = np.random.RandomState(seed)\n",
    "    pointers = []\n",
    "    bound = [binding.identity(d)]\n",
    "    unbound = [binding.identity(d)]\n",
    "    for i in range(n):\n",
    "        pointers.append(spa.pointer.SemanticPointer(d, rng=rng))\n",
    "        bound.append(binding.bind(bound[-1], pointers[-1]))\n",
    "        inv = bound[-1]\n",
    "        for p in reversed(pointers):\n",
    "            inv = binding.unbind(inv, p)\n",
    "        unbound.append(inv)\n",
    "    return {\n",
    "        '#bindings': list(range(n + 1)),\n",
    "        'lengths': [x.length() for x in bound],\n",
    "        'recall_cosines': [binding.identity(d).dot(x) / x.length() for x in unbound]\n",
    "    }"
   ]
  },
  {
   "cell_type": "code",
   "execution_count": 21,
   "metadata": {},
   "outputs": [],
   "source": [
    "pspace = Param(binding=(CircularConvolution(), VTB()), d=256, n=45) * Param(seed=range(15))"
   ]
  },
  {
   "cell_type": "code",
   "execution_count": 22,
   "metadata": {},
   "outputs": [],
   "source": [
    "df = pd.DataFrame(flatten(map_pspace(random_bind_len, pspace)))"
   ]
  },
  {
   "cell_type": "code",
   "execution_count": 23,
   "metadata": {},
   "outputs": [],
   "source": [
    "df = df[df['d'] == 256].groupby(('binding', '#bindings'), sort=False).agg(\n",
    "    {'lengths': statistic(np.mean), 'recall_cosines': statistic(np.mean)})"
   ]
  },
  {
   "cell_type": "code",
   "execution_count": 24,
   "metadata": {},
   "outputs": [
    {
     "data": {
      "image/png": "[encoded data removed]",
      "text/plain": [
       "<matplotlib.figure.Figure at 0x7fcc849fe048>"
      ]
     },
     "metadata": {},
     "output_type": "display_data"
    }
   ],
   "source": [
    "fig = plt.figure(figsize=(textwidth, row_height))\n",
    "\n",
    "ax1 = fig.add_subplot(1, 2, 1)\n",
    "ax2 = fig.add_subplot(1, 2, 2)\n",
    "\n",
    "for n, g in df.groupby('binding'):\n",
    "    x = g.index.get_level_values('#bindings')\n",
    "    ax1.plot(x, g['lengths', 'mean'], label=n)\n",
    "    ax1.fill_between(x, g['lengths', 'ci_l'], g['lengths', 'ci_u'], alpha=0.3)\n",
    "    ax2.plot(x, g['recall_cosines', 'mean'], label=n)\n",
    "    ax2.fill_between(x, g['recall_cosines', 'ci_l'], g['recall_cosines', 'ci_u'], alpha=0.5)\n",
    "    \n",
    "ax1.semilogy()\n",
    "ax1.set_title(\"(a) Length under random bindings\")\n",
    "ax1.set_xlabel(\"Repeated random bindings\")\n",
    "ax1.set_ylabel(\"Length\")\n",
    "\n",
    "ax2.set_ylim(bottom=0.)\n",
    "ax2.set_title(\"(b) Similarity of unbound vector\")\n",
    "ax2.set_xlabel(\"Repeated random bindings\")\n",
    "ax2.set_ylabel(r\"$s(\\mathrm{original}, \\mathrm{unbound})$\")\n",
    "ax2.legend()\n",
    "\n",
    "sns.despine(fig)\n",
    "fig.tight_layout()"
   ]
  },
  {
   "cell_type": "code",
   "execution_count": 25,
   "metadata": {},
   "outputs": [],
   "source": [
    "save_tight_fig(fig, '../../../phd-thesis/figures/bindings-random.pdf')"
   ]
  },
  {
   "cell_type": "markdown",
   "metadata": {},
   "source": [
    "In this case the vector length decays to zero for both binding methods, but more quickly with circular convolution. The cosine angle of the original and recovered vector decreases quickly towards zero for circular convolution. For VTB the asymptote is closer to 0.3.\n",
    "\n",
    "One could assume that these problems vanish, when the vector is normalized in each binding step. So the following repeats the experiments with normalization."
   ]
  },
  {
   "cell_type": "code",
   "execution_count": 26,
   "metadata": {},
   "outputs": [],
   "source": [
    "def autobind_normalized_len(binding, d, n, seed=None):\n",
    "    p = spa.pointer.SemanticPointer(d, rng=np.random.RandomState(seed))\n",
    "    bound = [binding.identity(d)]\n",
    "    unbound = [binding.identity(d)]\n",
    "    for i in range(1, n + 1):\n",
    "        bound.append(binding.bind(bound[-1], p).normalized())\n",
    "        inv = bound[-1]\n",
    "        for j in range(i):\n",
    "            inv = binding.unbind(inv, p).normalized()\n",
    "        unbound.append(inv)\n",
    "    return {\n",
    "        '#bindings': list(range(n + 1)),\n",
    "        'lengths': [x.length() for x in bound],\n",
    "        'recall_cosines': [binding.identity(d).dot(x) / x.length() for x in unbound]\n",
    "    }"
   ]
  },
  {
   "cell_type": "code",
   "execution_count": 27,
   "metadata": {},
   "outputs": [],
   "source": [
    "pspace = Param(binding=(CircularConvolution(), VTB()), d=256, n=15) * Param(seed=range(15))"
   ]
  },
  {
   "cell_type": "code",
   "execution_count": 28,
   "metadata": {},
   "outputs": [],
   "source": [
    "df_a = pd.DataFrame(flatten(map_pspace(autobind_normalized_len, pspace)))"
   ]
  },
  {
   "cell_type": "code",
   "execution_count": 29,
   "metadata": {},
   "outputs": [],
   "source": [
    "df_a = df_a[df_a['d'] == 256].groupby(('binding', '#bindings'), sort=False).agg(\n",
    "    {'lengths': statistic(np.mean), 'recall_cosines': statistic(np.mean)})"
   ]
  },
  {
   "cell_type": "code",
   "execution_count": 30,
   "metadata": {},
   "outputs": [],
   "source": [
    "def random_bind_normalized_len(binding, d, n, seed=None):\n",
    "    rng = np.random.RandomState(seed)\n",
    "    pointers = []\n",
    "    bound = [binding.identity(d)]\n",
    "    unbound = [binding.identity(d)]\n",
    "    for i in range(n):\n",
    "        pointers.append(spa.pointer.SemanticPointer(d, rng=rng))\n",
    "        bound.append(binding.bind(bound[-1], pointers[-1]).normalized())\n",
    "        inv = bound[-1]\n",
    "        for p in reversed(pointers):\n",
    "            inv = binding.unbind(inv, p).normalized()\n",
    "        unbound.append(inv)\n",
    "    return {\n",
    "        '#bindings': list(range(n + 1)),\n",
    "        'lengths': [x.length() for x in bound],\n",
    "        'recall_cosines': [binding.identity(d).dot(x) / x.length() for x in unbound]\n",
    "    }"
   ]
  },
  {
   "cell_type": "code",
   "execution_count": 31,
   "metadata": {},
   "outputs": [],
   "source": [
    "pspace = Param(binding=(CircularConvolution(), VTB()), d=256, n=15) * Param(seed=range(15))"
   ]
  },
  {
   "cell_type": "code",
   "execution_count": 32,
   "metadata": {},
   "outputs": [],
   "source": [
    "df_b = pd.DataFrame(flatten(map_pspace(random_bind_normalized_len, pspace)))"
   ]
  },
  {
   "cell_type": "code",
   "execution_count": 33,
   "metadata": {},
   "outputs": [],
   "source": [
    "df_b = df_b[df_b['d'] == 256].groupby(('binding', '#bindings'), sort=False).agg(\n",
    "    {'lengths': statistic(np.mean), 'recall_cosines': statistic(np.mean)})"
   ]
  },
  {
   "cell_type": "code",
   "execution_count": 34,
   "metadata": {},
   "outputs": [
    {
     "data": {
      "image/png": "[encoded data removed]",
      "text/plain": [
       "<matplotlib.figure.Figure at 0x7fcc847e2160>"
      ]
     },
     "metadata": {},
     "output_type": "display_data"
    }
   ],
   "source": [
    "fig = plt.figure(figsize=(textwidth, row_height))\n",
    "\n",
    "ax1 = fig.add_subplot(1, 2, 1)\n",
    "\n",
    "for n, g in df_a.groupby('binding'):\n",
    "    x = g.index.get_level_values('#bindings')\n",
    "    ax1.plot(x, g['recall_cosines', 'mean'], label=n)\n",
    "    ax1.fill_between(x, g['recall_cosines', 'ci_l'], g['recall_cosines', 'ci_u'], alpha=0.5)\n",
    "\n",
    "ax1.set_ylim(bottom=0.)\n",
    "ax1.set_title(\"(a) Normalized auto-bindings\")\n",
    "ax1.set_xlabel(\"Repeated auto-bindings\")\n",
    "ax1.set_ylabel(r\"$s(\\mathrm{original}, \\mathrm{unbound})$\")\n",
    "\n",
    "ax2 = fig.add_subplot(1, 2, 2, sharey=ax1)\n",
    "\n",
    "for n, g in df_b.groupby('binding'):\n",
    "    x = g.index.get_level_values('#bindings')\n",
    "    ax2.plot(x, g['recall_cosines', 'mean'], label=n)\n",
    "    ax2.fill_between(x, g['recall_cosines', 'ci_l'], g['recall_cosines', 'ci_u'], alpha=0.5)\n",
    "\n",
    "ax2.set_ylim(bottom=0.)\n",
    "ax2.set_title(\"(b) Normalized binding with random vectors\")\n",
    "ax2.set_xlabel(\"Repeated random bindings\")\n",
    "ax2.legend()\n",
    "\n",
    "sns.despine(fig)\n",
    "fig.tight_layout()"
   ]
  },
  {
   "cell_type": "code",
   "execution_count": 35,
   "metadata": {},
   "outputs": [],
   "source": [
    "save_tight_fig(fig, '../../../phd-thesis/figures/bindings-normalized.pdf')"
   ]
  },
  {
   "cell_type": "markdown",
   "metadata": {
    "collapsed": true
   },
   "source": [
    "This shows still the same decline in the cosine similarity with the recovered vector. Thus, while the normalization may keep the vector in the representational range of NEF ensembles, it does not allow to recover the bound vector more precisely. This is not surprising for compressed binding operations as there is no exact inverse in the general case.\n",
    "\n",
    "For very low numbers of bindings it seems fine to use non-unitary vectors, but as soon as the number of bindings is a bit higher, unitary vectors should be used. In general VTB seems to be better suited for binding of non-unitary vectors. When binding larger numbers of non-unitary vectors, intermediary clean-up memories will be required for unbinding."
   ]
  },
  {
   "cell_type": "markdown",
   "metadata": {},
   "source": [
    "## Pairwise binding capacity\n",
    "\n",
    "Chaining a lot of binding operations is not the only thing a binding operation should perform well on. In many cases multiple pairs of items need to be stored in a trace with the possibility to retrieve an item given its bound cue. The following experiment testing this is based on experiment 1 from the [Recchia et al. paper “Encoding sequential information in semantic space models: comparing holographic reduced representation and random permutation”](https://dl.acm.org/citation.cfm?id=2810688).\n",
    "\n",
    "A vocabulary of 1000 items is created from which 500 pairs are sampled (with replacement). A number of these pairs is bound into a trace (encoding with binding) and then it is tested whether the element of a pair can be recovered given the other element."
   ]
  },
  {
   "cell_type": "code",
   "execution_count": 36,
   "metadata": {},
   "outputs": [],
   "source": [
    "def gen_vocab(d, m):\n",
    "    \"\"\"Generate a *d*-dimensional vocabulary of *m* semantic pointers (signal vectors) with Gaussian components.\"\"\"\n",
    "    vocab = spa.Vocabulary(d)\n",
    "    for i in range(m):\n",
    "        vocab.add('V' + str(i), spa.pointer.SemanticPointer(np.random.randn(d) / np.sqrt(d)))\n",
    "    return vocab"
   ]
  },
  {
   "cell_type": "code",
   "execution_count": 37,
   "metadata": {},
   "outputs": [],
   "source": [
    "class BindingExperiment(object):\n",
    "    def __init__(self, d, m):\n",
    "        self.d = d\n",
    "        self.m = m\n",
    "        self.vocab = gen_vocab(d, m)\n",
    "        \n",
    "    def get_p(self, i):\n",
    "        \"\"\"Return *i*-th semantic pointer.\"\"\"\n",
    "        return spa.pointer.SemanticPointer(self.vocab.vectors[i])\n",
    "        \n",
    "    def retrieval_accuracy(self, encoding, k, n_pairs, n_trials):\n",
    "        \"\"\"Determine the retrieval average for *k* bound pairs sampled\n",
    "        from *n_pairs* and averaged over *n_trials*.\"\"\"\n",
    "        # Sample pairs with replacement\n",
    "        x_indices = np.random.randint(len(self.vocab), size=n_pairs)\n",
    "        y_indices = np.random.randint(len(self.vocab), size=n_pairs)\n",
    "        \n",
    "        correct = 0\n",
    "        for i in range(n_trials):\n",
    "            to_bind = np.random.randint(n_pairs, size=k)  # Sample k pairs for memory vector\n",
    "            bound = encoding.bind(\n",
    "                [self.get_p(x_indices[i]) for i in to_bind],\n",
    "                [self.get_p(y_indices[i]) for i in to_bind])           \n",
    "            retrieval_idx = to_bind[np.random.randint(k)]\n",
    "            retrieval_cue = self.get_p(y_indices[retrieval_idx])\n",
    "            retrieved = encoding.retrieve(bound, retrieval_cue, self.vocab)\n",
    "            correct += retrieved == x_indices[retrieval_idx]\n",
    "            \n",
    "        return correct / n_trials"
   ]
  },
  {
   "cell_type": "markdown",
   "metadata": {},
   "source": [
    "### Encoding with binding"
   ]
  },
  {
   "cell_type": "code",
   "execution_count": 38,
   "metadata": {},
   "outputs": [],
   "source": [
    "pspace = (\n",
    "    Param(binding=[CircularConvolution(), VTB()]) *\n",
    "    Param(d=[16 * 16, 22 * 22, 32 * 32, 45 * 45]) *\n",
    "    Param(k=np.arange(2, 30, 4), m=1000, n_pairs=500, n_trials=1000))"
   ]
  },
  {
   "cell_type": "code",
   "execution_count": 39,
   "metadata": {},
   "outputs": [],
   "source": [
    "def run_binding_experiment(d, k, m, n_pairs, n_trials, binding):\n",
    "    return {'accuracy': BindingExperiment(d, m).retrieval_accuracy(\n",
    "        EncodeWithBinding(binding, d), k, n_pairs, n_trials)}\n",
    "\n",
    "filename = 'binding_experiment.pkl'\n",
    "if os.path.exists(filename):\n",
    "    df_b = pd.read_pickle(filename)\n",
    "else:\n",
    "    df_b = pd.DataFrame(map_pspace_parallel(run_binding_experiment, pspace, backend='threading'))\n",
    "    df_b.to_pickle(filename)"
   ]
  },
  {
   "cell_type": "code",
   "execution_count": 40,
   "metadata": {},
   "outputs": [],
   "source": [
    "l, u = proportion_confint(df_b['accuracy'] * df_b['n_trials'], df_b['n_trials'], method='beta')\n",
    "df_b['accuracy_l'] = l\n",
    "df_b['accuracy_u'] = u\n",
    "\n",
    "df_b['accuracy_l'].fillna(0., inplace=True)\n",
    "df_b['accuracy_u'].fillna(1., inplace=True)"
   ]
  },
  {
   "cell_type": "markdown",
   "metadata": {
    "collapsed": true
   },
   "source": [
    "### Encoding with tagging\n",
    "\n",
    "Encoding with tagging performs worse than encoding with binding. Using a unitary circular convolution matrix, unitary vector-derived transformation matrix, a shift-by-one matrix, and orthogonal matrices all perform about the same. Because the matrix is repeatedly applied, using a non-unitary circular convolution matrix or a non-unitary vector-derived transformation matrix is detrimental.yy"
   ]
  },
  {
   "cell_type": "code",
   "execution_count": 41,
   "metadata": {},
   "outputs": [],
   "source": [
    "class CircconvTagging(object):\n",
    "    def __init__(self, unitary=True):\n",
    "        self.unitary = unitary\n",
    "        \n",
    "    def __call__(self, d, k, m, n_pairs, n_trials):\n",
    "        p = spa.pointer.SemanticPointer(d)\n",
    "        if self.unitary:\n",
    "            p = p.unitary()\n",
    "        return {'accuracy': BindingExperiment(d, m).retrieval_accuracy(\n",
    "            EncodeWithTagging(p.get_convolution_matrix(), 30), k, n_pairs, n_trials)}\n",
    "    \n",
    "    def __str__(self):\n",
    "        s = \"Circular convolution\"\n",
    "        if self.unitary:\n",
    "            s += \" (unitary)\"\n",
    "        return s\n",
    "    \n",
    "    def __hash__(self):\n",
    "        return hash(str(self))\n",
    "    \n",
    "    def __eq__(self, other):\n",
    "        return isinstance(other, CircconvTagging) and self.unitary == other.unitary"
   ]
  },
  {
   "cell_type": "code",
   "execution_count": 42,
   "metadata": {},
   "outputs": [],
   "source": [
    "class VtbTagging(object):\n",
    "    def __init__(self, unitary=True):\n",
    "        self.unitary = unitary\n",
    "        \n",
    "    def __call__(self, d, k, m, n_pairs, n_trials):\n",
    "        if self.unitary:\n",
    "            p = VTB().unitary(d, np.random)\n",
    "        else:\n",
    "            p = spa.pointer.SemanticPointer(d)\n",
    "        mat = d**0.25 * np.kron(np.eye(int(np.sqrt(d))), p.v.reshape((int(np.sqrt(d)), int(np.sqrt(d)))))\n",
    "        return {'accuracy': BindingExperiment(d, m).retrieval_accuracy(\n",
    "            EncodeWithTagging(mat, 30), k, n_pairs, n_trials)}\n",
    "    \n",
    "    def __str__(self):\n",
    "        s = \"VTB\"\n",
    "        if self.unitary:\n",
    "            s += \" (unitary)\"\n",
    "        return s\n",
    "\n",
    "    def __hash__(self):\n",
    "        return hash(str(self))\n",
    "\n",
    "    def __eq__(self, other):\n",
    "        return isinstance(other, VtbTagging) and self.unitary == other.unitary"
   ]
  },
  {
   "cell_type": "code",
   "execution_count": 43,
   "metadata": {},
   "outputs": [],
   "source": [
    "class ShiftTagging(object):\n",
    "    def __call__(self, d, k, m, n_pairs, n_trials):\n",
    "        mat = np.roll(np.eye(d), -1, axis=0)\n",
    "        return {'accuracy': BindingExperiment(d, m).retrieval_accuracy(\n",
    "            EncodeWithTagging(mat, 30), k, n_pairs, n_trials)}\n",
    "    \n",
    "    def __str__(self):\n",
    "        return \"Shift\"\n",
    "    \n",
    "    def __hash__(self):\n",
    "        return hash(str(self))\n",
    "    \n",
    "    def __eq__(self, other):\n",
    "        return isinstance(other, ShiftTagging)"
   ]
  },
  {
   "cell_type": "code",
   "execution_count": 44,
   "metadata": {},
   "outputs": [],
   "source": [
    "class OrthogonalTagging(object):\n",
    "    def __call__(self, d, k, m, n_pairs, n_trials):\n",
    "        transformation = np.random.randn(d, d)\n",
    "        for i in range(1, d):\n",
    "            y = -np.dot(transformation[:i, i:], transformation[i, i:])\n",
    "            A = transformation[:i, :i]\n",
    "            transformation[i, :i] = np.linalg.solve(A, y)\n",
    "        transformation /= np.linalg.norm(transformation, axis=1)[:, None]\n",
    "        return {'accuracy': BindingExperiment(d, m).retrieval_accuracy(\n",
    "            EncodeWithTagging(transformation, 30), k, n_pairs, n_trials)}\n",
    "    \n",
    "    def __str__(self):\n",
    "        return \"Orthogonal matrix\"\n",
    "\n",
    "    def __hash__(self):\n",
    "        return hash(str(self))\n",
    "    \n",
    "    def __eq__(self, other):\n",
    "        return isinstance(other, OrthogonalTagging)"
   ]
  },
  {
   "cell_type": "code",
   "execution_count": 45,
   "metadata": {},
   "outputs": [],
   "source": [
    "def run_tagging_experiment(method, **kwargs):\n",
    "    return method(**kwargs)"
   ]
  },
  {
   "cell_type": "code",
   "execution_count": 46,
   "metadata": {},
   "outputs": [],
   "source": [
    "pspace = (\n",
    "    Param(method=[\n",
    "        CircconvTagging(True), CircconvTagging(False),\n",
    "        VtbTagging(True), VtbTagging(False),\n",
    "        OrthogonalTagging(), ShiftTagging()]) *\n",
    "    Param(d=[16 * 16, 22 * 22, 32 * 32, 45 * 45]) *\n",
    "    Param(k=np.arange(2, 30, 4), m=1000, n_pairs=500, n_trials=1000))"
   ]
  },
  {
   "cell_type": "code",
   "execution_count": 47,
   "metadata": {},
   "outputs": [],
   "source": [
    "filename = 'tagging_experiment.pkl'\n",
    "if os.path.exists(filename):\n",
    "    df_t = pd.read_pickle(filename)\n",
    "else:\n",
    "    df_t = pd.DataFrame(map_pspace_parallel(run_tagging_experiment, pspace, backend='threading'))\n",
    "    df_t.to_pickle(filename)"
   ]
  },
  {
   "cell_type": "code",
   "execution_count": 48,
   "metadata": {},
   "outputs": [],
   "source": [
    "l, u = proportion_confint(df_t['accuracy'] * df_t['n_trials'], df_t['n_trials'], method='beta')\n",
    "df_t['accuracy_l'] = l\n",
    "df_t['accuracy_u'] = u\n",
    "\n",
    "df_t['accuracy_l'].fillna(0., inplace=True)\n",
    "df_t['accuracy_u'].fillna(1., inplace=True)"
   ]
  },
  {
   "cell_type": "code",
   "execution_count": 49,
   "metadata": {},
   "outputs": [
    {
     "data": {
      "image/png": "[encoded data removed]",
      "text/plain": [
       "<matplotlib.figure.Figure at 0x7fcc84968c18>"
      ]
     },
     "metadata": {},
     "output_type": "display_data"
    }
   ],
   "source": [
    "fig = plt.figure(figsize=(textwidth, row_height))\n",
    "\n",
    "ax1 = fig.add_subplot(1, 2, 1)\n",
    "for i, (n, g) in enumerate(df_b.groupby('binding', sort=False)):\n",
    "    for d, hue_g in g.groupby('d'):\n",
    "        ax1.errorbar(\n",
    "            hue_g['k'], hue_g['accuracy'],\n",
    "                yerr=(hue_g['accuracy'] - hue_g['accuracy_l'], hue_g['accuracy_u'] - hue_g['accuracy']),\n",
    "            fmt='--' if n == CircularConvolution() else '-',\n",
    "            alpha=0.5 if n == CircularConvolution() else 1.,\n",
    "            marker='o', label=\"$d = {}$\".format(d) if n == VTB() else None)\n",
    "        labeled = True\n",
    "    ax1.set_prop_cycle(None)\n",
    "    \n",
    "ax1.set_ylim(bottom=0.)\n",
    "ax1.legend()\n",
    "ax1.set_title(\"(a) Encoding with binding\")\n",
    "ax1.set_xlabel(\"Number of pairs stored in trace ($k$)\")\n",
    "ax1.set_ylabel(\"Retrieval accuracy\")\n",
    "\n",
    "xs = df_t[df_t['method'].isin([CircconvTagging(True), VtbTagging(True), ShiftTagging(), OrthogonalTagging()])]\n",
    "styles = {VtbTagging(True): '-', CircconvTagging(True): '--', ShiftTagging(): '--', OrthogonalTagging(): '--'}\n",
    "ax2 = fig.add_subplot(1, 2, 2, sharex=ax1, sharey=ax1)\n",
    "for i, (n, g) in enumerate(xs.groupby('method', sort=False)):\n",
    "    for d, hue_g in g.groupby('d'):\n",
    "        ax2.errorbar(\n",
    "            hue_g['k'], hue_g['accuracy'],\n",
    "                yerr=(hue_g['accuracy'] - hue_g['accuracy_l'], hue_g['accuracy_u'] - hue_g['accuracy']),\n",
    "            fmt=styles[n], alpha=0.5 if not isinstance(n, VtbTagging) else 1.,\n",
    "            marker='o', label=\"$d = {}$\".format(d) if n == VtbTagging(True) else None)\n",
    "        labeled = True\n",
    "    ax2.set_prop_cycle(None)\n",
    "    \n",
    "ax2.set_title(\"(b) Encoding with tagging\")\n",
    "ax2.set_xlabel(\"Number of pairs stored in trace ($k$)\")\n",
    "\n",
    "sns.despine(fig)\n",
    "fig.tight_layout()"
   ]
  },
  {
   "cell_type": "code",
   "execution_count": 50,
   "metadata": {},
   "outputs": [],
   "source": [
    "save_tight_fig(fig, '../../../phd-thesis/figures/encoding.pdf')"
   ]
  },
  {
   "cell_type": "code",
   "execution_count": 51,
   "metadata": {},
   "outputs": [
    {
     "data": {
      "image/png": "[encoded data removed]",
      "text/plain": [
       "<matplotlib.figure.Figure at 0x7fcc8701bcc0>"
      ]
     },
     "metadata": {},
     "output_type": "display_data"
    }
   ],
   "source": [
    "fig = plt.figure(figsize=single_fig_size)\n",
    "\n",
    "xs = df_t[df_t['method'].isin([CircconvTagging(False), VtbTagging(False)])]\n",
    "styles = {VtbTagging(False): '-', CircconvTagging(False): '--'}\n",
    "\n",
    "ax = fig.add_subplot(1, 1, 1)\n",
    "for i, (n, g) in enumerate(xs.groupby('method', sort=False)):\n",
    "    for d, hue_g in g.groupby('d'):\n",
    "        ax.errorbar(\n",
    "            hue_g['k'], hue_g['accuracy'],\n",
    "                yerr=(hue_g['accuracy'] - hue_g['accuracy_l'], hue_g['accuracy_u'] - hue_g['accuracy']),\n",
    "            fmt=styles[n], alpha=0.5 if not isinstance(n, VtbTagging) else 1.,\n",
    "            marker='o', label=\"$d = {}$\".format(d) if n == VtbTagging(False) else None)\n",
    "        labeled = True\n",
    "    ax.set_prop_cycle(None)\n",
    "\n",
    "ax.legend()\n",
    "ax.set_title(\"Encoding with non-unitary tagging\")\n",
    "ax.set_xlabel(\"Number of pairs stored in trace ($k$)\")\n",
    "ax.set_ylabel(\"Retrieval accuracy\")\n",
    "\n",
    "sns.despine(fig)\n",
    "fig.tight_layout()"
   ]
  },
  {
   "cell_type": "code",
   "execution_count": 52,
   "metadata": {},
   "outputs": [],
   "source": [
    "save_tight_fig(fig, '../../../phd-thesis/figures/encoding-nonunitary-tagging.pdf')"
   ]
  },
  {
   "cell_type": "code",
   "execution_count": null,
   "metadata": {},
   "outputs": [],
   "source": []
  }
 ],
 "metadata": {
  "kernelspec": {
   "display_name": "Python 3",
   "language": "python",
   "name": "python3"
  },
  "language_info": {
   "codemirror_mode": {
    "name": "ipython",
    "version": 3
   },
   "file_extension": ".py",
   "mimetype": "text/x-python",
   "name": "python",
   "nbconvert_exporter": "python",
   "pygments_lexer": "ipython3",
   "version": "3.6.1"
  }
 },
 "nbformat": 4,
 "nbformat_minor": 2
}
