{
 "cells": [
  {
   "cell_type": "code",
   "execution_count": 1,
   "metadata": {},
   "outputs": [],
   "source": [
    "%matplotlib inline"
   ]
  },
  {
   "cell_type": "code",
   "execution_count": 2,
   "metadata": {},
   "outputs": [],
   "source": [
    "import numpy as np"
   ]
  },
  {
   "cell_type": "code",
   "execution_count": 3,
   "metadata": {},
   "outputs": [],
   "source": [
    "from nengo_extras.plot_spikes import plot_spikes, preprocess_spikes"
   ]
  },
  {
   "cell_type": "code",
   "execution_count": 4,
   "metadata": {},
   "outputs": [],
   "source": [
    "from matplotlib.ticker import ScalarFormatter"
   ]
  },
  {
   "cell_type": "code",
   "execution_count": 5,
   "metadata": {},
   "outputs": [],
   "source": [
    "sns.set('paper', None, None, font_scale=0.8, rc={'lines.linewidth': 1.})"
   ]
  },
  {
   "cell_type": "code",
   "execution_count": 6,
   "metadata": {},
   "outputs": [],
   "source": [
    "col_spacing = 0.25\n",
    "full_w = 7.\n",
    "col_w = (full_w - col_spacing) / 2."
   ]
  },
  {
   "cell_type": "code",
   "execution_count": 7,
   "metadata": {},
   "outputs": [],
   "source": [
    "data = np.load('../data/cogsci-spikes.npz')"
   ]
  },
  {
   "cell_type": "code",
   "execution_count": 8,
   "metadata": {},
   "outputs": [],
   "source": [
    "enc = data['m_tf_post_enc']"
   ]
  },
  {
   "cell_type": "code",
   "execution_count": 9,
   "metadata": {},
   "outputs": [],
   "source": [
    "weights = np.einsum('kj,ijl', enc[::100], data['m_tf_weights'][:, -16:, ::400])"
   ]
  },
  {
   "cell_type": "code",
   "execution_count": 10,
   "metadata": {},
   "outputs": [],
   "source": [
    "weights_flattened = weights.reshape((weights.shape[0], -1))"
   ]
  },
  {
   "cell_type": "code",
   "execution_count": 11,
   "metadata": {},
   "outputs": [],
   "source": [
    "weights_flattened = np.sort(weights_flattened, axis=1)"
   ]
  },
  {
   "cell_type": "code",
   "execution_count": 12,
   "metadata": {},
   "outputs": [
    {
     "data": {
      "image/png": "[encoded data removed]",
      "text/plain": [
       "<matplotlib.figure.Figure at 0x7f7f75021d68>"
      ]
     },
     "metadata": {},
     "output_type": "display_data"
    }
   ],
   "source": [
    "fig = plt.figure(figsize=(col_w, 1.75))\n",
    "\n",
    "with sns.color_palette('husl', n_colors=int(1.5 * np.prod(weights_flattened.shape[1])), desat=0.8):\n",
    "    ax1 = fig.add_subplot(2, 1, 1)\n",
    "    ax1.plot(data['t'], weights_flattened, lw=0.3);\n",
    "    ax1.xaxis.set_visible(False)\n",
    "    ticker = ScalarFormatter()\n",
    "    ticker.set_powerlimits((0, 0))\n",
    "    ax1.yaxis.set_major_formatter(ticker)\n",
    "    ax1.set_ylabel(\"Weight\")\n",
    "\n",
    "ax2 = fig.add_subplot(2, 1, 2, sharex=ax1)\n",
    "plot_spikes(\n",
    "    *preprocess_spikes(\n",
    "        data['t'], data['stm_spikes'],\n",
    "        num=40, sample_size=200, sample_filter_width=.2, cluster_filter_width=0.1),\n",
    "    contrast_scale=0.5, ax=ax2)\n",
    "ax2.set_xlabel(\"Time [s]\")\n",
    "ax2.set_ylabel(\"Neuron\")\n",
    "\n",
    "sns.despine(fig)\n",
    "sns.despine(ax=ax1, bottom=True)\n",
    "fig.tight_layout(h_pad=0)"
   ]
  },
  {
   "cell_type": "code",
   "execution_count": 13,
   "metadata": {},
   "outputs": [],
   "source": [
    "fig.savefig('../../cogsci18-cue/plots/spikes.pdf',  bbox_inches='tight', pad_inches=0., dpi=600)"
   ]
  },
  {
   "cell_type": "code",
   "execution_count": null,
   "metadata": {},
   "outputs": [],
   "source": []
  }
 ],
 "metadata": {
  "kernelspec": {
   "display_name": "Python 3",
   "language": "python",
   "name": "python3"
  },
  "language_info": {
   "codemirror_mode": {
    "name": "ipython",
    "version": 3
   },
   "file_extension": ".py",
   "mimetype": "text/x-python",
   "name": "python",
   "nbconvert_exporter": "python",
   "pygments_lexer": "ipython3",
   "version": "3.6.1"
  }
 },
 "nbformat": 4,
 "nbformat_minor": 2
}
